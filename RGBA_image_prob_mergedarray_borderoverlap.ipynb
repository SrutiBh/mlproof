{
 "cells": [
  {
   "cell_type": "code",
   "execution_count": 1,
   "metadata": {
    "collapsed": false
   },
   "outputs": [
    {
     "name": "stderr",
     "output_type": "stream",
     "text": [
      "Using gpu device 0: GeForce GTX TITAN (CNMeM is disabled, CuDNN 4007)\n",
      "/home/d/nolearn/local/lib/python2.7/site-packages/theano/tensor/signal/downsample.py:6: UserWarning: downsample module has been moved to the theano.tensor.signal.pool module.\n",
      "  \"downsample module has been moved to the theano.tensor.signal.pool module.\")\n"
     ]
    }
   ],
   "source": [
    "%load_ext autoreload\n",
    "%autoreload 2\n",
    "\n",
    "import mlproof as mlp\n",
    "import mlproof.nets as nets\n",
    "\n",
    "import numpy as np\n",
    "\n",
    "from nolearn.lasagne.visualize import plot_loss\n",
    "from nolearn.lasagne.visualize import plot_conv_weights\n",
    "from nolearn.lasagne.visualize import plot_conv_activity\n",
    "from nolearn.lasagne.visualize import plot_occlusion\n",
    "\n",
    "from matplotlib.pyplot import imshow\n",
    "import matplotlib.pyplot as plt\n",
    "%matplotlib inline"
   ]
  },
  {
   "cell_type": "code",
   "execution_count": 9,
   "metadata": {
    "collapsed": false
   },
   "outputs": [
    {
     "name": "stdout",
     "output_type": "stream",
     "text": [
      "CNN configuration: \n",
      "    Our CNN with image, prob, merged_array, border_overlap as RGBA.\n",
      "    \n"
     ]
    }
   ],
   "source": [
    "cnn = nets.RGBANet()"
   ]
  },
  {
   "cell_type": "code",
   "execution_count": 3,
   "metadata": {
    "collapsed": false
   },
   "outputs": [
    {
     "name": "stdout",
     "output_type": "stream",
     "text": [
      "Loaded /home/d/patches/cylinder_small1/ in 0.000551223754883 seconds.\n"
     ]
    }
   ],
   "source": [
    "X_train, y_train, X_test, y_test = mlp.Patch.load('cylinder_small1')"
   ]
  },
  {
   "cell_type": "code",
   "execution_count": 4,
   "metadata": {
    "collapsed": false
   },
   "outputs": [],
   "source": [
    "X_train_rgba = np.concatenate((X_train['image'], \n",
    "                               X_train['prob'], \n",
    "                               X_train['merged_array'],\n",
    "                               X_train['border_overlap']), 1)"
   ]
  },
  {
   "cell_type": "code",
   "execution_count": 5,
   "metadata": {
    "collapsed": true
   },
   "outputs": [],
   "source": [
    "X_test_rgba = np.concatenate((X_test['image'], \n",
    "                              X_test['prob'], \n",
    "                              X_test['merged_array'],\n",
    "                              X_test['border_overlap']), 1)"
   ]
  },
  {
   "cell_type": "code",
   "execution_count": 10,
   "metadata": {
    "collapsed": false
   },
   "outputs": [
    {
     "name": "stdout",
     "output_type": "stream",
     "text": [
      "# Neural Network with 386658 learnable parameters\n",
      "\n",
      "## Layer information\n",
      "\n",
      "  #  name      size\n",
      "---  --------  --------\n",
      "  0  input     4x75x75\n",
      "  1  conv1     16x63x63\n",
      "  2  pool1     16x31x31\n",
      "  3  conv2     16x19x19\n",
      "  4  pool2     16x9x9\n",
      "  5  hidden3   256\n",
      "  6  dropout3  256\n",
      "  7  output    2\n",
      "\n",
      "  epoch    train loss    valid loss    train/val    valid acc  dur\n",
      "-------  ------------  ------------  -----------  -----------  ------\n",
      "      1       \u001b[36m0.55906\u001b[0m       \u001b[32m0.45025\u001b[0m      1.24166      0.79471  12.15s\n",
      "      2       \u001b[36m0.45327\u001b[0m       \u001b[32m0.40484\u001b[0m      1.11964      0.81979  12.10s\n",
      "      3       \u001b[36m0.41291\u001b[0m       \u001b[32m0.37825\u001b[0m      1.09165      0.83258  12.28s\n",
      "      4       \u001b[36m0.38741\u001b[0m       0.37970      1.02032      0.83018  12.45s\n",
      "      5       \u001b[36m0.36957\u001b[0m       \u001b[32m0.36322\u001b[0m      1.01748      0.84560  12.45s\n",
      "      6       \u001b[36m0.35222\u001b[0m       \u001b[32m0.33994\u001b[0m      1.03613      0.85756  12.45s\n",
      "      7       \u001b[36m0.33499\u001b[0m       0.37163      0.90141      0.83614  12.45s\n",
      "      8       \u001b[36m0.32380\u001b[0m       \u001b[32m0.33193\u001b[0m      0.97549      0.85691  12.46s\n",
      "      9       \u001b[36m0.31139\u001b[0m       0.33787      0.92161      0.85937  12.47s\n",
      "     10       \u001b[36m0.30192\u001b[0m       0.35105      0.86006      0.85139  12.47s\n",
      "     11       \u001b[36m0.29292\u001b[0m       \u001b[32m0.28357\u001b[0m      1.03298      0.88014  12.46s\n",
      "     12       \u001b[36m0.28475\u001b[0m       0.30059      0.94731      0.87516  12.46s\n",
      "     13       \u001b[36m0.27697\u001b[0m       0.29425      0.94127      0.87861  12.47s\n",
      "     14       \u001b[36m0.26572\u001b[0m       0.28978      0.91695      0.88058  12.46s\n",
      "     15       \u001b[36m0.25720\u001b[0m       0.30373      0.84682      0.87402  12.46s\n",
      "     16       \u001b[36m0.25291\u001b[0m       \u001b[32m0.28209\u001b[0m      0.89658      0.88304  12.46s\n",
      "     17       \u001b[36m0.24366\u001b[0m       0.30804      0.79100      0.87091  12.46s\n",
      "     18       \u001b[36m0.23418\u001b[0m       \u001b[32m0.26406\u001b[0m      0.88684      0.89031  12.47s\n",
      "     19       \u001b[36m0.22624\u001b[0m       \u001b[32m0.26289\u001b[0m      0.86059      0.89101  12.46s\n",
      "     20       \u001b[36m0.21852\u001b[0m       \u001b[32m0.25175\u001b[0m      0.86799      0.89621  12.29s\n",
      "     21       \u001b[36m0.21078\u001b[0m       0.26890      0.78386      0.88473  12.21s\n",
      "     22       \u001b[36m0.20448\u001b[0m       \u001b[32m0.23565\u001b[0m      0.86773      0.90200  12.22s\n",
      "     23       \u001b[36m0.19830\u001b[0m       \u001b[32m0.22684\u001b[0m      0.87420      0.90604  12.22s\n",
      "     24       \u001b[36m0.18860\u001b[0m       0.22863      0.82492      0.90823  12.22s\n",
      "     25       \u001b[36m0.18252\u001b[0m       \u001b[32m0.21757\u001b[0m      0.83894      0.91265  12.36s\n",
      "     26       \u001b[36m0.17385\u001b[0m       0.22121      0.78588      0.90751  12.61s\n",
      "     27       \u001b[36m0.16781\u001b[0m       0.22632      0.74146      0.90391  12.61s\n",
      "     28       \u001b[36m0.16102\u001b[0m       \u001b[32m0.18475\u001b[0m      0.87152      0.92906  12.61s\n",
      "     29       \u001b[36m0.15582\u001b[0m       0.19899      0.78305      0.91877  12.61s\n",
      "     30       \u001b[36m0.14585\u001b[0m       0.18806      0.77555      0.92468  12.61s\n",
      "     31       \u001b[36m0.14020\u001b[0m       0.18917      0.74117      0.92179  12.61s\n",
      "     32       \u001b[36m0.13460\u001b[0m       \u001b[32m0.15671\u001b[0m      0.85893      0.94670  12.61s\n",
      "     33       \u001b[36m0.13074\u001b[0m       0.15970      0.81862      0.94244  12.61s\n",
      "     34       \u001b[36m0.12178\u001b[0m       \u001b[32m0.14823\u001b[0m      0.82161      0.94807  12.61s\n",
      "     35       \u001b[36m0.11506\u001b[0m       0.17013      0.67626      0.93353  12.62s\n",
      "     36       0.11617       0.18730      0.62024      0.92413  12.62s\n",
      "     37       \u001b[36m0.10654\u001b[0m       0.14955      0.71243      0.94675  12.61s\n",
      "     38       \u001b[36m0.10370\u001b[0m       \u001b[32m0.14336\u001b[0m      0.72336      0.94693  12.61s\n",
      "     39       \u001b[36m0.09756\u001b[0m       0.15126      0.64495      0.94288  12.61s\n",
      "     40       \u001b[36m0.09240\u001b[0m       \u001b[32m0.13898\u001b[0m      0.66481      0.95031  12.61s\n",
      "     41       \u001b[36m0.08649\u001b[0m       \u001b[32m0.11423\u001b[0m      0.75722      0.96343  12.61s\n",
      "     42       \u001b[36m0.08283\u001b[0m       0.16089      0.51479      0.93768  12.61s\n",
      "     43       0.08547       0.13461      0.63494      0.95272  12.61s\n",
      "     44       \u001b[36m0.07449\u001b[0m       \u001b[32m0.10685\u001b[0m      0.69719      0.96890  12.61s\n",
      "     45       \u001b[36m0.07039\u001b[0m       0.11848      0.59413      0.95983  12.62s\n",
      "     46       0.07153       0.11358      0.62976      0.96239  12.61s\n",
      "     47       \u001b[36m0.06673\u001b[0m       \u001b[32m0.10258\u001b[0m      0.65057      0.96726  12.61s\n",
      "     48       \u001b[36m0.06164\u001b[0m       \u001b[32m0.10182\u001b[0m      0.60542      0.96699  12.61s\n",
      "     49       \u001b[36m0.06085\u001b[0m       \u001b[32m0.09536\u001b[0m      0.63813      0.97076  12.61s\n",
      "     50       \u001b[36m0.05693\u001b[0m       \u001b[32m0.09413\u001b[0m      0.60478      0.97202  12.61s\n",
      "     51       \u001b[36m0.05495\u001b[0m       0.10693      0.51384      0.96355  12.61s\n",
      "     52       \u001b[36m0.04956\u001b[0m       \u001b[32m0.09010\u001b[0m      0.55003      0.97109  12.61s\n",
      "     53       0.05019       \u001b[32m0.08092\u001b[0m      0.62028      0.97650  12.61s\n",
      "     54       \u001b[36m0.04813\u001b[0m       0.08148      0.59072      0.97720  12.61s\n",
      "     55       \u001b[36m0.04389\u001b[0m       0.08460      0.51881      0.97388  12.61s\n",
      "     56       \u001b[36m0.04340\u001b[0m       \u001b[32m0.07173\u001b[0m      0.60503      0.97945  12.61s\n",
      "     57       \u001b[36m0.04147\u001b[0m       \u001b[32m0.07122\u001b[0m      0.58229      0.97907  12.61s\n",
      "     58       \u001b[36m0.03957\u001b[0m       0.09260      0.42735      0.97169  12.61s\n",
      "     59       \u001b[36m0.03817\u001b[0m       0.07181      0.53161      0.98043  12.61s\n",
      "     60       \u001b[36m0.03590\u001b[0m       \u001b[32m0.06421\u001b[0m      0.55907      0.98103  12.61s\n",
      "     61       \u001b[36m0.03428\u001b[0m       \u001b[32m0.06350\u001b[0m      0.53994      0.98339  12.50s\n",
      "     62       \u001b[36m0.03251\u001b[0m       \u001b[32m0.06092\u001b[0m      0.53361      0.98273  12.37s\n",
      "     63       \u001b[36m0.03094\u001b[0m       0.06226      0.49699      0.98420  12.68s\n",
      "     64       0.03109       0.07136      0.43571      0.98005  12.90s\n",
      "     65       \u001b[36m0.02968\u001b[0m       0.06704      0.44267      0.98125  12.89s\n",
      "     66       \u001b[36m0.02956\u001b[0m       \u001b[32m0.05784\u001b[0m      0.51105      0.98415  12.89s\n",
      "     67       \u001b[36m0.02607\u001b[0m       0.10246      0.25447      0.96616  12.88s\n",
      "     68       0.02812       0.06186      0.45466      0.98584  12.88s\n",
      "     69       \u001b[36m0.02472\u001b[0m       \u001b[32m0.05543\u001b[0m      0.44587      0.98863  12.89s\n",
      "     70       \u001b[36m0.02423\u001b[0m       0.05806      0.41733      0.98661  12.89s\n",
      "     71       \u001b[36m0.02359\u001b[0m       \u001b[32m0.05295\u001b[0m      0.44542      0.98912  12.60s\n",
      "     72       \u001b[36m0.02219\u001b[0m       \u001b[32m0.05157\u001b[0m      0.43033      0.98961  12.51s\n",
      "     73       \u001b[36m0.01993\u001b[0m       0.05234      0.38080      0.98879  12.51s\n",
      "     74       0.02158       0.05997      0.35986      0.98568  12.79s\n",
      "     75       0.02063       \u001b[32m0.05093\u001b[0m      0.40507      0.98847  12.88s\n",
      "     76       \u001b[36m0.01850\u001b[0m       0.05539      0.33398      0.98912  12.87s\n",
      "     77       0.01885       0.05427      0.34735      0.98814  12.87s\n",
      "     78       \u001b[36m0.01782\u001b[0m       0.05844      0.30490      0.98628  12.87s\n",
      "     79       \u001b[36m0.01588\u001b[0m       \u001b[32m0.05050\u001b[0m      0.31437      0.98923  12.87s\n",
      "     80       0.01871       \u001b[32m0.04958\u001b[0m      0.37735      0.99109  12.88s\n",
      "     81       0.01927       0.05344      0.36064      0.98972  12.88s\n",
      "     82       \u001b[36m0.01530\u001b[0m       0.05292      0.28907      0.98792  12.87s\n",
      "     83       0.01570       \u001b[32m0.04914\u001b[0m      0.31957      0.98956  12.87s\n",
      "     84       0.01640       \u001b[32m0.04857\u001b[0m      0.33775      0.99136  12.88s\n",
      "     85       0.01603       0.04905      0.32693      0.99038  12.88s\n",
      "     86       0.01611       0.04898      0.32892      0.99054  12.87s\n",
      "     87       \u001b[36m0.01328\u001b[0m       \u001b[32m0.04821\u001b[0m      0.27547      0.99011  12.87s\n",
      "     88       0.01384       0.05333      0.25957      0.98956  12.88s\n",
      "     89       \u001b[36m0.01209\u001b[0m       0.05443      0.22203      0.98945  12.87s\n",
      "     90       0.01222       0.05176      0.23616      0.98972  12.88s\n",
      "     91       0.01326       0.05442      0.24358      0.98841  12.88s\n",
      "     92       0.01374       0.06316      0.21749      0.98556  12.88s\n",
      "     93       0.01211       0.05103      0.23729      0.98978  12.88s\n",
      "     94       \u001b[36m0.00964\u001b[0m       0.04919      0.19590      0.99103  12.88s\n",
      "     95       0.01098       0.05324      0.20616      0.99021  12.88s\n",
      "     96       0.01092       0.05313      0.20558      0.98939  12.88s\n",
      "     97       0.01045       0.05090      0.20528      0.99136  12.88s\n",
      "     98       0.00992       0.05197      0.19090      0.98939  12.88s\n",
      "     99       \u001b[36m0.00844\u001b[0m       0.05147      0.16399      0.99005  12.88s\n",
      "    100       0.00894       0.05463      0.16359      0.98972  12.88s\n",
      "    101       0.00893       0.05004      0.17837      0.99169  12.88s\n",
      "    102       0.00953       0.05218      0.18253      0.99005  12.88s\n",
      "    103       0.00907       0.05687      0.15948      0.99005  12.88s\n",
      "    104       0.00960       \u001b[32m0.04561\u001b[0m      0.21047      0.99240  12.88s\n",
      "    105       0.00999       0.05924      0.16857      0.98710  12.88s\n",
      "    106       0.00950       0.05299      0.17935      0.99109  12.88s\n",
      "    107       0.00892       0.05058      0.17643      0.99191  12.88s\n",
      "    108       \u001b[36m0.00811\u001b[0m       0.05638      0.14377      0.98972  12.87s\n",
      "    109       0.00842       0.05866      0.14346      0.98841  12.87s\n",
      "    110       \u001b[36m0.00757\u001b[0m       0.05617      0.13483      0.98939  12.88s\n",
      "    111       0.00818       0.05233      0.15636      0.99251  12.87s\n",
      "    112       \u001b[36m0.00721\u001b[0m       0.05179      0.13927      0.99038  12.87s\n",
      "    113       0.00810       0.05297      0.15296      0.99136  12.86s\n",
      "    114       0.00730       0.05369      0.13598      0.99027  12.86s\n",
      "    115       \u001b[36m0.00714\u001b[0m       0.05077      0.14058      0.99038  12.51s\n",
      "    116       \u001b[36m0.00673\u001b[0m       0.05225      0.12880      0.99103  12.50s\n",
      "    117       \u001b[36m0.00570\u001b[0m       0.06821      0.08353      0.98775  12.51s\n",
      "    118       0.00686       0.04864      0.14098      0.99076  12.67s\n",
      "    119       0.00615       0.05782      0.10642      0.99070  12.86s\n",
      "    120       \u001b[36m0.00564\u001b[0m       0.06282      0.08983      0.98874  12.86s\n",
      "    121       0.00631       0.04995      0.12630      0.99131  12.71s\n",
      "    122       0.00643       0.05243      0.12261      0.99142  12.54s\n",
      "    123       0.00589       0.05621      0.10474      0.99011  12.55s\n",
      "    124       0.00672       0.05714      0.11766      0.98835  12.79s\n",
      "    125       0.00671       0.05745      0.11685      0.99038  12.87s\n",
      "    126       0.00589       0.05770      0.10213      0.99005  12.87s\n",
      "    127       \u001b[36m0.00512\u001b[0m       0.05080      0.10075      0.99103  12.87s\n",
      "    128       0.00617       0.05699      0.10828      0.99142  12.87s\n",
      "    129       0.00570       0.05690      0.10009      0.99142  12.88s\n",
      "    130       0.00609       0.05830      0.10450      0.99070  12.88s\n",
      "    131       0.00566       0.06285      0.09005      0.98939  12.88s\n",
      "    132       \u001b[36m0.00463\u001b[0m       0.05326      0.08685      0.99142  12.87s\n",
      "    133       0.00599       0.05339      0.11226      0.99207  12.88s\n",
      "    134       0.00519       0.05555      0.09339      0.99070  12.88s\n",
      "    135       0.00471       0.05987      0.07871      0.99005  12.88s\n",
      "    136       \u001b[36m0.00447\u001b[0m       0.06442      0.06940      0.98874  12.88s\n",
      "    137       0.00503       0.06273      0.08023      0.98907  12.88s\n",
      "    138       0.00504       0.06583      0.07654      0.98907  12.88s\n",
      "    139       0.00458       0.05384      0.08505      0.99202  12.87s\n",
      "    140       0.00505       0.05814      0.08688      0.98972  12.87s\n",
      "    141       \u001b[36m0.00397\u001b[0m       0.06100      0.06502      0.98907  12.88s\n",
      "    142       \u001b[36m0.00372\u001b[0m       0.07010      0.05306      0.98841  12.87s\n",
      "    143       \u001b[36m0.00327\u001b[0m       0.07043      0.04642      0.98775  12.87s\n",
      "    144       0.00440       0.05932      0.07411      0.99076  12.87s\n",
      "    145       0.00351       0.06786      0.05177      0.98841  12.87s\n",
      "    146       0.00529       0.06352      0.08334      0.98841  12.87s\n",
      "    147       0.00362       0.06588      0.05493      0.98972  12.87s\n",
      "    148       0.00346       0.06167      0.05608      0.99038  12.88s\n",
      "    149       0.00338       0.06471      0.05220      0.98939  12.87s\n",
      "    150       0.00419       0.05340      0.07842      0.99207  12.88s\n",
      "    151       0.00386       0.06349      0.06087      0.99109  12.88s\n",
      "    152       0.00384       0.06803      0.05647      0.98808  12.87s\n",
      "    153       0.00377       0.06404      0.05884      0.99070  12.87s\n",
      "    154       0.00363       0.06687      0.05436      0.98939  12.87s\n",
      "Early stopping.\n",
      "Best valid loss was 0.045612 at epoch 104.\n",
      "Loaded parameters to layer 'conv1' (shape 16x4x13x13).\n",
      "Loaded parameters to layer 'conv1' (shape 16).\n",
      "Loaded parameters to layer 'conv2' (shape 16x16x13x13).\n",
      "Loaded parameters to layer 'conv2' (shape 16).\n",
      "Loaded parameters to layer 'hidden3' (shape 1296x256).\n",
      "Loaded parameters to layer 'hidden3' (shape 256).\n",
      "Loaded parameters to layer 'output' (shape 256x2).\n",
      "Loaded parameters to layer 'output' (shape 2).\n"
     ]
    }
   ],
   "source": [
    "cnn = cnn.fit(X_train_rgba, y_train)"
   ]
  },
  {
   "cell_type": "code",
   "execution_count": 11,
   "metadata": {
    "collapsed": false
   },
   "outputs": [
    {
     "data": {
      "text/plain": [
       "0.7979294478527608"
      ]
     },
     "execution_count": 11,
     "metadata": {},
     "output_type": "execute_result"
    }
   ],
   "source": [
    "# this is the score on cylinder_small1 with regularization and patience counter 50\n",
    "cnn.score(X_test_rgba, y_test)"
   ]
  },
  {
   "cell_type": "code",
   "execution_count": 12,
   "metadata": {
    "collapsed": false
   },
   "outputs": [
    {
     "data": {
      "text/plain": [
       "<module 'matplotlib.pyplot' from '/home/d/nolearn/local/lib/python2.7/site-packages/matplotlib/pyplot.pyc'>"
      ]
     },
     "execution_count": 12,
     "metadata": {},
     "output_type": "execute_result"
    },
    {
     "data": {
      "image/png": "[encoded data removed]",
      "text/plain": [
       "<matplotlib.figure.Figure at 0x7fcb2a495090>"
      ]
     },
     "metadata": {},
     "output_type": "display_data"
    }
   ],
   "source": [
    "# this is the plot on cylinder_small1 with regularization and patience counter 50\n",
    "plot_loss(cnn)"
   ]
  },
  {
   "cell_type": "code",
   "execution_count": 7,
   "metadata": {
    "collapsed": false
   },
   "outputs": [
    {
     "data": {
      "text/plain": [
       "0.8209355828220859"
      ]
     },
     "execution_count": 7,
     "metadata": {},
     "output_type": "execute_result"
    }
   ],
   "source": [
    "# this is the score on cylinder_small1 with regularization\n",
    "cnn.score(X_test_rgba, y_test)"
   ]
  },
  {
   "cell_type": "code",
   "execution_count": 8,
   "metadata": {
    "collapsed": false
   },
   "outputs": [
    {
     "data": {
      "text/plain": [
       "<module 'matplotlib.pyplot' from '/home/d/nolearn/local/lib/python2.7/site-packages/matplotlib/pyplot.pyc'>"
      ]
     },
     "execution_count": 8,
     "metadata": {},
     "output_type": "execute_result"
    },
    {
     "data": {
      "image/png": "[encoded data removed]",
      "text/plain": [
       "<matplotlib.figure.Figure at 0x7fcb293fd410>"
      ]
     },
     "metadata": {},
     "output_type": "display_data"
    }
   ],
   "source": [
    "# this is the plot on cylinder_small1 with regularization\n",
    "plot_loss(cnn)"
   ]
  },
  {
   "cell_type": "code",
   "execution_count": 11,
   "metadata": {
    "collapsed": false
   },
   "outputs": [
    {
     "data": {
      "text/plain": [
       "0.8136503067484663"
      ]
     },
     "execution_count": 11,
     "metadata": {},
     "output_type": "execute_result"
    }
   ],
   "source": [
    "# this is the score on cylinder_small1 without regularization\n",
    "cnn.score(X_test_rgba, y_test)"
   ]
  },
  {
   "cell_type": "code",
   "execution_count": 13,
   "metadata": {
    "collapsed": false
   },
   "outputs": [
    {
     "data": {
      "text/plain": [
       "<module 'matplotlib.pyplot' from '/home/d/nolearn/local/lib/python2.7/site-packages/matplotlib/pyplot.pyc'>"
      ]
     },
     "execution_count": 13,
     "metadata": {},
     "output_type": "execute_result"
    },
    {
     "data": {
      "image/png": "[encoded data removed]",
      "text/plain": [
       "<matplotlib.figure.Figure at 0x7ff65c0b25d0>"
      ]
     },
     "metadata": {},
     "output_type": "display_data"
    }
   ],
   "source": [
    "# this is the plot on cylinder_small1 without regularization\n",
    "plot_loss(cnn)"
   ]
  },
  {
   "cell_type": "code",
   "execution_count": null,
   "metadata": {
    "collapsed": true
   },
   "outputs": [],
   "source": []
  }
 ],
 "metadata": {
  "kernelspec": {
   "display_name": "Python 2",
   "language": "python",
   "name": "python2"
  },
  "language_info": {
   "codemirror_mode": {
    "name": "ipython",
    "version": 2
   },
   "file_extension": ".py",
   "mimetype": "text/x-python",
   "name": "python",
   "nbconvert_exporter": "python",
   "pygments_lexer": "ipython2",
   "version": "2.7.6"
  }
 },
 "nbformat": 4,
 "nbformat_minor": 0
}
