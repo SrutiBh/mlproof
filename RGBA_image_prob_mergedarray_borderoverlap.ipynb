{
 "cells": [
  {
   "cell_type": "code",
   "execution_count": 1,
   "metadata": {
    "collapsed": false
   },
   "outputs": [
    {
     "name": "stderr",
     "output_type": "stream",
     "text": [
      "mlproof/tifffile.py:1995: UserWarning: failed to import _tifffile.decodepackbits\n",
      "  warnings.warn(\"failed to import %s\" % module_function)\n",
      "mlproof/tifffile.py:1995: UserWarning: failed to import _tifffile.decodelzw\n",
      "  warnings.warn(\"failed to import %s\" % module_function)\n",
      "mlproof/tifffile.py:1995: UserWarning: failed to import _tifffile.unpackints\n",
      "  warnings.warn(\"failed to import %s\" % module_function)\n",
      "Using gpu device 0: GeForce GTX TITAN (CNMeM is disabled, CuDNN 4007)\n",
      "/home/d/nolearn/local/lib/python2.7/site-packages/theano/tensor/signal/downsample.py:6: UserWarning: downsample module has been moved to the theano.tensor.signal.pool module.\n",
      "  \"downsample module has been moved to the theano.tensor.signal.pool module.\")\n"
     ]
    }
   ],
   "source": [
    "%load_ext autoreload\n",
    "%autoreload 2\n",
    "\n",
    "import mlproof as mlp\n",
    "import mlproof.nets as nets\n",
    "\n",
    "import numpy as np\n",
    "\n",
    "from nolearn.lasagne.visualize import plot_loss\n",
    "from nolearn.lasagne.visualize import plot_conv_weights\n",
    "from nolearn.lasagne.visualize import plot_conv_activity\n",
    "from nolearn.lasagne.visualize import plot_occlusion\n",
    "\n",
    "from matplotlib.pyplot import imshow\n",
    "import matplotlib.pyplot as plt\n",
    "%matplotlib inline"
   ]
  },
  {
   "cell_type": "code",
   "execution_count": 2,
   "metadata": {
    "collapsed": false
   },
   "outputs": [
    {
     "name": "stdout",
     "output_type": "stream",
     "text": [
      "CNN configuration: \n",
      "    Our CNN with image, prob, merged_array, border_overlap as RGBA.\n",
      "    \n"
     ]
    }
   ],
   "source": [
    "cnn = nets.RGBANet()"
   ]
  },
  {
   "cell_type": "code",
   "execution_count": 3,
   "metadata": {
    "collapsed": false
   },
   "outputs": [
    {
     "name": "stdout",
     "output_type": "stream",
     "text": [
      "Loaded /home/d/patches//cylinder_small1_rgba/ in 0.144218921661 seconds.\n"
     ]
    }
   ],
   "source": [
    "X_train, y_train, X_test, y_test = mlp.Patch.load('cylinder_small1_rgba')"
   ]
  },
  {
   "cell_type": "code",
   "execution_count": 4,
   "metadata": {
    "collapsed": false,
    "scrolled": false
   },
   "outputs": [
    {
     "name": "stdout",
     "output_type": "stream",
     "text": [
      "# Neural Network with 1558642 learnable parameters\n",
      "\n",
      "## Layer information\n",
      "\n",
      "  #  name      size\n",
      "---  --------  --------\n",
      "  0  input     4x75x75\n",
      "  1  conv1     64x63x63\n",
      "  2  pool1     64x31x31\n",
      "  3  conv2     48x19x19\n",
      "  4  pool2     48x9x9\n",
      "  5  hidden3   256\n",
      "  6  dropout3  256\n",
      "  7  output    2\n",
      "\n",
      "  epoch    train loss    valid loss    train/val    valid acc  dur\n",
      "-------  ------------  ------------  -----------  -----------  -----\n",
      "      1       \u001b[36m0.70505\u001b[0m       \u001b[32m0.67564\u001b[0m      1.04353      0.68583  8.04s\n",
      "      2       0.79774       0.68894      1.15792      0.49935  8.00s\n",
      "      3       \u001b[36m0.61422\u001b[0m       \u001b[32m0.61823\u001b[0m      0.99352      0.71225  7.97s\n",
      "      4       \u001b[36m0.55081\u001b[0m       \u001b[32m0.51828\u001b[0m      1.06277      0.77054  7.97s\n",
      "      5       \u001b[36m0.46730\u001b[0m       \u001b[32m0.43158\u001b[0m      1.08277      0.80996  7.99s\n",
      "      6       \u001b[36m0.42587\u001b[0m       \u001b[32m0.37492\u001b[0m      1.13590      0.84105  8.01s\n",
      "      7       \u001b[36m0.35317\u001b[0m       \u001b[32m0.30767\u001b[0m      1.14789      0.87543  7.97s\n",
      "      8       \u001b[36m0.28840\u001b[0m       \u001b[32m0.26615\u001b[0m      1.08361      0.89087  7.98s\n",
      "      9       \u001b[36m0.24999\u001b[0m       \u001b[32m0.22105\u001b[0m      1.13092      0.91409  7.97s\n",
      "     10       \u001b[36m0.17840\u001b[0m       \u001b[32m0.16604\u001b[0m      1.07439      0.94134  8.04s\n",
      "     11       \u001b[36m0.14043\u001b[0m       \u001b[32m0.13218\u001b[0m      1.06244      0.96040  8.07s\n",
      "     12       \u001b[36m0.10137\u001b[0m       \u001b[32m0.11410\u001b[0m      0.88839      0.96457  8.08s\n",
      "     13       \u001b[36m0.07534\u001b[0m       \u001b[32m0.10487\u001b[0m      0.71846      0.97442  8.07s\n",
      "     14       \u001b[36m0.06356\u001b[0m       \u001b[32m0.08386\u001b[0m      0.75796      0.98047  8.07s\n",
      "     15       \u001b[36m0.04265\u001b[0m       \u001b[32m0.07235\u001b[0m      0.58952      0.98047  8.07s\n",
      "     16       \u001b[36m0.03351\u001b[0m       \u001b[32m0.06619\u001b[0m      0.50628      0.98728  8.08s\n",
      "     17       \u001b[36m0.02121\u001b[0m       \u001b[32m0.06116\u001b[0m      0.34680      0.98652  8.07s\n",
      "     18       \u001b[36m0.01648\u001b[0m       \u001b[32m0.05501\u001b[0m      0.29953      0.98486  8.07s\n",
      "     19       0.01669       0.06112      0.27303      0.98819  8.10s\n",
      "     20       \u001b[36m0.01324\u001b[0m       0.06310      0.20986      0.98986  8.09s\n",
      "     21       \u001b[36m0.01265\u001b[0m       0.05787      0.21862      0.99159  8.07s\n",
      "     22       \u001b[36m0.00760\u001b[0m       0.05723      0.13285      0.98826  8.07s\n",
      "     23       0.00859       0.06927      0.12405      0.98993  8.07s\n",
      "     24       0.02294       \u001b[32m0.04708\u001b[0m      0.48723      0.99250  8.07s\n",
      "     25       0.01525       0.06795      0.22446      0.98826  8.07s\n",
      "     26       0.01623       0.05706      0.28450      0.98312  8.17s\n",
      "     27       0.01374       0.06158      0.22315      0.98736  8.27s\n",
      "     28       0.01375       \u001b[32m0.04675\u001b[0m      0.29402      0.99326  8.27s\n",
      "     29       \u001b[36m0.00619\u001b[0m       0.05188      0.11937      0.98743  8.28s\n",
      "     30       0.00649       0.05330      0.12175      0.99159  8.27s\n",
      "     31       \u001b[36m0.00338\u001b[0m       0.06405      0.05279      0.98993  8.28s\n",
      "     32       0.00435       0.06829      0.06368      0.99159  8.28s\n",
      "     33       0.00522       0.06041      0.08641      0.98993  8.27s\n",
      "     34       0.00530       0.05063      0.10478      0.98993  8.28s\n",
      "     35       0.00473       0.06904      0.06845      0.98993  8.28s\n",
      "     36       \u001b[36m0.00314\u001b[0m       0.05567      0.05644      0.98986  8.28s\n",
      "     37       0.00468       0.07018      0.06672      0.99159  8.27s\n",
      "     38       0.00479       0.05064      0.09468      0.98993  8.28s\n",
      "     39       0.00319       0.05333      0.05989      0.98993  8.28s\n",
      "     40       \u001b[36m0.00261\u001b[0m       0.05304      0.04917      0.98993  8.28s\n",
      "     41       0.00440       0.06538      0.06736      0.98993  8.28s\n",
      "     42       0.00461       0.05721      0.08061      0.98993  8.28s\n",
      "     43       0.00476       0.06468      0.07356      0.99159  8.28s\n",
      "     44       0.00472       0.06291      0.07505      0.99159  8.28s\n",
      "     45       0.00324       0.05169      0.06271      0.99159  8.37s\n",
      "     46       0.00376       0.06363      0.05907      0.99159  8.39s\n",
      "     47       \u001b[36m0.00183\u001b[0m       0.06631      0.02764      0.99159  8.39s\n",
      "     48       \u001b[36m0.00100\u001b[0m       0.07053      0.01418      0.99159  8.39s\n",
      "     49       \u001b[36m0.00080\u001b[0m       0.06875      0.01158      0.99159  8.39s\n",
      "     50       \u001b[36m0.00062\u001b[0m       0.07440      0.00838      0.98993  8.39s\n",
      "     51       0.00131       0.06800      0.01924      0.98993  8.38s\n",
      "     52       0.00124       0.06839      0.01810      0.98993  8.39s\n",
      "     53       0.00096       0.06493      0.01472      0.99159  8.43s\n",
      "     54       0.00097       0.05952      0.01626      0.99159  8.39s\n",
      "     55       0.00097       0.05944      0.01636      0.98993  8.39s\n",
      "     56       0.00067       0.06172      0.01094      0.98993  8.42s\n",
      "     57       \u001b[36m0.00052\u001b[0m       0.06294      0.00823      0.99159  8.39s\n",
      "     58       \u001b[36m0.00032\u001b[0m       0.06276      0.00510      0.98993  8.38s\n",
      "     59       \u001b[36m0.00027\u001b[0m       0.06728      0.00403      0.98993  8.38s\n",
      "     60       0.00032       0.07125      0.00448      0.99159  8.39s\n",
      "     61       0.00039       0.07173      0.00541      0.98993  8.41s\n",
      "     62       0.00078       0.06029      0.01291      0.99326  8.38s\n",
      "     63       0.00048       0.06333      0.00763      0.99326  8.39s\n",
      "     64       0.00033       0.06868      0.00484      0.99159  15.98s\n",
      "     65       0.00034       0.07010      0.00488      0.99159  16.89s\n",
      "     66       0.00066       0.06936      0.00954      0.99159  16.46s\n",
      "     67       0.00031       0.06509      0.00477      0.99159  16.45s\n",
      "     68       0.00030       0.07212      0.00410      0.99159  16.45s\n",
      "     69       0.00309       0.12720      0.02427      0.98228  16.44s\n",
      "     70       0.00822       0.06176      0.13316      0.98978  16.46s\n",
      "     71       0.00390       0.05943      0.06565      0.99326  16.46s\n",
      "     72       0.00403       0.05901      0.06829      0.99159  16.47s\n",
      "     73       0.00247       0.05539      0.04450      0.99333  16.47s\n",
      "     74       0.00235       0.06631      0.03545      0.98902  16.46s\n",
      "     75       0.00292       0.06648      0.04391      0.98993  16.47s\n",
      "     76       0.00156       0.07572      0.02064      0.99076  16.47s\n",
      "     77       0.00235       0.07230      0.03244      0.98993  16.48s\n",
      "     78       0.00239       0.08320      0.02873      0.98826  16.46s\n",
      "Early stopping.\n",
      "Best valid loss was 0.046753 at epoch 28.\n",
      "Loaded parameters to layer 'conv1' (shape 64x4x13x13).\n",
      "Loaded parameters to layer 'conv1' (shape 64).\n",
      "Loaded parameters to layer 'conv2' (shape 48x64x13x13).\n",
      "Loaded parameters to layer 'conv2' (shape 48).\n",
      "Loaded parameters to layer 'hidden3' (shape 3888x256).\n",
      "Loaded parameters to layer 'hidden3' (shape 256).\n",
      "Loaded parameters to layer 'output' (shape 256x2).\n",
      "Loaded parameters to layer 'output' (shape 2).\n"
     ]
    }
   ],
   "source": [
    "cnn = cnn.fit(X_train['rgba'], y_train)"
   ]
  },
  {
   "cell_type": "code",
   "execution_count": 5,
   "metadata": {
    "collapsed": false
   },
   "outputs": [
    {
     "data": {
      "text/plain": [
       "0.8017638036809815"
      ]
     },
     "execution_count": 5,
     "metadata": {},
     "output_type": "execute_result"
    }
   ],
   "source": [
    "# this is the score on cylinder_small1 with regularization and patience counter 50 and data augmentation\n",
    "cnn.score(X_test['rgba'], y_test)"
   ]
  },
  {
   "cell_type": "code",
   "execution_count": 6,
   "metadata": {
    "collapsed": false
   },
   "outputs": [
    {
     "data": {
      "text/plain": [
       "<module 'matplotlib.pyplot' from '/home/d/nolearn/local/lib/python2.7/site-packages/matplotlib/pyplot.pyc'>"
      ]
     },
     "execution_count": 6,
     "metadata": {},
     "output_type": "execute_result"
    },
    {
     "data": {
      "image/png": "[encoded data removed]",
      "text/plain": [
       "<matplotlib.figure.Figure at 0x7fa6b3871a50>"
      ]
     },
     "metadata": {},
     "output_type": "display_data"
    }
   ],
   "source": [
    "# this is the plot on cylinder_small1 with regularization and patience counter 50 and data augmentation\n",
    "plot_loss(cnn)"
   ]
  },
  {
   "cell_type": "code",
   "execution_count": null,
   "metadata": {
    "collapsed": true
   },
   "outputs": [],
   "source": []
  }
 ],
 "metadata": {
  "kernelspec": {
   "display_name": "Python 2",
   "language": "python",
   "name": "python2"
  },
  "language_info": {
   "codemirror_mode": {
    "name": "ipython",
    "version": 2
   },
   "file_extension": ".py",
   "mimetype": "text/x-python",
   "name": "python",
   "nbconvert_exporter": "python",
   "pygments_lexer": "ipython2",
   "version": "2.7.6"
  }
 },
 "nbformat": 4,
 "nbformat_minor": 0
}
