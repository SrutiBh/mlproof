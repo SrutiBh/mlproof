{
 "cells": [
  {
   "cell_type": "code",
   "execution_count": 4,
   "metadata": {
    "collapsed": false
   },
   "outputs": [
    {
     "name": "stdout",
     "output_type": "stream",
     "text": [
      "The autoreload extension is already loaded. To reload it, use:\n",
      "  %reload_ext autoreload\n"
     ]
    }
   ],
   "source": [
    "%load_ext autoreload\n",
    "%autoreload 2\n",
    "\n",
    "import mlproof as mlp\n",
    "import mlproof.nets as nets\n",
    "\n",
    "import numpy as np\n",
    "\n",
    "from matplotlib.pyplot import imshow\n",
    "import matplotlib.pyplot as plt\n",
    "%matplotlib inline"
   ]
  },
  {
   "cell_type": "code",
   "execution_count": 2,
   "metadata": {
    "collapsed": false
   },
   "outputs": [
    {
     "name": "stdout",
     "output_type": "stream",
     "text": [
      "CNN configuration: \n",
      "    Our CNN with image, prob, merged_array, border_overlap as RGBA.\n",
      "    \n"
     ]
    }
   ],
   "source": [
    "cnn = nets.RGBANet()"
   ]
  },
  {
   "cell_type": "code",
   "execution_count": 6,
   "metadata": {
    "collapsed": false
   },
   "outputs": [
    {
     "name": "stdout",
     "output_type": "stream",
     "text": [
      "Loaded /home/d/patches/cylinder_small1/ in 0.000552177429199 seconds.\n"
     ]
    }
   ],
   "source": [
    "X_train, y_train, X_test, y_test = mlp.Patch.load('cylinder_small1')"
   ]
  },
  {
   "cell_type": "code",
   "execution_count": 7,
   "metadata": {
    "collapsed": false
   },
   "outputs": [],
   "source": [
    "X_train_rgba = np.concatenate((X_train['image'], \n",
    "                               X_train['prob'], \n",
    "                               X_train['merged_array'],\n",
    "                               X_train['border_overlap']), 1)"
   ]
  },
  {
   "cell_type": "code",
   "execution_count": 8,
   "metadata": {
    "collapsed": true
   },
   "outputs": [],
   "source": [
    "X_test_rgba = np.concatenate((X_test['image'], \n",
    "                              X_test['prob'], \n",
    "                              X_test['merged_array'],\n",
    "                              X_test['border_overlap']), 1)"
   ]
  },
  {
   "cell_type": "code",
   "execution_count": null,
   "metadata": {
    "collapsed": false
   },
   "outputs": [
    {
     "name": "stdout",
     "output_type": "stream",
     "text": [
      "# Neural Network with 386658 learnable parameters\n",
      "\n",
      "## Layer information\n",
      "\n",
      "  #  name      size\n",
      "---  --------  --------\n",
      "  0  input     4x75x75\n",
      "  1  conv1     16x63x63\n",
      "  2  pool1     16x31x31\n",
      "  3  conv2     16x19x19\n",
      "  4  pool2     16x9x9\n",
      "  5  hidden3   256\n",
      "  6  dropout3  256\n",
      "  7  output    2\n",
      "\n",
      "  epoch    train loss    valid loss    train/val    valid acc  dur\n",
      "-------  ------------  ------------  -----------  -----------  ------\n",
      "      1       \u001b[36m0.57458\u001b[0m       \u001b[32m0.45250\u001b[0m      1.26979      0.79196  11.84s\n",
      "      2       \u001b[36m0.46605\u001b[0m       \u001b[32m0.41550\u001b[0m      1.12165      0.81575  11.80s\n",
      "      3       \u001b[36m0.43634\u001b[0m       0.45792      0.95289      0.78569  11.80s\n"
     ]
    }
   ],
   "source": [
    "cnn = cnn.fit(X_train_rgba, y_train)"
   ]
  },
  {
   "cell_type": "code",
   "execution_count": null,
   "metadata": {
    "collapsed": true
   },
   "outputs": [],
   "source": []
  }
 ],
 "metadata": {
  "kernelspec": {
   "display_name": "Python 2",
   "language": "python",
   "name": "python2"
  },
  "language_info": {
   "codemirror_mode": {
    "name": "ipython",
    "version": 2
   },
   "file_extension": ".py",
   "mimetype": "text/x-python",
   "name": "python",
   "nbconvert_exporter": "python",
   "pygments_lexer": "ipython2",
   "version": "2.7.6"
  }
 },
 "nbformat": 4,
 "nbformat_minor": 0
}
