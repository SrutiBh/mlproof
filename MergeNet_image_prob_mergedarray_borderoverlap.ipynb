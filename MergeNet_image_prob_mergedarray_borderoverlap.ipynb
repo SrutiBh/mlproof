{
 "cells": [
  {
   "cell_type": "code",
   "execution_count": 1,
   "metadata": {
    "collapsed": false
   },
   "outputs": [
    {
     "name": "stderr",
     "output_type": "stream",
     "text": [
      "Using gpu device 0: GeForce GTX TITAN (CNMeM is disabled, CuDNN 4007)\n",
      "/home/d/nolearn/local/lib/python2.7/site-packages/theano/tensor/signal/downsample.py:6: UserWarning: downsample module has been moved to the theano.tensor.signal.pool module.\n",
      "  \"downsample module has been moved to the theano.tensor.signal.pool module.\")\n"
     ]
    }
   ],
   "source": [
    "%load_ext autoreload\n",
    "%autoreload 2\n",
    "\n",
    "import mlproof as mlp\n",
    "import mlproof.nets as nets\n",
    "\n",
    "import numpy as np\n",
    "\n",
    "from nolearn.lasagne.visualize import plot_loss\n",
    "from nolearn.lasagne.visualize import plot_conv_weights\n",
    "from nolearn.lasagne.visualize import plot_conv_activity\n",
    "from nolearn.lasagne.visualize import plot_occlusion\n",
    "\n",
    "from matplotlib.pyplot import imshow\n",
    "import matplotlib.pyplot as plt\n",
    "%matplotlib inline"
   ]
  },
  {
   "cell_type": "code",
   "execution_count": 2,
   "metadata": {
    "collapsed": false
   },
   "outputs": [
    {
     "name": "stdout",
     "output_type": "stream",
     "text": [
      "CNN configuration: \n",
      "    Our CNN with different \"legs\" for image, prob, merged_array, border_overlap.\n",
      "    \n"
     ]
    }
   ],
   "source": [
    "cnn = nets.MergeNet()"
   ]
  },
  {
   "cell_type": "code",
   "execution_count": 3,
   "metadata": {
    "collapsed": false
   },
   "outputs": [
    {
     "name": "stdout",
     "output_type": "stream",
     "text": [
      "Loaded /home/d/patches/cylinder_small1/ in 0.000457048416138 seconds.\n"
     ]
    }
   ],
   "source": [
    "X_train, y_train, X_test, y_test = mlp.Patch.load('cylinder_small1')"
   ]
  },
  {
   "cell_type": "code",
   "execution_count": 4,
   "metadata": {
    "collapsed": false,
    "scrolled": true
   },
   "outputs": [
    {
     "name": "stdout",
     "output_type": "stream",
     "text": [
      "# Neural Network with 1511874 learnable parameters\n",
      "\n",
      "## Layer information\n",
      "\n",
      "  #  name          size\n",
      "---  ------------  --------\n",
      "  0  image_input   1x75x75\n",
      "  1  image_conv1   16x63x63\n",
      "  2  image_pool1   16x31x31\n",
      "  3  image_conv2   16x19x19\n",
      "  4  image_pool2   16x9x9\n",
      "  5  prob_input    1x75x75\n",
      "  6  prob_conv1    16x63x63\n",
      "  7  prob_pool1    16x31x31\n",
      "  8  prob_conv2    16x19x19\n",
      "  9  prob_pool2    16x9x9\n",
      " 10  binary_input  1x75x75\n",
      " 11  binary_conv1  16x63x63\n",
      " 12  binary_pool1  16x31x31\n",
      " 13  binary_conv2  16x19x19\n",
      " 14  binary_pool2  16x9x9\n",
      " 15  border_input  1x75x75\n",
      " 16  border_conv1  16x63x63\n",
      " 17  border_pool1  16x31x31\n",
      " 18  border_conv2  16x19x19\n",
      " 19  border_pool2  16x9x9\n",
      " 20  merge         64x9x9\n",
      " 21  hidden3       256\n",
      " 22  dropout3      256\n",
      " 23  output        2\n",
      "\n",
      "  epoch    train loss    valid loss    train/val    valid acc  dur\n",
      "-------  ------------  ------------  -----------  -----------  ------\n",
      "      1       \u001b[36m0.58265\u001b[0m       \u001b[32m0.48079\u001b[0m      1.21186      0.76618  29.77s\n",
      "      2       \u001b[36m0.47341\u001b[0m       \u001b[32m0.42784\u001b[0m      1.10649      0.80279  29.71s\n",
      "      3       \u001b[36m0.44270\u001b[0m       \u001b[32m0.40949\u001b[0m      1.08109      0.81868  29.69s\n",
      "      4       \u001b[36m0.42611\u001b[0m       \u001b[32m0.39956\u001b[0m      1.06643      0.82164  29.74s\n",
      "      5       \u001b[36m0.41491\u001b[0m       \u001b[32m0.39415\u001b[0m      1.05266      0.82624  29.71s\n",
      "      6       \u001b[36m0.40692\u001b[0m       \u001b[32m0.38562\u001b[0m      1.05525      0.82853  29.96s\n",
      "      7       \u001b[36m0.40075\u001b[0m       \u001b[32m0.37833\u001b[0m      1.05925      0.83171  30.03s\n",
      "      8       \u001b[36m0.39111\u001b[0m       \u001b[32m0.37608\u001b[0m      1.03996      0.83641  30.04s\n",
      "      9       \u001b[36m0.38511\u001b[0m       \u001b[32m0.36870\u001b[0m      1.04451      0.84220  30.11s\n",
      "     10       \u001b[36m0.38129\u001b[0m       \u001b[32m0.36856\u001b[0m      1.03454      0.84083  30.06s\n",
      "     11       \u001b[36m0.37300\u001b[0m       \u001b[32m0.36150\u001b[0m      1.03179      0.84351  30.00s\n",
      "     12       \u001b[36m0.37026\u001b[0m       \u001b[32m0.35894\u001b[0m      1.03154      0.84521  30.01s\n",
      "     13       \u001b[36m0.36334\u001b[0m       \u001b[32m0.34814\u001b[0m      1.04367      0.85242  30.01s\n",
      "     14       \u001b[36m0.36238\u001b[0m       \u001b[32m0.34775\u001b[0m      1.04206      0.85341  30.01s\n",
      "     15       \u001b[36m0.35943\u001b[0m       \u001b[32m0.34575\u001b[0m      1.03958      0.85231  30.03s\n",
      "     16       \u001b[36m0.35488\u001b[0m       \u001b[32m0.33784\u001b[0m      1.05046      0.85494  30.00s\n",
      "     17       \u001b[36m0.34984\u001b[0m       0.33922      1.03133      0.85581  30.07s\n",
      "     18       \u001b[36m0.34785\u001b[0m       \u001b[32m0.33326\u001b[0m      1.04379      0.86068  30.34s\n",
      "     19       \u001b[36m0.34303\u001b[0m       \u001b[32m0.32967\u001b[0m      1.04054      0.86352  30.31s\n",
      "     20       \u001b[36m0.34045\u001b[0m       0.34245      0.99415      0.85215  30.33s\n",
      "     21       \u001b[36m0.33977\u001b[0m       \u001b[32m0.32900\u001b[0m      1.03273      0.86428  30.35s\n",
      "     22       \u001b[36m0.33517\u001b[0m       \u001b[32m0.32702\u001b[0m      1.02491      0.86187  30.33s\n",
      "     23       \u001b[36m0.33368\u001b[0m       \u001b[32m0.31908\u001b[0m      1.04577      0.86843  30.41s\n",
      "     24       \u001b[36m0.33154\u001b[0m       0.32138      1.03163      0.86532  30.34s\n",
      "     25       \u001b[36m0.32840\u001b[0m       \u001b[32m0.31838\u001b[0m      1.03148      0.86778  30.39s\n",
      "     26       0.33070       0.33070      0.99999      0.85942  30.35s\n",
      "     27       \u001b[36m0.32314\u001b[0m       0.32423      0.99663      0.86166  30.35s\n",
      "     28       0.32381       0.31909      1.01480      0.86560  30.34s\n",
      "     29       \u001b[36m0.32055\u001b[0m       \u001b[32m0.31459\u001b[0m      1.01897      0.86975  30.35s\n",
      "     30       \u001b[36m0.31647\u001b[0m       \u001b[32m0.30080\u001b[0m      1.05210      0.87275  30.35s\n",
      "     31       \u001b[36m0.31437\u001b[0m       0.30088      1.04481      0.87232  30.35s\n",
      "     32       0.31581       0.30558      1.03346      0.87226  30.36s\n",
      "     33       \u001b[36m0.31053\u001b[0m       0.30600      1.01478      0.87205  30.34s\n",
      "     34       \u001b[36m0.30944\u001b[0m       0.30319      1.02062      0.87527  30.34s\n",
      "     35       \u001b[36m0.30630\u001b[0m       0.30353      1.00913      0.87418  30.34s\n",
      "     36       \u001b[36m0.30389\u001b[0m       0.30639      0.99185      0.86937  30.37s\n",
      "     37       0.30688       \u001b[32m0.30024\u001b[0m      1.02209      0.87669  30.37s\n",
      "     38       \u001b[36m0.30027\u001b[0m       \u001b[32m0.29596\u001b[0m      1.01457      0.87538  30.39s\n",
      "     39       \u001b[36m0.29731\u001b[0m       \u001b[32m0.29467\u001b[0m      1.00896      0.87784  30.35s\n",
      "     40       0.29975       \u001b[32m0.29039\u001b[0m      1.03224      0.87500  30.37s\n",
      "     41       \u001b[36m0.29367\u001b[0m       0.29156      1.00723      0.87844  30.36s\n",
      "     42       \u001b[36m0.29135\u001b[0m       \u001b[32m0.28624\u001b[0m      1.01784      0.88003  30.40s\n",
      "     43       0.29137       \u001b[32m0.28278\u001b[0m      1.03035      0.88451  30.36s\n",
      "     44       \u001b[36m0.28719\u001b[0m       0.28859      0.99515      0.88079  30.40s\n",
      "     45       \u001b[36m0.28568\u001b[0m       \u001b[32m0.27874\u001b[0m      1.02490      0.88445  30.35s\n",
      "     46       \u001b[36m0.28471\u001b[0m       0.28570      0.99652      0.88057  30.39s\n",
      "     47       \u001b[36m0.28171\u001b[0m       \u001b[32m0.27867\u001b[0m      1.01094      0.88522  30.37s\n",
      "     48       \u001b[36m0.28048\u001b[0m       0.28262      0.99242      0.88205  30.38s\n",
      "     49       \u001b[36m0.27922\u001b[0m       0.28188      0.99057      0.88112  30.37s\n",
      "     50       \u001b[36m0.27561\u001b[0m       \u001b[32m0.27319\u001b[0m      1.00887      0.88620  30.36s\n",
      "     51       0.27682       0.28333      0.97700      0.87642  30.38s\n",
      "     52       \u001b[36m0.26995\u001b[0m       \u001b[32m0.27296\u001b[0m      0.98897      0.88615  30.39s\n",
      "     53       0.27292       \u001b[32m0.27001\u001b[0m      1.01078      0.88483  30.35s\n",
      "     54       0.27022       0.27138      0.99574      0.88468  30.37s\n",
      "     55       \u001b[36m0.26817\u001b[0m       \u001b[32m0.26333\u001b[0m      1.01840      0.89195  30.38s\n",
      "     56       \u001b[36m0.26423\u001b[0m       0.26856      0.98388      0.88495  30.38s\n",
      "     57       \u001b[36m0.26252\u001b[0m       0.27046      0.97064      0.88702  30.38s\n",
      "     58       \u001b[36m0.26005\u001b[0m       \u001b[32m0.26032\u001b[0m      0.99897      0.89030  30.39s\n",
      "     59       0.26032       \u001b[32m0.25973\u001b[0m      1.00226      0.89156  30.36s\n",
      "     60       \u001b[36m0.25688\u001b[0m       0.26354      0.97475      0.88997  30.36s\n",
      "     61       \u001b[36m0.25563\u001b[0m       0.26800      0.95384      0.88714  30.53s\n",
      "     62       \u001b[36m0.25207\u001b[0m       \u001b[32m0.25363\u001b[0m      0.99386      0.89260  30.70s\n",
      "     63       \u001b[36m0.25178\u001b[0m       \u001b[32m0.25156\u001b[0m      1.00086      0.89588  30.70s\n",
      "     64       \u001b[36m0.24999\u001b[0m       0.25711      0.97231      0.89206  30.73s\n",
      "     65       \u001b[36m0.24908\u001b[0m       \u001b[32m0.24697\u001b[0m      1.00853      0.89872  30.73s\n",
      "     66       \u001b[36m0.24516\u001b[0m       0.24960      0.98221      0.89681  30.73s\n",
      "     67       0.24637       0.24919      0.98866      0.89538  30.71s\n",
      "     68       \u001b[36m0.23939\u001b[0m       \u001b[32m0.24123\u001b[0m      0.99238      0.90254  30.70s\n",
      "     69       0.23981       \u001b[32m0.23942\u001b[0m      1.00161      0.90402  30.69s\n",
      "     70       \u001b[36m0.23827\u001b[0m       \u001b[32m0.23693\u001b[0m      1.00565      0.90145  30.71s\n",
      "     71       \u001b[36m0.23473\u001b[0m       \u001b[32m0.23648\u001b[0m      0.99259      0.90506  30.73s\n",
      "     72       \u001b[36m0.23351\u001b[0m       0.24570      0.95037      0.90063  30.71s\n",
      "     73       \u001b[36m0.23265\u001b[0m       0.23711      0.98120      0.89856  30.73s\n",
      "     74       \u001b[36m0.23235\u001b[0m       0.23977      0.96902      0.90161  30.72s\n",
      "     75       \u001b[36m0.23217\u001b[0m       0.23704      0.97943      0.90413  30.71s\n",
      "     76       \u001b[36m0.22710\u001b[0m       \u001b[32m0.22571\u001b[0m      1.00614      0.91063  30.72s\n",
      "     77       \u001b[36m0.22446\u001b[0m       0.23222      0.96658      0.90495  30.70s\n",
      "     78       \u001b[36m0.21943\u001b[0m       0.23387      0.93825      0.90451  30.68s\n",
      "     79       \u001b[36m0.21691\u001b[0m       \u001b[32m0.22093\u001b[0m      0.98180      0.91156  30.68s\n",
      "     80       0.22013       0.22382      0.98351      0.90872  30.73s\n",
      "     81       \u001b[36m0.21458\u001b[0m       0.22160      0.96833      0.91085  30.71s\n",
      "     82       \u001b[36m0.21243\u001b[0m       0.22897      0.92777      0.90583  30.70s\n",
      "     83       0.21383       0.22735      0.94055      0.90981  30.70s\n",
      "     84       \u001b[36m0.20695\u001b[0m       \u001b[32m0.21966\u001b[0m      0.94214      0.90938  30.71s\n",
      "     85       0.20832       \u001b[32m0.21515\u001b[0m      0.96827      0.91370  30.69s\n",
      "     86       \u001b[36m0.20691\u001b[0m       0.21972      0.94173      0.91216  30.69s\n",
      "     87       \u001b[36m0.19865\u001b[0m       \u001b[32m0.20868\u001b[0m      0.95191      0.91462  30.70s\n",
      "     88       0.19921       0.22148      0.89948      0.91052  30.73s\n",
      "     89       0.19966       0.21286      0.93798      0.91353  30.71s\n",
      "     90       \u001b[36m0.19681\u001b[0m       \u001b[32m0.20181\u001b[0m      0.97524      0.92299  30.72s\n",
      "     91       \u001b[36m0.19171\u001b[0m       0.20267      0.94589      0.92243  30.71s\n",
      "     92       0.19392       \u001b[32m0.19631\u001b[0m      0.98779      0.92244  30.71s\n",
      "     93       \u001b[36m0.19027\u001b[0m       0.20369      0.93414      0.91883  30.71s\n",
      "     94       \u001b[36m0.18697\u001b[0m       0.20582      0.90841      0.91960  30.70s\n",
      "     95       \u001b[36m0.18524\u001b[0m       \u001b[32m0.19555\u001b[0m      0.94730      0.92375  30.71s\n",
      "     96       \u001b[36m0.18270\u001b[0m       0.20653      0.88462      0.91998  30.70s\n",
      "     97       \u001b[36m0.17995\u001b[0m       \u001b[32m0.19287\u001b[0m      0.93304      0.92156  30.69s\n",
      "     98       \u001b[36m0.17762\u001b[0m       \u001b[32m0.18760\u001b[0m      0.94680      0.92834  30.73s\n",
      "     99       \u001b[36m0.17692\u001b[0m       0.19293      0.91704      0.92626  30.70s\n",
      "    100       \u001b[36m0.17361\u001b[0m       0.19478      0.89132      0.92332  30.70s\n",
      "    101       0.17853       0.18782      0.95056      0.92588  30.70s\n",
      "    102       0.17535       \u001b[32m0.18472\u001b[0m      0.94925      0.93075  30.70s\n",
      "    103       \u001b[36m0.17053\u001b[0m       \u001b[32m0.18276\u001b[0m      0.93309      0.93141  30.72s\n",
      "    104       \u001b[36m0.16839\u001b[0m       0.18653      0.90276      0.92851  30.72s\n",
      "    105       \u001b[36m0.16324\u001b[0m       \u001b[32m0.18035\u001b[0m      0.90510      0.93233  30.69s\n",
      "    106       \u001b[36m0.16246\u001b[0m       \u001b[32m0.16920\u001b[0m      0.96018      0.93217  30.70s\n",
      "    107       0.16327       0.17588      0.92831      0.93315  30.70s\n",
      "    108       \u001b[36m0.15929\u001b[0m       0.16977      0.93823      0.93682  30.69s\n",
      "    109       \u001b[36m0.15706\u001b[0m       0.17431      0.90100      0.93183  30.70s\n",
      "    110       \u001b[36m0.15570\u001b[0m       \u001b[32m0.16591\u001b[0m      0.93844      0.93856  30.69s\n",
      "    111       \u001b[36m0.15105\u001b[0m       \u001b[32m0.16483\u001b[0m      0.91637      0.93970  30.74s\n",
      "    112       \u001b[36m0.14601\u001b[0m       \u001b[32m0.16122\u001b[0m      0.90565      0.94179  30.72s\n",
      "    113       0.14927       0.16392      0.91065      0.93873  30.68s\n",
      "    114       0.14797       0.16246      0.91082      0.93992  30.69s\n",
      "    115       0.14607       \u001b[32m0.16001\u001b[0m      0.91292      0.94299  30.69s\n",
      "    116       \u001b[36m0.14082\u001b[0m       0.16158      0.87151      0.93992  30.88s\n",
      "    117       0.14162       \u001b[32m0.15659\u001b[0m      0.90442      0.94294  30.81s\n",
      "    118       0.14118       \u001b[32m0.14462\u001b[0m      0.97618      0.94829  33.33s\n",
      "    119       \u001b[36m0.13543\u001b[0m       0.14816      0.91412      0.94550  30.55s\n",
      "    120       0.13832       0.15007      0.92172      0.94326  30.77s\n",
      "    121       \u001b[36m0.13399\u001b[0m       0.14923      0.89785      0.94452  30.47s\n",
      "    122       \u001b[36m0.13391\u001b[0m       0.14473      0.92525      0.94944  30.34s\n",
      "    123       \u001b[36m0.13360\u001b[0m       \u001b[32m0.14269\u001b[0m      0.93632      0.95065  30.49s\n",
      "    124       \u001b[36m0.13274\u001b[0m       \u001b[32m0.14070\u001b[0m      0.94339      0.94846  30.46s\n",
      "    125       \u001b[36m0.12403\u001b[0m       \u001b[32m0.13562\u001b[0m      0.91453      0.95375  30.39s\n",
      "    126       0.12733       0.13854      0.91906      0.95397  30.47s\n",
      "    127       0.12554       0.13977      0.89820      0.95195  30.74s\n",
      "    128       0.12729       0.13732      0.92696      0.95004  30.81s\n",
      "    129       0.12504       0.14453      0.86515      0.94971  31.01s\n",
      "    130       \u001b[36m0.11946\u001b[0m       \u001b[32m0.13053\u001b[0m      0.91520      0.95807  30.67s\n",
      "    131       \u001b[36m0.11637\u001b[0m       \u001b[32m0.12845\u001b[0m      0.90597      0.95764  30.68s\n",
      "    132       \u001b[36m0.11487\u001b[0m       \u001b[32m0.12762\u001b[0m      0.90007      0.95780  30.68s\n",
      "    133       \u001b[36m0.11150\u001b[0m       \u001b[32m0.12473\u001b[0m      0.89396      0.95725  30.62s\n",
      "    134       \u001b[36m0.10857\u001b[0m       0.13972      0.77709      0.95004  30.65s\n",
      "    135       0.11218       0.13315      0.84255      0.95381  30.67s\n",
      "    136       0.11533       0.12770      0.90317      0.95496  30.71s\n",
      "    137       0.11080       0.13044      0.84943      0.95047  30.67s\n",
      "    138       0.11093       \u001b[32m0.12377\u001b[0m      0.89627      0.96081  30.69s\n",
      "    139       \u001b[36m0.10475\u001b[0m       0.12475      0.83968      0.95944  30.72s\n",
      "    140       \u001b[36m0.10206\u001b[0m       \u001b[32m0.11741\u001b[0m      0.86922      0.96266  30.69s\n",
      "    141       0.10524       \u001b[32m0.11424\u001b[0m      0.92116      0.96343  30.06s\n",
      "    142       \u001b[36m0.09977\u001b[0m       \u001b[32m0.11307\u001b[0m      0.88230      0.96409  30.71s\n",
      "    143       0.10236       0.11531      0.88765      0.96174  30.82s\n",
      "    144       \u001b[36m0.09510\u001b[0m       \u001b[32m0.11290\u001b[0m      0.84228      0.96479  31.08s\n",
      "    145       0.09939       \u001b[32m0.11140\u001b[0m      0.89215      0.96354  30.69s\n",
      "    146       0.09739       \u001b[32m0.10970\u001b[0m      0.88782      0.96688  31.11s\n",
      "    147       \u001b[36m0.09454\u001b[0m       0.11297      0.83679      0.96518  30.74s\n",
      "    148       \u001b[36m0.09318\u001b[0m       \u001b[32m0.10859\u001b[0m      0.85809      0.96502  30.64s\n",
      "    149       0.09500       \u001b[32m0.10431\u001b[0m      0.91077      0.96928  30.72s\n",
      "    150       \u001b[36m0.08417\u001b[0m       0.10800      0.77932      0.96479  30.79s\n",
      "    151       0.08788       0.11134      0.78933      0.96381  31.14s\n",
      "    152       0.08808       0.10645      0.82742      0.96791  30.67s\n",
      "    153       0.08455       \u001b[32m0.10112\u001b[0m      0.83611      0.97043  30.65s\n",
      "    154       \u001b[36m0.08390\u001b[0m       0.10347      0.81085      0.96907  30.68s\n",
      "    155       \u001b[36m0.08372\u001b[0m       \u001b[32m0.09859\u001b[0m      0.84912      0.97010  30.65s\n",
      "    156       0.08856       \u001b[32m0.09722\u001b[0m      0.91095      0.97245  30.67s\n",
      "    157       0.08552       0.10032      0.85253      0.97081  30.72s\n",
      "    158       \u001b[36m0.08339\u001b[0m       0.09949      0.83815      0.97065  30.89s\n",
      "    159       \u001b[36m0.07634\u001b[0m       \u001b[32m0.09424\u001b[0m      0.81009      0.97425  30.67s\n",
      "    160       0.08235       \u001b[32m0.09356\u001b[0m      0.88015      0.97185  30.81s\n",
      "    161       0.07998       0.09966      0.80254      0.96934  30.73s\n",
      "    162       0.07721       \u001b[32m0.09030\u001b[0m      0.85505      0.97524  30.64s\n",
      "    163       0.07743       0.09526      0.81278      0.97201  30.81s\n",
      "    164       \u001b[36m0.07595\u001b[0m       0.09173      0.82795      0.97420  30.66s\n",
      "    165       0.07731       0.09177      0.84237      0.97574  30.79s\n",
      "    166       \u001b[36m0.07151\u001b[0m       0.09390      0.76151      0.97343  30.84s\n",
      "    167       0.07624       \u001b[32m0.08845\u001b[0m      0.86196      0.97524  30.88s\n",
      "    168       0.07183       0.09345      0.76863      0.97305  30.67s\n",
      "    169       \u001b[36m0.06987\u001b[0m       0.08962      0.77959      0.97507  30.79s\n",
      "    170       0.07135       \u001b[32m0.08691\u001b[0m      0.82095      0.97600  30.72s\n",
      "    171       0.07064       \u001b[32m0.08572\u001b[0m      0.82410      0.97529  30.85s\n",
      "    172       \u001b[36m0.06888\u001b[0m       0.08777      0.78482      0.97387  30.73s\n",
      "    173       0.07242       \u001b[32m0.08386\u001b[0m      0.86354      0.97911  30.67s\n",
      "    174       \u001b[36m0.06652\u001b[0m       0.08644      0.76953      0.97829  30.83s\n",
      "    175       \u001b[36m0.06619\u001b[0m       \u001b[32m0.07974\u001b[0m      0.83010      0.97798  30.87s\n",
      "    176       \u001b[36m0.06605\u001b[0m       0.08745      0.75528      0.97589  31.18s\n",
      "    177       \u001b[36m0.06540\u001b[0m       0.08272      0.79066      0.97808  30.62s\n",
      "    178       \u001b[36m0.06145\u001b[0m       \u001b[32m0.07793\u001b[0m      0.78861      0.97829  30.83s\n",
      "    179       0.06603       0.08177      0.80746      0.97786  30.79s\n",
      "    180       \u001b[36m0.06104\u001b[0m       \u001b[32m0.07506\u001b[0m      0.81315      0.97934  32.49s\n",
      "    181       0.06240       0.08186      0.76229      0.97747  186.23s\n",
      "    182       \u001b[36m0.06043\u001b[0m       0.07552      0.80030      0.98060  30.50s\n",
      "    183       0.06292       0.07791      0.80764      0.97944  31.05s\n",
      "    184       0.06254       0.08430      0.74187      0.98016  30.18s\n",
      "    185       0.06433       0.08038      0.80027      0.97665  30.17s\n",
      "    186       \u001b[36m0.05620\u001b[0m       0.07666      0.73301      0.97901  30.18s\n",
      "    187       0.05653       0.07891      0.71639      0.97780  30.15s\n",
      "    188       0.05659       0.08058      0.70229      0.97802  30.15s\n",
      "    189       0.05707       \u001b[32m0.07327\u001b[0m      0.77880      0.98185  30.30s\n",
      "    190       \u001b[36m0.05452\u001b[0m       0.08212      0.66389      0.97884  30.27s\n",
      "    191       \u001b[36m0.05439\u001b[0m       0.07513      0.72400      0.98081  30.57s\n",
      "    192       \u001b[36m0.05273\u001b[0m       0.07403      0.71230      0.98322  30.82s\n",
      "    193       \u001b[36m0.05219\u001b[0m       0.07787      0.67024      0.98272  30.78s\n",
      "    194       0.05331       \u001b[32m0.06787\u001b[0m      0.78548      0.98431  30.87s\n",
      "    195       \u001b[36m0.05099\u001b[0m       0.07278      0.70062      0.98229  30.48s\n",
      "    196       0.05133       0.07103      0.72261      0.98196  30.46s\n",
      "    197       0.05237       0.07314      0.71597      0.98409  30.49s\n",
      "    198       0.05368       0.07595      0.70676      0.98021  30.47s\n",
      "    199       \u001b[36m0.04882\u001b[0m       0.07098      0.68779      0.98179  30.45s\n",
      "    200       0.05075       0.07140      0.71085      0.98147  30.52s\n",
      "    201       0.05026       0.07572      0.66373      0.98114  30.94s\n",
      "    202       \u001b[36m0.04790\u001b[0m       0.07404      0.64696      0.98425  30.14s\n",
      "    203       \u001b[36m0.04709\u001b[0m       0.07125      0.66090      0.98393  30.33s\n",
      "    204       0.04764       0.07094      0.67158      0.98393  30.83s\n",
      "    205       \u001b[36m0.04522\u001b[0m       0.07677      0.58902      0.98097  30.81s\n",
      "    206       0.04537       0.07099      0.63907      0.98212  30.22s\n",
      "    207       \u001b[36m0.04437\u001b[0m       0.07229      0.61374      0.98420  34.51s\n",
      "    208       0.04487       \u001b[32m0.06695\u001b[0m      0.67022      0.98409  34.85s\n",
      "    209       0.04477       0.07136      0.62738      0.98267  32.46s\n",
      "    210       0.04649       0.06809      0.68270      0.98376  31.92s\n",
      "    211       0.04667       0.06892      0.67711      0.98458  33.21s\n",
      "    212       0.04463       0.06733      0.66275      0.98409  33.65s\n",
      "    213       0.04807       0.07328      0.65603      0.98306  30.14s\n",
      "    214       0.04519       0.07256      0.62274      0.98163  33.64s\n",
      "    215       \u001b[36m0.04022\u001b[0m       0.07509      0.53563      0.98393  34.97s\n",
      "    216       0.04324       0.06723      0.64319      0.98393  30.17s\n",
      "    217       0.04488       \u001b[32m0.06572\u001b[0m      0.68285      0.98409  30.85s\n",
      "    218       0.04306       \u001b[32m0.06357\u001b[0m      0.67733      0.98556  31.79s\n",
      "    219       0.04092       0.06593      0.62059      0.98524  36.84s\n",
      "    220       0.04055       0.07718      0.52542      0.98327  36.20s\n",
      "    221       \u001b[36m0.03809\u001b[0m       0.07491      0.50842      0.98278  35.07s\n",
      "    222       0.03952       0.06643      0.59488      0.98524  35.40s\n",
      "    223       \u001b[36m0.03803\u001b[0m       0.07120      0.53422      0.98442  35.52s\n",
      "    224       \u001b[36m0.03650\u001b[0m       0.07236      0.50439      0.98245  34.74s\n",
      "    225       0.04192       0.08135      0.51533      0.98163  35.11s\n",
      "    226       0.04146       0.06722      0.61680      0.98366  35.29s\n",
      "    227       0.03941       0.06668      0.59101      0.98370  30.01s\n",
      "    228       0.04114       0.06407      0.64203      0.98485  30.16s\n",
      "    229       0.03734       0.06681      0.55894      0.98556  30.34s\n",
      "    230       0.04014       0.07796      0.51492      0.98409  30.35s\n",
      "    231       0.03665       0.06800      0.53902      0.98556  30.20s\n",
      "    232       0.04003       0.06403      0.62518      0.98568  30.44s\n",
      "    233       \u001b[36m0.03573\u001b[0m       0.07144      0.50013      0.98245  30.44s\n",
      "    234       \u001b[36m0.03531\u001b[0m       0.06530      0.54077      0.98781  30.49s\n",
      "    235       0.03734       0.06750      0.55320      0.98573  30.45s\n",
      "    236       0.03755       0.06672      0.56279      0.98518  30.49s\n",
      "    237       \u001b[36m0.03498\u001b[0m       \u001b[32m0.05969\u001b[0m      0.58610      0.98704  30.47s\n",
      "    238       \u001b[36m0.03465\u001b[0m       0.06171      0.56159      0.98759  30.48s\n",
      "    239       \u001b[36m0.03419\u001b[0m       0.06835      0.50014      0.98452  30.57s\n",
      "    240       \u001b[36m0.03234\u001b[0m       0.06268      0.51591      0.98540  30.42s\n",
      "    241       \u001b[36m0.02924\u001b[0m       0.06230      0.46925      0.98737  30.53s\n",
      "    242       \u001b[36m0.02920\u001b[0m       0.06797      0.42961      0.98677  30.53s\n",
      "    243       0.03435       0.06368      0.53943      0.98770  30.55s\n",
      "    244       0.03294       0.06532      0.50423      0.98649  30.58s\n",
      "    245       0.02937       0.06700      0.43840      0.98458  30.82s\n",
      "    246       \u001b[36m0.02837\u001b[0m       0.06565      0.43221      0.98688  30.44s\n",
      "    247       0.03096       0.06469      0.47862      0.98655  30.43s\n",
      "    248       0.03312       0.06933      0.47774      0.98513  30.43s\n",
      "    249       0.03066       0.06044      0.50729      0.98814  30.55s\n",
      "    250       0.02880       0.06365      0.45256      0.98704  30.67s\n",
      "    251       0.03317       0.06358      0.52172      0.98770  30.45s\n",
      "    252       0.03204       \u001b[32m0.05927\u001b[0m      0.54056      0.98792  30.46s\n",
      "    253       0.03225       0.06178      0.52191      0.98644  30.72s\n",
      "    254       0.03148       0.07247      0.43432      0.98573  30.63s\n",
      "    255       0.02941       0.06949      0.42324      0.98666  30.63s\n",
      "    256       \u001b[36m0.02759\u001b[0m       0.06351      0.43435      0.98770  30.70s\n",
      "    257       0.02790       0.06286      0.44378      0.98677  30.71s\n",
      "    258       0.02993       0.06339      0.47216      0.98747  30.80s\n",
      "    259       0.02803       0.05960      0.47032      0.98988  30.81s\n",
      "    260       0.02975       0.06883      0.43217      0.98671  30.79s\n",
      "    261       0.02776       0.06273      0.44257      0.98791  30.83s\n",
      "    262       0.02870       0.06337      0.45284      0.98966  30.78s\n",
      "    263       0.03004       0.06227      0.48242      0.98857  30.71s\n",
      "    264       \u001b[36m0.02696\u001b[0m       0.07262      0.37126      0.98688  30.53s\n",
      "    265       0.02969       0.06238      0.47600      0.98688  30.62s\n",
      "    266       0.02723       \u001b[32m0.05804\u001b[0m      0.46922      0.98835  30.52s\n",
      "    267       \u001b[36m0.02487\u001b[0m       0.08306      0.29944      0.98425  30.87s\n",
      "    268       0.02902       0.06746      0.43018      0.98704  30.86s\n",
      "    269       0.02574       0.06836      0.37650      0.98693  30.85s\n",
      "    270       0.02648       0.06603      0.40108      0.98720  30.79s\n",
      "    271       0.02548       0.06395      0.39847      0.98764  30.82s\n",
      "    272       0.03016       0.06151      0.49029      0.98819  30.43s\n",
      "    273       0.02960       0.06168      0.47986      0.98917  30.75s\n",
      "    274       \u001b[36m0.02406\u001b[0m       0.06282      0.38306      0.98819  30.77s\n",
      "    275       0.02649       0.06115      0.43314      0.98622  30.42s\n",
      "    276       0.02723       0.06884      0.39553      0.98573  30.48s\n",
      "    277       0.02602       0.06743      0.38590      0.98759  30.75s\n",
      "    278       0.02459       0.06462      0.38050      0.98704  30.82s\n",
      "    279       \u001b[36m0.02331\u001b[0m       0.07005      0.33273      0.98606  30.83s\n",
      "    280       0.02551       0.06261      0.40754      0.98819  31.16s\n",
      "    281       0.02796       0.06202      0.45090      0.98737  31.16s\n",
      "    282       0.02587       0.06873      0.37644      0.98726  31.00s\n",
      "    283       0.02656       0.06224      0.42673      0.98720  30.94s\n",
      "    284       0.02543       0.06794      0.37425      0.98743  31.06s\n",
      "    285       0.02578       0.06545      0.39384      0.98622  31.06s\n",
      "    286       0.02365       0.06138      0.38529      0.98890  30.77s\n",
      "    287       0.02407       0.06834      0.35224      0.98638  30.80s\n",
      "    288       0.02585       0.06576      0.39312      0.98638  30.78s\n",
      "    289       \u001b[36m0.02287\u001b[0m       0.07103      0.32199      0.98846  30.87s\n",
      "    290       0.02545       0.06528      0.38986      0.98770  30.92s\n",
      "    291       0.02355       0.06286      0.37461      0.98792  31.18s\n",
      "    292       \u001b[36m0.02198\u001b[0m       0.06418      0.34251      0.98655  31.19s\n",
      "    293       0.02354       0.06692      0.35185      0.98884  31.10s\n",
      "    294       0.02350       0.06885      0.34130      0.98720  30.89s\n",
      "    295       0.02243       0.06374      0.35197      0.98852  31.15s\n",
      "    296       \u001b[36m0.02087\u001b[0m       0.06435      0.32423      0.98753  30.91s\n",
      "    297       0.02153       0.06884      0.31272      0.98710  30.84s\n",
      "    298       0.02535       0.06229      0.40703      0.98770  30.77s\n",
      "    299       \u001b[36m0.02071\u001b[0m       0.07180      0.28844      0.98743  30.80s\n",
      "    300       0.02409       0.06998      0.34422      0.98753  30.98s\n",
      "    301       0.02228       0.06184      0.36029      0.98950  31.21s\n",
      "    302       0.02166       0.06622      0.32709      0.98808  31.21s\n",
      "    303       0.02250       0.06748      0.33340      0.98802  31.20s\n",
      "    304       0.02081       0.06914      0.30095      0.98852  31.21s\n",
      "    305       \u001b[36m0.01794\u001b[0m       0.06622      0.27087      0.98825  31.14s\n",
      "    306       0.02049       0.07120      0.28774      0.98671  31.15s\n",
      "    307       0.02003       0.07117      0.28149      0.98808  30.96s\n",
      "    308       0.02141       0.06768      0.31630      0.98802  30.88s\n",
      "    309       0.02065       0.06948      0.29726      0.98753  31.03s\n",
      "    310       0.01862       0.06545      0.28445      0.98770  30.96s\n",
      "    311       0.02098       0.06942      0.30216      0.98830  30.92s\n",
      "    312       0.02140       0.05858      0.36540      0.99070  31.05s\n",
      "    313       0.02036       0.07405      0.27492      0.98835  31.18s\n",
      "    314       0.02087       0.05867      0.35574      0.98988  31.20s\n",
      "    315       0.02058       0.06792      0.30299      0.98884  31.02s\n",
      "    316       0.01851       0.08180      0.22626      0.98573  31.19s\n",
      "Early stopping.\n",
      "Best valid loss was 0.058038 at epoch 266.\n",
      "Loaded parameters to layer 'image_conv1' (shape 16x1x13x13).\n",
      "Loaded parameters to layer 'image_conv1' (shape 16).\n",
      "Loaded parameters to layer 'image_conv2' (shape 16x16x13x13).\n",
      "Loaded parameters to layer 'image_conv2' (shape 16).\n",
      "Loaded parameters to layer 'prob_conv1' (shape 16x1x13x13).\n",
      "Loaded parameters to layer 'prob_conv1' (shape 16).\n",
      "Loaded parameters to layer 'prob_conv2' (shape 16x16x13x13).\n",
      "Loaded parameters to layer 'prob_conv2' (shape 16).\n",
      "Loaded parameters to layer 'binary_conv1' (shape 16x1x13x13).\n",
      "Loaded parameters to layer 'binary_conv1' (shape 16).\n",
      "Loaded parameters to layer 'binary_conv2' (shape 16x16x13x13).\n",
      "Loaded parameters to layer 'binary_conv2' (shape 16).\n",
      "Loaded parameters to layer 'border_conv1' (shape 16x1x13x13).\n",
      "Loaded parameters to layer 'border_conv1' (shape 16).\n",
      "Loaded parameters to layer 'border_conv2' (shape 16x16x13x13).\n",
      "Loaded parameters to layer 'border_conv2' (shape 16).\n",
      "Loaded parameters to layer 'hidden3' (shape 5184x256).\n",
      "Loaded parameters to layer 'hidden3' (shape 256).\n",
      "Loaded parameters to layer 'output' (shape 256x2).\n",
      "Loaded parameters to layer 'output' (shape 2).\n"
     ]
    }
   ],
   "source": [
    "cnn = cnn.fit({'image_input': X_train['image'],\n",
    "               'prob_input': X_train['prob'],\n",
    "               'binary_input': X_train['merged_array'],\n",
    "               'border_input': X_train['border_overlap']},\n",
    "               y_train)"
   ]
  },
  {
   "cell_type": "code",
   "execution_count": 5,
   "metadata": {
    "collapsed": false
   },
   "outputs": [
    {
     "data": {
      "text/plain": [
       "0.852569018404908"
      ]
     },
     "execution_count": 5,
     "metadata": {},
     "output_type": "execute_result"
    }
   ],
   "source": [
    "# this is the score on cylinder_small1 with regularization and patience counter 50 and data augmentation\n",
    "cnn.score({'image_input': X_test['image'],\n",
    "           'prob_input': X_test['prob'],\n",
    "           'binary_input': X_test['merged_array'],\n",
    "           'border_input': X_test['border_overlap']},\n",
    "           y_test)"
   ]
  },
  {
   "cell_type": "code",
   "execution_count": 6,
   "metadata": {
    "collapsed": false
   },
   "outputs": [
    {
     "data": {
      "text/plain": [
       "<module 'matplotlib.pyplot' from '/home/d/nolearn/local/lib/python2.7/site-packages/matplotlib/pyplot.pyc'>"
      ]
     },
     "execution_count": 6,
     "metadata": {},
     "output_type": "execute_result"
    },
    {
     "data": {
      "image/png": "[encoded data removed]",
      "text/plain": [
       "<matplotlib.figure.Figure at 0x7f647c777bd0>"
      ]
     },
     "metadata": {},
     "output_type": "display_data"
    }
   ],
   "source": [
    "# this is the plot on cylinder_small1 with regularization and patience counter 50 and data augmentation\n",
    "plot_loss(cnn)"
   ]
  },
  {
   "cell_type": "code",
   "execution_count": 5,
   "metadata": {
    "collapsed": false
   },
   "outputs": [
    {
     "data": {
      "text/plain": [
       "0.8312883435582822"
      ]
     },
     "execution_count": 5,
     "metadata": {},
     "output_type": "execute_result"
    }
   ],
   "source": [
    "# this is the score on cylinder_small1 with regularization and patience counter 50\n",
    "cnn.score({'image_input': X_test['image'],\n",
    "           'prob_input': X_test['prob'],\n",
    "           'binary_input': X_test['merged_array'],\n",
    "           'border_input': X_test['border_overlap']},\n",
    "           y_test)"
   ]
  },
  {
   "cell_type": "code",
   "execution_count": 6,
   "metadata": {
    "collapsed": false
   },
   "outputs": [
    {
     "data": {
      "text/plain": [
       "<module 'matplotlib.pyplot' from '/home/d/nolearn/local/lib/python2.7/site-packages/matplotlib/pyplot.pyc'>"
      ]
     },
     "execution_count": 6,
     "metadata": {},
     "output_type": "execute_result"
    },
    {
     "data": {
      "image/png": "[encoded data removed]",
      "text/plain": [
       "<matplotlib.figure.Figure at 0x7f2f4c320d90>"
      ]
     },
     "metadata": {},
     "output_type": "display_data"
    }
   ],
   "source": [
    "# this is the plot on cylinder_small1 with regularization and patience counter 50\n",
    "plot_loss(cnn)"
   ]
  },
  {
   "cell_type": "code",
   "execution_count": 5,
   "metadata": {
    "collapsed": false
   },
   "outputs": [
    {
     "data": {
      "text/plain": [
       "0.8224693251533742"
      ]
     },
     "execution_count": 5,
     "metadata": {},
     "output_type": "execute_result"
    }
   ],
   "source": [
    "# this is the score on cylinder_small1 with regularization\n",
    "cnn.score({'image_input': X_test['image'],\n",
    "           'prob_input': X_test['prob'],\n",
    "           'binary_input': X_test['merged_array'],\n",
    "           'border_input': X_test['border_overlap']},\n",
    "           y_test)"
   ]
  },
  {
   "cell_type": "code",
   "execution_count": 6,
   "metadata": {
    "collapsed": false
   },
   "outputs": [
    {
     "data": {
      "text/plain": [
       "<module 'matplotlib.pyplot' from '/home/d/nolearn/local/lib/python2.7/site-packages/matplotlib/pyplot.pyc'>"
      ]
     },
     "execution_count": 6,
     "metadata": {},
     "output_type": "execute_result"
    },
    {
     "data": {
      "image/png": "[encoded data removed]",
      "text/plain": [
       "<matplotlib.figure.Figure at 0x7fb61c5e4850>"
      ]
     },
     "metadata": {},
     "output_type": "display_data"
    }
   ],
   "source": [
    "# this is the plot on cylinder_small1 with regularization\n",
    "plot_loss(cnn)"
   ]
  },
  {
   "cell_type": "code",
   "execution_count": 6,
   "metadata": {
    "collapsed": false
   },
   "outputs": [
    {
     "data": {
      "text/plain": [
       "0.8017638036809815"
      ]
     },
     "execution_count": 6,
     "metadata": {},
     "output_type": "execute_result"
    }
   ],
   "source": [
    "# this is the score on cylinder_small1 without regularization\n",
    "cnn.score({'image_input': X_test['image'],\n",
    "           'prob_input': X_test['prob'],\n",
    "           'binary_input': X_test['merged_array'],\n",
    "           'border_input': X_test['border_overlap']},\n",
    "           y_test)"
   ]
  },
  {
   "cell_type": "code",
   "execution_count": 7,
   "metadata": {
    "collapsed": false
   },
   "outputs": [
    {
     "data": {
      "text/plain": [
       "<module 'matplotlib.pyplot' from '/home/d/nolearn/local/lib/python2.7/site-packages/matplotlib/pyplot.pyc'>"
      ]
     },
     "execution_count": 7,
     "metadata": {},
     "output_type": "execute_result"
    },
    {
     "data": {
      "image/png": "[encoded data removed]",
      "text/plain": [
       "<matplotlib.figure.Figure at 0x7f42bc456b10>"
      ]
     },
     "metadata": {},
     "output_type": "display_data"
    }
   ],
   "source": [
    "# this is the plot on cylinder_small1 without regularization\n",
    "plot_loss(cnn)"
   ]
  },
  {
   "cell_type": "code",
   "execution_count": null,
   "metadata": {
    "collapsed": true
   },
   "outputs": [],
   "source": []
  }
 ],
 "metadata": {
  "kernelspec": {
   "display_name": "Python 2",
   "language": "python",
   "name": "python2"
  },
  "language_info": {
   "codemirror_mode": {
    "name": "ipython",
    "version": 2
   },
   "file_extension": ".py",
   "mimetype": "text/x-python",
   "name": "python",
   "nbconvert_exporter": "python",
   "pygments_lexer": "ipython2",
   "version": "2.7.6"
  }
 },
 "nbformat": 4,
 "nbformat_minor": 0
}
