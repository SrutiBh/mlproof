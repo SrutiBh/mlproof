{
 "cells": [
  {
   "cell_type": "code",
   "execution_count": 1,
   "metadata": {
    "collapsed": false
   },
   "outputs": [
    {
     "name": "stderr",
     "output_type": "stream",
     "text": [
      "Using gpu device 0: GeForce GTX TITAN (CNMeM is disabled, CuDNN 4007)\n",
      "/home/d/nolearn/local/lib/python2.7/site-packages/theano/tensor/signal/downsample.py:6: UserWarning: downsample module has been moved to the theano.tensor.signal.pool module.\n",
      "  \"downsample module has been moved to the theano.tensor.signal.pool module.\")\n"
     ]
    }
   ],
   "source": [
    "%load_ext autoreload\n",
    "%autoreload 2\n",
    "\n",
    "import mlproof as mlp\n",
    "import mlproof.nets as nets\n",
    "\n",
    "import numpy as np\n",
    "\n",
    "from nolearn.lasagne.visualize import plot_loss\n",
    "from nolearn.lasagne.visualize import plot_conv_weights\n",
    "from nolearn.lasagne.visualize import plot_conv_activity\n",
    "from nolearn.lasagne.visualize import plot_occlusion\n",
    "\n",
    "from matplotlib.pyplot import imshow\n",
    "import matplotlib.pyplot as plt\n",
    "%matplotlib inline"
   ]
  },
  {
   "cell_type": "code",
   "execution_count": 2,
   "metadata": {
    "collapsed": false
   },
   "outputs": [
    {
     "name": "stdout",
     "output_type": "stream",
     "text": [
      "CNN configuration: \n",
      "    Our CNN with different \"legs\" for image, prob, merged_array, border_overlap.\n",
      "    \n"
     ]
    }
   ],
   "source": [
    "cnn = nets.MergeNet()"
   ]
  },
  {
   "cell_type": "code",
   "execution_count": 3,
   "metadata": {
    "collapsed": false
   },
   "outputs": [
    {
     "name": "stdout",
     "output_type": "stream",
     "text": [
      "Loaded /home/d/patches/cylinder_small1/ in 0.000598907470703 seconds.\n"
     ]
    }
   ],
   "source": [
    "X_train, y_train, X_test, y_test = mlp.Patch.load('cylinder_small1')"
   ]
  },
  {
   "cell_type": "code",
   "execution_count": 4,
   "metadata": {
    "collapsed": false,
    "scrolled": false
   },
   "outputs": [
    {
     "name": "stdout",
     "output_type": "stream",
     "text": [
      "# Neural Network with 1511874 learnable parameters\n",
      "\n",
      "## Layer information\n",
      "\n",
      "  #  name          size\n",
      "---  ------------  --------\n",
      "  0  image_input   1x75x75\n",
      "  1  image_conv1   16x63x63\n",
      "  2  image_pool1   16x31x31\n",
      "  3  image_conv2   16x19x19\n",
      "  4  image_pool2   16x9x9\n",
      "  5  prob_input    1x75x75\n",
      "  6  prob_conv1    16x63x63\n",
      "  7  prob_pool1    16x31x31\n",
      "  8  prob_conv2    16x19x19\n",
      "  9  prob_pool2    16x9x9\n",
      " 10  binary_input  1x75x75\n",
      " 11  binary_conv1  16x63x63\n",
      " 12  binary_pool1  16x31x31\n",
      " 13  binary_conv2  16x19x19\n",
      " 14  binary_pool2  16x9x9\n",
      " 15  border_input  1x75x75\n",
      " 16  border_conv1  16x63x63\n",
      " 17  border_pool1  16x31x31\n",
      " 18  border_conv2  16x19x19\n",
      " 19  border_pool2  16x9x9\n",
      " 20  merge         64x9x9\n",
      " 21  hidden3       256\n",
      " 22  dropout3      256\n",
      " 23  output        2\n",
      "\n",
      "  epoch    train loss    valid loss    train/val    valid acc  dur\n",
      "-------  ------------  ------------  -----------  -----------  ------\n",
      "      1       \u001b[36m0.56966\u001b[0m       \u001b[32m0.47277\u001b[0m      1.20494      0.77361  28.63s\n",
      "      2       \u001b[36m0.46635\u001b[0m       \u001b[32m0.41808\u001b[0m      1.11545      0.81318  28.74s\n",
      "      3       \u001b[36m0.42672\u001b[0m       \u001b[32m0.39263\u001b[0m      1.08683      0.82859  28.85s\n",
      "      4       \u001b[36m0.40602\u001b[0m       \u001b[32m0.37451\u001b[0m      1.08412      0.83722  28.86s\n",
      "      5       \u001b[36m0.39249\u001b[0m       \u001b[32m0.36333\u001b[0m      1.08027      0.84323  28.85s\n",
      "      6       \u001b[36m0.37321\u001b[0m       \u001b[32m0.34555\u001b[0m      1.08005      0.85531  28.83s\n",
      "      7       \u001b[36m0.35855\u001b[0m       \u001b[32m0.33739\u001b[0m      1.06274      0.85739  29.01s\n",
      "      8       \u001b[36m0.34528\u001b[0m       \u001b[32m0.32521\u001b[0m      1.06170      0.86619  29.29s\n",
      "      9       \u001b[36m0.33248\u001b[0m       \u001b[32m0.32134\u001b[0m      1.03467      0.86439  29.48s\n",
      "     10       \u001b[36m0.32229\u001b[0m       \u001b[32m0.32001\u001b[0m      1.00712      0.86237  29.10s\n",
      "     11       \u001b[36m0.31489\u001b[0m       \u001b[32m0.31191\u001b[0m      1.00955      0.86636  29.12s\n",
      "     12       \u001b[36m0.30497\u001b[0m       \u001b[32m0.30777\u001b[0m      0.99091      0.86925  29.08s\n",
      "     13       \u001b[36m0.29797\u001b[0m       \u001b[32m0.28950\u001b[0m      1.02928      0.87953  29.11s\n",
      "     14       \u001b[36m0.28821\u001b[0m       \u001b[32m0.28153\u001b[0m      1.02370      0.88379  29.09s\n",
      "     15       \u001b[36m0.28017\u001b[0m       0.28409      0.98620      0.88106  29.09s\n",
      "     16       \u001b[36m0.27174\u001b[0m       0.28825      0.94271      0.87773  29.29s\n",
      "     17       \u001b[36m0.26400\u001b[0m       0.30291      0.87152      0.87047  29.47s\n",
      "     18       \u001b[36m0.25745\u001b[0m       \u001b[32m0.27443\u001b[0m      0.93811      0.88455  29.47s\n",
      "     19       \u001b[36m0.24780\u001b[0m       \u001b[32m0.26112\u001b[0m      0.94900      0.89156  29.48s\n",
      "     20       \u001b[36m0.24362\u001b[0m       0.26530      0.91827      0.88942  29.48s\n",
      "     21       \u001b[36m0.23393\u001b[0m       0.26909      0.86936      0.88325  29.48s\n",
      "     22       \u001b[36m0.22690\u001b[0m       \u001b[32m0.26087\u001b[0m      0.86981      0.89047  29.48s\n",
      "     23       \u001b[36m0.21927\u001b[0m       \u001b[32m0.22281\u001b[0m      0.98408      0.91074  29.48s\n",
      "     24       \u001b[36m0.21035\u001b[0m       0.23990      0.87682      0.90069  29.47s\n",
      "     25       \u001b[36m0.20120\u001b[0m       \u001b[32m0.21149\u001b[0m      0.95137      0.91364  29.48s\n",
      "     26       \u001b[36m0.19899\u001b[0m       0.25035      0.79485      0.89489  29.48s\n",
      "     27       \u001b[36m0.19447\u001b[0m       0.21230      0.91601      0.91697  29.49s\n",
      "     28       \u001b[36m0.18248\u001b[0m       \u001b[32m0.20636\u001b[0m      0.88429      0.91593  29.48s\n",
      "     29       \u001b[36m0.17789\u001b[0m       \u001b[32m0.19797\u001b[0m      0.89861      0.91970  29.47s\n",
      "     30       \u001b[36m0.16666\u001b[0m       \u001b[32m0.18587\u001b[0m      0.89664      0.92714  29.29s\n",
      "     31       \u001b[36m0.16102\u001b[0m       \u001b[32m0.17578\u001b[0m      0.91600      0.93298  29.10s\n",
      "     32       \u001b[36m0.15480\u001b[0m       0.18689      0.82827      0.92697  29.41s\n",
      "     33       \u001b[36m0.15044\u001b[0m       \u001b[32m0.17108\u001b[0m      0.87933      0.93283  29.46s\n",
      "     34       \u001b[36m0.14516\u001b[0m       \u001b[32m0.15418\u001b[0m      0.94148      0.94315  29.47s\n",
      "     35       \u001b[36m0.13676\u001b[0m       0.15767      0.86738      0.94053  29.47s\n",
      "     36       \u001b[36m0.12944\u001b[0m       \u001b[32m0.14977\u001b[0m      0.86426      0.94643  29.47s\n",
      "     37       \u001b[36m0.12471\u001b[0m       \u001b[32m0.14260\u001b[0m      0.87457      0.95305  29.48s\n",
      "     38       \u001b[36m0.11832\u001b[0m       0.14404      0.82141      0.94928  29.45s\n",
      "     39       \u001b[36m0.11305\u001b[0m       0.15248      0.74145      0.94633  29.52s\n",
      "     40       \u001b[36m0.10831\u001b[0m       \u001b[32m0.14067\u001b[0m      0.77000      0.94988  29.47s\n",
      "     41       \u001b[36m0.09950\u001b[0m       \u001b[32m0.11980\u001b[0m      0.83060      0.96152  29.46s\n",
      "     42       \u001b[36m0.09737\u001b[0m       \u001b[32m0.11720\u001b[0m      0.83078      0.96016  29.46s\n",
      "     43       \u001b[36m0.09211\u001b[0m       \u001b[32m0.11248\u001b[0m      0.81887      0.96491  29.46s\n",
      "     44       \u001b[36m0.08943\u001b[0m       \u001b[32m0.10227\u001b[0m      0.87443      0.97081  29.48s\n",
      "     45       0.08955       0.11001      0.81402      0.96354  29.45s\n",
      "     46       \u001b[36m0.08258\u001b[0m       \u001b[32m0.09791\u001b[0m      0.84340      0.97245  29.45s\n",
      "     47       \u001b[36m0.08047\u001b[0m       \u001b[32m0.09018\u001b[0m      0.89230      0.97288  29.46s\n",
      "     48       \u001b[36m0.07707\u001b[0m       0.09149      0.84243      0.97054  29.48s\n",
      "     49       \u001b[36m0.07418\u001b[0m       \u001b[32m0.08657\u001b[0m      0.85687      0.97349  29.44s\n",
      "     50       \u001b[36m0.06893\u001b[0m       \u001b[32m0.08573\u001b[0m      0.80402      0.97524  29.20s\n",
      "     51       \u001b[36m0.06598\u001b[0m       \u001b[32m0.07944\u001b[0m      0.83057      0.97628  29.13s\n",
      "     52       \u001b[36m0.06472\u001b[0m       0.08009      0.80813      0.97765  29.10s\n",
      "     53       \u001b[36m0.06221\u001b[0m       \u001b[32m0.07756\u001b[0m      0.80208      0.97731  29.13s\n",
      "     54       \u001b[36m0.05596\u001b[0m       \u001b[32m0.07204\u001b[0m      0.77678      0.97950  29.11s\n",
      "     55       0.05874       0.07893      0.74414      0.97808  29.12s\n",
      "     56       \u001b[36m0.05460\u001b[0m       \u001b[32m0.06727\u001b[0m      0.81169      0.98333  29.15s\n",
      "     57       \u001b[36m0.04986\u001b[0m       \u001b[32m0.06428\u001b[0m      0.77575      0.98245  29.09s\n",
      "     58       \u001b[36m0.04832\u001b[0m       \u001b[32m0.06389\u001b[0m      0.75631      0.98366  29.11s\n",
      "     59       \u001b[36m0.04829\u001b[0m       \u001b[32m0.06016\u001b[0m      0.80269      0.98327  29.10s\n",
      "     60       \u001b[36m0.04394\u001b[0m       \u001b[32m0.05988\u001b[0m      0.73371      0.98491  29.29s\n",
      "     61       0.04690       0.06003      0.78127      0.98650  29.46s\n",
      "     62       \u001b[36m0.04079\u001b[0m       0.06505      0.62712      0.98398  29.47s\n",
      "     63       \u001b[36m0.03938\u001b[0m       \u001b[32m0.05677\u001b[0m      0.69370      0.98847  29.47s\n",
      "     64       0.04037       0.06317      0.63905      0.98425  29.47s\n",
      "     65       0.03978       0.05744      0.69256      0.98710  29.47s\n",
      "     66       \u001b[36m0.03708\u001b[0m       \u001b[32m0.05528\u001b[0m      0.67076      0.98622  29.46s\n",
      "     67       \u001b[36m0.03500\u001b[0m       0.05860      0.59722      0.98606  29.46s\n",
      "     68       \u001b[36m0.03214\u001b[0m       0.05650      0.56898      0.98720  29.28s\n",
      "     69       0.03299       0.05789      0.56990      0.98770  29.14s\n",
      "     70       \u001b[36m0.03210\u001b[0m       \u001b[32m0.05342\u001b[0m      0.60083      0.98879  29.12s\n",
      "     71       \u001b[36m0.02999\u001b[0m       0.06023      0.49789      0.98770  29.19s\n",
      "     72       \u001b[36m0.02815\u001b[0m       \u001b[32m0.05065\u001b[0m      0.55568      0.98917  29.17s\n",
      "     73       0.03002       \u001b[32m0.04896\u001b[0m      0.61314      0.98907  29.23s\n",
      "     74       \u001b[36m0.02776\u001b[0m       0.05161      0.53790      0.98950  29.45s\n",
      "     75       \u001b[36m0.02698\u001b[0m       0.05333      0.50592      0.98934  29.44s\n",
      "     76       \u001b[36m0.02547\u001b[0m       0.05344      0.47666      0.98884  29.45s\n",
      "     77       \u001b[36m0.02306\u001b[0m       \u001b[32m0.04823\u001b[0m      0.47800      0.99016  29.44s\n",
      "     78       0.02323       0.05082      0.45710      0.98950  29.44s\n",
      "     79       \u001b[36m0.02289\u001b[0m       0.05294      0.43233      0.98983  29.45s\n",
      "     80       \u001b[36m0.02162\u001b[0m       0.05368      0.40275      0.98901  29.45s\n",
      "     81       \u001b[36m0.02123\u001b[0m       0.05087      0.41731      0.99021  29.45s\n",
      "     82       0.02125       \u001b[32m0.04795\u001b[0m      0.44310      0.99021  29.45s\n",
      "     83       0.02133       0.05094      0.41873      0.98950  29.41s\n",
      "     84       0.02242       0.05015      0.44705      0.99021  28.87s\n",
      "     85       \u001b[36m0.01986\u001b[0m       0.05922      0.33541      0.98780  29.06s\n",
      "     86       \u001b[36m0.01812\u001b[0m       0.06046      0.29972      0.98813  29.14s\n",
      "     87       \u001b[36m0.01786\u001b[0m       0.05099      0.35026      0.99065  29.14s\n",
      "     88       0.01810       0.05071      0.35692      0.98934  29.01s\n",
      "     89       0.01842       0.05533      0.33287      0.98966  28.87s\n",
      "     90       \u001b[36m0.01781\u001b[0m       0.05138      0.34666      0.99070  29.03s\n",
      "     91       \u001b[36m0.01583\u001b[0m       0.05006      0.31621      0.99097  29.14s\n",
      "     92       0.01627       0.05557      0.29287      0.98934  29.12s\n",
      "     93       0.01743       0.05248      0.33210      0.99032  29.14s\n",
      "     94       0.01678       0.05268      0.31856      0.98966  29.14s\n",
      "     95       \u001b[36m0.01404\u001b[0m       0.05618      0.24986      0.98999  29.14s\n",
      "     96       0.01688       0.05502      0.30687      0.98835  29.14s\n",
      "     97       0.01478       0.05401      0.27364      0.98934  29.13s\n",
      "     98       0.01573       0.05683      0.27687      0.98884  29.14s\n",
      "     99       0.01454       0.05285      0.27512      0.98993  29.13s\n",
      "    100       \u001b[36m0.01402\u001b[0m       \u001b[32m0.04756\u001b[0m      0.29477      0.99005  29.14s\n",
      "    101       0.01420       0.05856      0.24246      0.98862  29.15s\n",
      "    102       \u001b[36m0.01254\u001b[0m       0.06003      0.20890      0.98868  29.13s\n",
      "    103       \u001b[36m0.01252\u001b[0m       0.06073      0.20617      0.98829  29.14s\n",
      "    104       0.01496       0.05648      0.26482      0.98895  29.13s\n",
      "    105       0.01311       0.05624      0.23313      0.98901  29.13s\n",
      "    106       0.01279       0.05087      0.25137      0.99032  29.13s\n",
      "    107       0.01438       0.05757      0.24981      0.98934  28.85s\n",
      "    108       \u001b[36m0.01198\u001b[0m       0.05287      0.22657      0.99032  28.79s\n",
      "    109       \u001b[36m0.01155\u001b[0m       0.06063      0.19050      0.99032  28.79s\n",
      "    110       0.01157       0.05252      0.22020      0.99065  29.02s\n",
      "    111       \u001b[36m0.01093\u001b[0m       0.06828      0.16014      0.98829  29.11s\n",
      "    112       \u001b[36m0.01028\u001b[0m       0.05567      0.18459      0.98999  29.11s\n",
      "    113       \u001b[36m0.00981\u001b[0m       0.05944      0.16506      0.99048  29.11s\n",
      "    114       0.01106       0.07128      0.15514      0.98797  29.11s\n",
      "    115       0.01181       0.06041      0.19551      0.98934  29.11s\n",
      "    116       0.01034       0.06236      0.16576      0.98966  29.11s\n",
      "    117       0.01143       0.05779      0.19787      0.98999  29.11s\n",
      "    118       0.01082       0.06426      0.16838      0.98999  29.11s\n",
      "    119       0.01036       0.05580      0.18574      0.99032  29.11s\n",
      "    120       0.01017       0.05835      0.17429      0.99032  29.11s\n",
      "    121       0.01012       0.06247      0.16209      0.98895  29.11s\n",
      "    122       \u001b[36m0.00932\u001b[0m       0.06397      0.14574      0.98901  29.11s\n",
      "    123       \u001b[36m0.00856\u001b[0m       0.05745      0.14907      0.99032  29.11s\n",
      "    124       0.00858       0.06441      0.13326      0.98895  29.11s\n",
      "    125       \u001b[36m0.00824\u001b[0m       0.06135      0.13437      0.98961  29.11s\n",
      "    126       0.00985       0.06045      0.16302      0.99032  28.99s\n",
      "    127       0.00892       0.05530      0.16123      0.98928  29.10s\n",
      "    128       0.00859       0.06433      0.13353      0.98862  29.13s\n",
      "    129       0.00837       0.05553      0.15066      0.98966  29.13s\n",
      "    130       \u001b[36m0.00819\u001b[0m       0.06721      0.12191      0.98895  29.13s\n",
      "    131       0.00946       0.06149      0.15387      0.98966  29.13s\n",
      "    132       \u001b[36m0.00699\u001b[0m       0.06642      0.10526      0.98928  29.10s\n",
      "    133       \u001b[36m0.00615\u001b[0m       0.06663      0.09227      0.98928  28.84s\n",
      "    134       0.00963       0.07034      0.13685      0.98829  28.79s\n",
      "    135       0.00796       0.06163      0.12916      0.99065  28.79s\n",
      "    136       0.00806       0.06100      0.13216      0.98966  29.05s\n",
      "    137       0.00788       0.06277      0.12552      0.98928  29.10s\n",
      "    138       0.00841       0.06302      0.13352      0.98999  29.10s\n",
      "    139       0.01102       0.06166      0.17870      0.98999  29.10s\n",
      "    140       0.00769       0.05937      0.12947      0.99038  29.10s\n",
      "    141       0.00836       0.07136      0.11709      0.98934  29.10s\n",
      "    142       0.00869       0.06648      0.13067      0.98934  29.11s\n",
      "    143       0.00851       0.05917      0.14379      0.98999  29.11s\n",
      "    144       0.00922       0.06360      0.14490      0.98934  29.11s\n",
      "    145       0.00781       0.06421      0.12162      0.98868  29.11s\n",
      "    146       0.00702       0.06668      0.10535      0.98868  29.12s\n",
      "    147       0.00755       0.06394      0.11805      0.98999  29.11s\n",
      "    148       0.00634       0.07381      0.08596      0.98862  29.10s\n",
      "    149       0.00623       0.05848      0.10653      0.98966  29.10s\n",
      "    150       \u001b[36m0.00509\u001b[0m       0.06022      0.08453      0.98966  29.11s\n",
      "Early stopping.\n",
      "Best valid loss was 0.047562 at epoch 100.\n",
      "Loaded parameters to layer 'image_conv1' (shape 16x1x13x13).\n",
      "Loaded parameters to layer 'image_conv1' (shape 16).\n",
      "Loaded parameters to layer 'image_conv2' (shape 16x16x13x13).\n",
      "Loaded parameters to layer 'image_conv2' (shape 16).\n",
      "Loaded parameters to layer 'prob_conv1' (shape 16x1x13x13).\n",
      "Loaded parameters to layer 'prob_conv1' (shape 16).\n",
      "Loaded parameters to layer 'prob_conv2' (shape 16x16x13x13).\n",
      "Loaded parameters to layer 'prob_conv2' (shape 16).\n",
      "Loaded parameters to layer 'binary_conv1' (shape 16x1x13x13).\n",
      "Loaded parameters to layer 'binary_conv1' (shape 16).\n",
      "Loaded parameters to layer 'binary_conv2' (shape 16x16x13x13).\n",
      "Loaded parameters to layer 'binary_conv2' (shape 16).\n",
      "Loaded parameters to layer 'border_conv1' (shape 16x1x13x13).\n",
      "Loaded parameters to layer 'border_conv1' (shape 16).\n",
      "Loaded parameters to layer 'border_conv2' (shape 16x16x13x13).\n",
      "Loaded parameters to layer 'border_conv2' (shape 16).\n",
      "Loaded parameters to layer 'hidden3' (shape 5184x256).\n",
      "Loaded parameters to layer 'hidden3' (shape 256).\n",
      "Loaded parameters to layer 'output' (shape 256x2).\n",
      "Loaded parameters to layer 'output' (shape 2).\n"
     ]
    }
   ],
   "source": [
    "cnn = cnn.fit({'image_input': X_train['image'],\n",
    "               'prob_input': X_train['prob'],\n",
    "               'binary_input': X_train['merged_array'],\n",
    "               'border_input': X_train['border_overlap']},\n",
    "               y_train)"
   ]
  },
  {
   "cell_type": "code",
   "execution_count": 5,
   "metadata": {
    "collapsed": false
   },
   "outputs": [
    {
     "data": {
      "text/plain": [
       "0.8312883435582822"
      ]
     },
     "execution_count": 5,
     "metadata": {},
     "output_type": "execute_result"
    }
   ],
   "source": [
    "# this is the score on cylinder_small1 with regularization and patience counter 50\n",
    "cnn.score({'image_input': X_test['image'],\n",
    "           'prob_input': X_test['prob'],\n",
    "           'binary_input': X_test['merged_array'],\n",
    "           'border_input': X_test['border_overlap']},\n",
    "           y_test)"
   ]
  },
  {
   "cell_type": "code",
   "execution_count": null,
   "metadata": {
    "collapsed": true
   },
   "outputs": [],
   "source": [
    "# this is the plot on cylinder_small1 with regularization and patience counter 50\n",
    "plot_loss(cnn)"
   ]
  },
  {
   "cell_type": "code",
   "execution_count": 5,
   "metadata": {
    "collapsed": false
   },
   "outputs": [
    {
     "data": {
      "text/plain": [
       "0.8224693251533742"
      ]
     },
     "execution_count": 5,
     "metadata": {},
     "output_type": "execute_result"
    }
   ],
   "source": [
    "# this is the score on cylinder_small1 with regularization\n",
    "cnn.score({'image_input': X_test['image'],\n",
    "           'prob_input': X_test['prob'],\n",
    "           'binary_input': X_test['merged_array'],\n",
    "           'border_input': X_test['border_overlap']},\n",
    "           y_test)"
   ]
  },
  {
   "cell_type": "code",
   "execution_count": 6,
   "metadata": {
    "collapsed": false
   },
   "outputs": [
    {
     "data": {
      "text/plain": [
       "<module 'matplotlib.pyplot' from '/home/d/nolearn/local/lib/python2.7/site-packages/matplotlib/pyplot.pyc'>"
      ]
     },
     "execution_count": 6,
     "metadata": {},
     "output_type": "execute_result"
    },
    {
     "data": {
      "image/png": "[encoded data removed]",
      "text/plain": [
       "<matplotlib.figure.Figure at 0x7fb61c5e4850>"
      ]
     },
     "metadata": {},
     "output_type": "display_data"
    }
   ],
   "source": [
    "# this is the plot on cylinder_small1 with regularization\n",
    "plot_loss(cnn)"
   ]
  },
  {
   "cell_type": "code",
   "execution_count": 6,
   "metadata": {
    "collapsed": false
   },
   "outputs": [
    {
     "data": {
      "text/plain": [
       "0.8017638036809815"
      ]
     },
     "execution_count": 6,
     "metadata": {},
     "output_type": "execute_result"
    }
   ],
   "source": [
    "# this is the score on cylinder_small1 without regularization\n",
    "cnn.score({'image_input': X_test['image'],\n",
    "           'prob_input': X_test['prob'],\n",
    "           'binary_input': X_test['merged_array'],\n",
    "           'border_input': X_test['border_overlap']},\n",
    "           y_test)"
   ]
  },
  {
   "cell_type": "code",
   "execution_count": 7,
   "metadata": {
    "collapsed": false
   },
   "outputs": [
    {
     "data": {
      "text/plain": [
       "<module 'matplotlib.pyplot' from '/home/d/nolearn/local/lib/python2.7/site-packages/matplotlib/pyplot.pyc'>"
      ]
     },
     "execution_count": 7,
     "metadata": {},
     "output_type": "execute_result"
    },
    {
     "data": {
      "image/png": "[encoded data removed]",
      "text/plain": [
       "<matplotlib.figure.Figure at 0x7f42bc456b10>"
      ]
     },
     "metadata": {},
     "output_type": "display_data"
    }
   ],
   "source": [
    "# this is the plot on cylinder_small1 without regularization\n",
    "plot_loss(cnn)"
   ]
  },
  {
   "cell_type": "code",
   "execution_count": null,
   "metadata": {
    "collapsed": true
   },
   "outputs": [],
   "source": []
  }
 ],
 "metadata": {
  "kernelspec": {
   "display_name": "Python 2",
   "language": "python",
   "name": "python2"
  },
  "language_info": {
   "codemirror_mode": {
    "name": "ipython",
    "version": 2
   },
   "file_extension": ".py",
   "mimetype": "text/x-python",
   "name": "python",
   "nbconvert_exporter": "python",
   "pygments_lexer": "ipython2",
   "version": "2.7.6"
  }
 },
 "nbformat": 4,
 "nbformat_minor": 0
}
