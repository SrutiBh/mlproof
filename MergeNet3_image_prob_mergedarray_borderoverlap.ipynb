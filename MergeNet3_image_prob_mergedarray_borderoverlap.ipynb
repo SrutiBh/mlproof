{
 "cells": [
  {
   "cell_type": "code",
   "execution_count": 1,
   "metadata": {
    "collapsed": false
   },
   "outputs": [
    {
     "name": "stderr",
     "output_type": "stream",
     "text": [
      "Using gpu device 0: GeForce GTX TITAN (CNMeM is disabled, CuDNN 4007)\n",
      "/home/d/nolearn/local/lib/python2.7/site-packages/theano/tensor/signal/downsample.py:6: UserWarning: downsample module has been moved to the theano.tensor.signal.pool module.\n",
      "  \"downsample module has been moved to the theano.tensor.signal.pool module.\")\n"
     ]
    }
   ],
   "source": [
    "%load_ext autoreload\n",
    "%autoreload 2\n",
    "\n",
    "import mlproof as mlp\n",
    "import mlproof.nets as nets\n",
    "\n",
    "import numpy as np\n",
    "\n",
    "from nolearn.lasagne.visualize import plot_loss\n",
    "from nolearn.lasagne.visualize import plot_conv_weights\n",
    "from nolearn.lasagne.visualize import plot_conv_activity\n",
    "from nolearn.lasagne.visualize import plot_occlusion\n",
    "\n",
    "from matplotlib.pyplot import imshow\n",
    "import matplotlib.pyplot as plt\n",
    "%matplotlib inline"
   ]
  },
  {
   "cell_type": "code",
   "execution_count": 8,
   "metadata": {
    "collapsed": false
   },
   "outputs": [
    {
     "name": "stdout",
     "output_type": "stream",
     "text": [
      "CNN configuration: \n",
      "    Our CNN with different \"legs\" for image, prob, merged_array, border_overlap.\n",
      "\n",
      "    And with 3 layers.\n",
      "    \n"
     ]
    }
   ],
   "source": [
    "cnn = nets.MergeNet3()"
   ]
  },
  {
   "cell_type": "code",
   "execution_count": 5,
   "metadata": {
    "collapsed": false
   },
   "outputs": [
    {
     "name": "stdout",
     "output_type": "stream",
     "text": [
      "Loaded /home/d/patches//cylinder_small1/ in 0.000711917877197 seconds.\n"
     ]
    }
   ],
   "source": [
    "X_train, y_train, X_test, y_test = mlp.Patch.load('cylinder_small1')"
   ]
  },
  {
   "cell_type": "code",
   "execution_count": 10,
   "metadata": {
    "collapsed": false,
    "scrolled": true
   },
   "outputs": [
    {
     "name": "stdout",
     "output_type": "stream",
     "text": [
      "      2       \u001b[36m0.44917\u001b[0m       \u001b[32m0.41174\u001b[0m      1.09090      0.81701  29.60s\n",
      "      3       \u001b[36m0.41753\u001b[0m       \u001b[32m0.38888\u001b[0m      1.07368      0.82304  29.41s\n",
      "      4       \u001b[36m0.39525\u001b[0m       \u001b[32m0.38334\u001b[0m      1.03107      0.82622  29.35s\n",
      "      5       \u001b[36m0.37858\u001b[0m       \u001b[32m0.35895\u001b[0m      1.05468      0.84147  29.54s\n",
      "      6       \u001b[36m0.36478\u001b[0m       \u001b[32m0.35142\u001b[0m      1.03800      0.84909  29.46s\n",
      "      7       \u001b[36m0.35270\u001b[0m       \u001b[32m0.34261\u001b[0m      1.02945      0.85084  29.38s\n",
      "      8       \u001b[36m0.34393\u001b[0m       0.34481      0.99744      0.85101  29.61s\n",
      "      9       \u001b[36m0.33264\u001b[0m       \u001b[32m0.33736\u001b[0m      0.98600      0.85226  29.61s\n",
      "     10       \u001b[36m0.32685\u001b[0m       \u001b[32m0.31533\u001b[0m      1.03655      0.86752  29.61s\n",
      "     11       \u001b[36m0.31564\u001b[0m       0.33389      0.94534      0.85274  29.65s\n",
      "     12       \u001b[36m0.30994\u001b[0m       \u001b[32m0.30539\u001b[0m      1.01488      0.86783  29.60s\n",
      "     13       \u001b[36m0.30411\u001b[0m       0.30918      0.98360      0.86817  29.61s\n",
      "     14       \u001b[36m0.29008\u001b[0m       0.33080      0.87692      0.85017  29.64s\n",
      "     15       \u001b[36m0.28587\u001b[0m       \u001b[32m0.29937\u001b[0m      0.95489      0.87118  29.59s\n",
      "     16       \u001b[36m0.27955\u001b[0m       \u001b[32m0.28312\u001b[0m      0.98741      0.88198  29.64s\n",
      "     17       \u001b[36m0.26927\u001b[0m       0.30017      0.89707      0.86894  29.65s\n",
      "     18       \u001b[36m0.26115\u001b[0m       0.31997      0.81615      0.87087  29.67s\n",
      "     19       \u001b[36m0.25834\u001b[0m       0.28820      0.89640      0.88582  29.70s\n",
      "     20       \u001b[36m0.24568\u001b[0m       0.29063      0.84535      0.88073  29.69s\n",
      "     21       \u001b[36m0.24044\u001b[0m       \u001b[32m0.27457\u001b[0m      0.87570      0.88867  29.64s\n",
      "     22       \u001b[36m0.23401\u001b[0m       0.29495      0.79338      0.87641  29.62s\n",
      "     23       \u001b[36m0.22882\u001b[0m       \u001b[32m0.25828\u001b[0m      0.88597      0.89453  29.66s\n",
      "     24       \u001b[36m0.21758\u001b[0m       0.26522      0.82037      0.89137  29.69s\n",
      "     25       \u001b[36m0.21143\u001b[0m       \u001b[32m0.24497\u001b[0m      0.86308      0.90277  29.69s\n",
      "     26       \u001b[36m0.20585\u001b[0m       \u001b[32m0.24495\u001b[0m      0.84039      0.89483  29.70s\n",
      "     27       \u001b[36m0.19608\u001b[0m       0.25123      0.78049      0.90024  29.64s\n",
      "     28       \u001b[36m0.19473\u001b[0m       \u001b[32m0.22725\u001b[0m      0.85689      0.91245  29.60s\n",
      "     29       \u001b[36m0.19133\u001b[0m       \u001b[32m0.21857\u001b[0m      0.87538      0.91489  29.60s\n",
      "     30       \u001b[36m0.18357\u001b[0m       0.22696      0.80880      0.91264  29.65s\n",
      "     31       \u001b[36m0.17313\u001b[0m       0.22752      0.76094      0.91039  29.65s\n",
      "     32       \u001b[36m0.16642\u001b[0m       0.26058      0.63867      0.89802  29.62s\n",
      "     33       \u001b[36m0.16545\u001b[0m       \u001b[32m0.20982\u001b[0m      0.78857      0.91802  29.65s\n",
      "     34       \u001b[36m0.15535\u001b[0m       0.20996      0.73994      0.92376  29.62s\n",
      "     35       \u001b[36m0.15207\u001b[0m       0.21609      0.70374      0.92092  29.60s\n",
      "     36       \u001b[36m0.13846\u001b[0m       \u001b[32m0.18413\u001b[0m      0.75197      0.93408  29.65s\n",
      "     37       0.14227       0.18642      0.76318      0.93299  29.64s\n",
      "     38       \u001b[36m0.13549\u001b[0m       0.21869      0.61956      0.92405  29.69s\n",
      "     39       0.13928       0.19593      0.71086      0.92627  29.68s\n",
      "     40       \u001b[36m0.13075\u001b[0m       0.22814      0.57310      0.92215  29.66s\n",
      "     41       \u001b[36m0.12523\u001b[0m       0.19317      0.64830      0.93218  29.67s\n",
      "     42       \u001b[36m0.12172\u001b[0m       \u001b[32m0.18056\u001b[0m      0.67414      0.93454  29.65s\n",
      "     43       \u001b[36m0.11089\u001b[0m       0.18269      0.60698      0.93787  29.61s\n",
      "     44       \u001b[36m0.10883\u001b[0m       0.18894      0.57601      0.93326  29.62s\n",
      "     45       0.10923       0.18551      0.58878      0.93962  29.61s\n",
      "     46       0.11045       \u001b[32m0.17598\u001b[0m      0.62764      0.94135  29.60s\n",
      "     47       \u001b[36m0.10003\u001b[0m       \u001b[32m0.15101\u001b[0m      0.66243      0.94712  29.63s\n",
      "     48       \u001b[36m0.09754\u001b[0m       0.17087      0.57082      0.94091  29.71s\n",
      "     49       0.10012       \u001b[32m0.15002\u001b[0m      0.66737      0.94615  29.65s\n",
      "     50       \u001b[36m0.09285\u001b[0m       0.18133      0.51206      0.94171  29.62s\n",
      "     51       \u001b[36m0.08924\u001b[0m       0.15077      0.59189      0.95601  29.66s\n",
      "     52       \u001b[36m0.08461\u001b[0m       0.16273      0.51997      0.95188  29.62s\n",
      "     53       \u001b[36m0.08378\u001b[0m       \u001b[32m0.14722\u001b[0m      0.56905      0.95490  29.62s\n",
      "     54       0.08583       0.19266      0.44551      0.93393  29.68s\n",
      "     55       0.08551       0.23457      0.36452      0.92613  29.65s\n",
      "     56       \u001b[36m0.07765\u001b[0m       0.17890      0.43404      0.94092  29.60s\n",
      "     57       \u001b[36m0.07250\u001b[0m       \u001b[32m0.14197\u001b[0m      0.51062      0.95806  29.63s\n",
      "     58       \u001b[36m0.06702\u001b[0m       0.14593      0.45923      0.95073  29.60s\n",
      "     59       0.07016       0.14425      0.48638      0.95758  29.65s\n",
      "     60       0.06878       0.17132      0.40148      0.95376  29.61s\n",
      "     61       0.07580       0.16708      0.45367      0.95457  29.60s\n",
      "     62       0.06785       0.14228      0.47690      0.95933  29.64s\n",
      "     63       \u001b[36m0.05668\u001b[0m       0.16665      0.34013      0.95521  29.63s\n",
      "     64       0.06296       0.14479      0.43485      0.96012  29.71s\n",
      "     65       0.05926       0.16274      0.36414      0.95532  29.74s\n",
      "     66       0.05858       0.14303      0.40956      0.96425  29.86s\n",
      "     67       0.05684       0.14416      0.39429      0.95933  29.76s\n",
      "     68       \u001b[36m0.05640\u001b[0m       0.14324      0.39375      0.95585  29.80s\n",
      "     69       \u001b[36m0.05582\u001b[0m       \u001b[32m0.13120\u001b[0m      0.42548      0.96585  29.81s\n",
      "     70       \u001b[36m0.05018\u001b[0m       0.15989      0.31386      0.96378  29.79s\n",
      "     71       0.05192       0.14128      0.36749      0.96171  29.73s\n",
      "     72       \u001b[36m0.04685\u001b[0m       0.15276      0.30668      0.95790  29.65s\n",
      "     73       0.05254       0.14088      0.37295      0.96712  29.76s\n",
      "     74       \u001b[36m0.04641\u001b[0m       0.15098      0.30739      0.95948  29.74s\n",
      "     75       \u001b[36m0.04322\u001b[0m       \u001b[32m0.12793\u001b[0m      0.33783      0.96824  29.74s\n",
      "     76       0.04543       0.14843      0.30608      0.96647  29.84s\n",
      "     77       0.04684       \u001b[32m0.12673\u001b[0m      0.36958      0.96888  29.67s\n",
      "     78       \u001b[36m0.04129\u001b[0m       0.13284      0.31079      0.96933  29.64s\n",
      "     79       \u001b[36m0.03738\u001b[0m       0.13878      0.26936      0.96758  29.65s\n",
      "     80       0.04110       0.13897      0.29576      0.96393  29.71s\n",
      "     81       0.03897       \u001b[32m0.12580\u001b[0m      0.30976      0.97092  29.70s\n",
      "     82       0.04204       0.13106      0.32073      0.96934  29.65s\n",
      "     83       0.03785       0.12738      0.29717      0.97330  29.65s\n",
      "     84       \u001b[36m0.02975\u001b[0m       0.12826      0.23192      0.97109  29.63s\n",
      "     85       0.03321       \u001b[32m0.11552\u001b[0m      0.28750      0.97252  29.68s\n",
      "     86       0.03345       0.14865      0.22503      0.96964  29.63s\n",
      "     87       0.04711       0.13841      0.34036      0.96762  29.63s\n",
      "     88       0.03903       0.15472      0.25223      0.96297  29.63s\n",
      "     89       0.03729       0.13058      0.28556      0.96648  29.68s\n",
      "     90       0.03702       0.11863      0.31204      0.97330  29.67s\n",
      "     91       \u001b[36m0.02640\u001b[0m       0.13700      0.19271      0.97283  29.63s\n",
      "     92       0.03549       0.12031      0.29503      0.97252  29.62s\n",
      "     93       0.02841       0.13233      0.21468      0.96966  29.65s\n",
      "     94       0.02995       0.11883      0.25206      0.97710  29.70s\n",
      "     95       0.02708       0.12667      0.21380      0.97568  29.65s\n",
      "     96       \u001b[36m0.02523\u001b[0m       0.12440      0.20282      0.97475  29.63s\n",
      "     97       0.02696       0.14553      0.18526      0.97631  29.66s\n",
      "     98       \u001b[36m0.02010\u001b[0m       0.14309      0.14047      0.97679  29.67s\n",
      "     99       0.02442       0.11874      0.20568      0.97489  29.63s\n",
      "    100       0.02312       0.15029      0.15382      0.97317  29.63s\n",
      "    101       0.02803       0.15929      0.17599      0.96964  29.66s\n",
      "    102       0.03363       0.13049      0.25773      0.97616  29.63s\n",
      "    103       0.02622       0.13554      0.19346      0.97585  29.66s\n",
      "    104       \u001b[36m0.01869\u001b[0m       0.12450      0.15015      0.97807  29.64s\n",
      "    105       0.02823       0.13935      0.20258      0.97266  29.64s\n",
      "    106       0.01918       0.14139      0.13566      0.97904  29.66s\n",
      "    107       0.01997       0.14942      0.13365      0.97727  29.69s\n",
      "    108       0.02764       0.13716      0.20149      0.97903  29.65s\n",
      "    109       0.02810       0.13163      0.21345      0.97775  29.62s\n",
      "    110       0.02418       0.14340      0.16862      0.97713  29.62s\n",
      "    111       0.02131       0.14081      0.15135      0.97631  29.65s\n",
      "    112       0.02532       0.13292      0.19050      0.97951  29.66s\n",
      "    113       0.02065       0.12332      0.16747      0.97667  29.69s\n",
      "    114       0.02151       0.11962      0.17984      0.97982  29.65s\n",
      "    115       0.02534       0.16255      0.15592      0.97647  29.64s\n",
      "Early stopping.\n",
      "Best valid loss was 0.115523 at epoch 85.\n",
      "Loaded parameters to layer 'image_conv1' (shape 16x1x13x13).\n",
      "Loaded parameters to layer 'image_conv1' (shape 16).\n",
      "Loaded parameters to layer 'image_conv2' (shape 16x16x13x13).\n",
      "Loaded parameters to layer 'image_conv2' (shape 16).\n",
      "Loaded parameters to layer 'image_conv3' (shape 16x16x7x7).\n",
      "Loaded parameters to layer 'image_conv3' (shape 16).\n",
      "Loaded parameters to layer 'prob_conv1' (shape 16x1x13x13).\n",
      "Loaded parameters to layer 'prob_conv1' (shape 16).\n",
      "Loaded parameters to layer 'prob_conv2' (shape 16x16x13x13).\n",
      "Loaded parameters to layer 'prob_conv2' (shape 16).\n",
      "Loaded parameters to layer 'prob_conv3' (shape 16x16x7x7).\n",
      "Loaded parameters to layer 'prob_conv3' (shape 16).\n",
      "Loaded parameters to layer 'binary_conv1' (shape 16x1x13x13).\n",
      "Loaded parameters to layer 'binary_conv1' (shape 16).\n",
      "Loaded parameters to layer 'binary_conv2' (shape 16x16x13x13).\n",
      "Loaded parameters to layer 'binary_conv2' (shape 16).\n",
      "Loaded parameters to layer 'binary_conv3' (shape 16x16x7x7).\n",
      "Loaded parameters to layer 'binary_conv3' (shape 16).\n",
      "Loaded parameters to layer 'border_conv1' (shape 16x1x13x13).\n",
      "Loaded parameters to layer 'border_conv1' (shape 16).\n",
      "Loaded parameters to layer 'border_conv2' (shape 16x16x13x13).\n",
      "Loaded parameters to layer 'border_conv2' (shape 16).\n",
      "Loaded parameters to layer 'border_conv3' (shape 16x16x7x7).\n",
      "Loaded parameters to layer 'border_conv3' (shape 16).\n",
      "Loaded parameters to layer 'hidden3' (shape 64x256).\n",
      "Loaded parameters to layer 'hidden3' (shape 256).\n",
      "Loaded parameters to layer 'output' (shape 256x2).\n",
      "Loaded parameters to layer 'output' (shape 2).\n"
     ]
    }
   ],
   "source": [
    "cnn = cnn.fit({'image_input': X_train['image'],\n",
    "               'prob_input': X_train['prob'],\n",
    "               'binary_input': X_train['merged_array'],\n",
    "               'border_input': X_train['border_overlap']},\n",
    "               y_train)"
   ]
  },
  {
   "cell_type": "code",
   "execution_count": 11,
   "metadata": {
    "collapsed": false
   },
   "outputs": [
    {
     "data": {
      "text/plain": [
       "0.807707055214724"
      ]
     },
     "execution_count": 11,
     "metadata": {},
     "output_type": "execute_result"
    }
   ],
   "source": [
    "# this is the score on cylinder_small1 with regularization and patience counter 50 and data augmentation\n",
    "cnn.score({'image_input': X_test['image'],\n",
    "           'prob_input': X_test['prob'],\n",
    "           'binary_input': X_test['merged_array'],\n",
    "           'border_input': X_test['border_overlap']},\n",
    "           y_test)"
   ]
  },
  {
   "cell_type": "code",
   "execution_count": 6,
   "metadata": {
    "collapsed": false
   },
   "outputs": [
    {
     "data": {
      "text/plain": [
       "<module 'matplotlib.pyplot' from '/home/d/nolearn/local/lib/python2.7/site-packages/matplotlib/pyplot.pyc'>"
      ]
     },
     "execution_count": 6,
     "metadata": {},
     "output_type": "execute_result"
    },
    {
     "data": {
      "image/png": "[encoded data removed]",
      "text/plain": [
       "<matplotlib.figure.Figure at 0x7f647c777bd0>"
      ]
     },
     "metadata": {},
     "output_type": "display_data"
    }
   ],
   "source": [
    "# this is the plot on cylinder_small1 with regularization and patience counter 50 and data augmentation\n",
    "plot_loss(cnn)"
   ]
  },
  {
   "cell_type": "code",
   "execution_count": 5,
   "metadata": {
    "collapsed": false
   },
   "outputs": [
    {
     "data": {
      "text/plain": [
       "0.8312883435582822"
      ]
     },
     "execution_count": 5,
     "metadata": {},
     "output_type": "execute_result"
    }
   ],
   "source": [
    "# this is the score on cylinder_small1 with regularization and patience counter 50\n",
    "cnn.score({'image_input': X_test['image'],\n",
    "           'prob_input': X_test['prob'],\n",
    "           'binary_input': X_test['merged_array'],\n",
    "           'border_input': X_test['border_overlap']},\n",
    "           y_test)"
   ]
  },
  {
   "cell_type": "code",
   "execution_count": 6,
   "metadata": {
    "collapsed": false
   },
   "outputs": [
    {
     "data": {
      "text/plain": [
       "<module 'matplotlib.pyplot' from '/home/d/nolearn/local/lib/python2.7/site-packages/matplotlib/pyplot.pyc'>"
      ]
     },
     "execution_count": 6,
     "metadata": {},
     "output_type": "execute_result"
    },
    {
     "data": {
      "image/png": "[encoded data removed]",
      "text/plain": [
       "<matplotlib.figure.Figure at 0x7f2f4c320d90>"
      ]
     },
     "metadata": {},
     "output_type": "display_data"
    }
   ],
   "source": [
    "# this is the plot on cylinder_small1 with regularization and patience counter 50\n",
    "plot_loss(cnn)"
   ]
  },
  {
   "cell_type": "code",
   "execution_count": 5,
   "metadata": {
    "collapsed": false
   },
   "outputs": [
    {
     "data": {
      "text/plain": [
       "0.8224693251533742"
      ]
     },
     "execution_count": 5,
     "metadata": {},
     "output_type": "execute_result"
    }
   ],
   "source": [
    "# this is the score on cylinder_small1 with regularization\n",
    "cnn.score({'image_input': X_test['image'],\n",
    "           'prob_input': X_test['prob'],\n",
    "           'binary_input': X_test['merged_array'],\n",
    "           'border_input': X_test['border_overlap']},\n",
    "           y_test)"
   ]
  },
  {
   "cell_type": "code",
   "execution_count": 6,
   "metadata": {
    "collapsed": false
   },
   "outputs": [
    {
     "data": {
      "text/plain": [
       "<module 'matplotlib.pyplot' from '/home/d/nolearn/local/lib/python2.7/site-packages/matplotlib/pyplot.pyc'>"
      ]
     },
     "execution_count": 6,
     "metadata": {},
     "output_type": "execute_result"
    },
    {
     "data": {
      "image/png": "[encoded data removed]",
      "text/plain": [
       "<matplotlib.figure.Figure at 0x7fb61c5e4850>"
      ]
     },
     "metadata": {},
     "output_type": "display_data"
    }
   ],
   "source": [
    "# this is the plot on cylinder_small1 with regularization\n",
    "plot_loss(cnn)"
   ]
  },
  {
   "cell_type": "code",
   "execution_count": 6,
   "metadata": {
    "collapsed": false
   },
   "outputs": [
    {
     "data": {
      "text/plain": [
       "0.8017638036809815"
      ]
     },
     "execution_count": 6,
     "metadata": {},
     "output_type": "execute_result"
    }
   ],
   "source": [
    "# this is the score on cylinder_small1 without regularization\n",
    "cnn.score({'image_input': X_test['image'],\n",
    "           'prob_input': X_test['prob'],\n",
    "           'binary_input': X_test['merged_array'],\n",
    "           'border_input': X_test['border_overlap']},\n",
    "           y_test)"
   ]
  },
  {
   "cell_type": "code",
   "execution_count": 7,
   "metadata": {
    "collapsed": false
   },
   "outputs": [
    {
     "data": {
      "text/plain": [
       "<module 'matplotlib.pyplot' from '/home/d/nolearn/local/lib/python2.7/site-packages/matplotlib/pyplot.pyc'>"
      ]
     },
     "execution_count": 7,
     "metadata": {},
     "output_type": "execute_result"
    },
    {
     "data": {
      "image/png": "[encoded data removed]",
      "text/plain": [
       "<matplotlib.figure.Figure at 0x7f42bc456b10>"
      ]
     },
     "metadata": {},
     "output_type": "display_data"
    }
   ],
   "source": [
    "# this is the plot on cylinder_small1 without regularization\n",
    "plot_loss(cnn)"
   ]
  },
  {
   "cell_type": "code",
   "execution_count": null,
   "metadata": {
    "collapsed": true
   },
   "outputs": [],
   "source": []
  }
 ],
 "metadata": {
  "kernelspec": {
   "display_name": "Python 2",
   "language": "python",
   "name": "python2"
  },
  "language_info": {
   "codemirror_mode": {
    "name": "ipython",
    "version": 2
   },
   "file_extension": ".py",
   "mimetype": "text/x-python",
   "name": "python",
   "nbconvert_exporter": "python",
   "pygments_lexer": "ipython2",
   "version": "2.7.6"
  }
 },
 "nbformat": 4,
 "nbformat_minor": 0
}
