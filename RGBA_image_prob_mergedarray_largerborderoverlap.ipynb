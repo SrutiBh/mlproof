{
 "cells": [
  {
   "cell_type": "code",
   "execution_count": 1,
   "metadata": {
    "collapsed": false
   },
   "outputs": [
    {
     "name": "stderr",
     "output_type": "stream",
     "text": [
      "/home/d/nolearn/local/lib/python2.7/site-packages/matplotlib/font_manager.py:273: UserWarning: Matplotlib is building the font cache using fc-list. This may take a moment.\n",
      "  warnings.warn('Matplotlib is building the font cache using fc-list. This may take a moment.')\n",
      "Using gpu device 0: GeForce GTX TITAN Black (CNMeM is disabled, CuDNN 4007)\n",
      "/home/d/nolearn/local/lib/python2.7/site-packages/theano/tensor/signal/downsample.py:6: UserWarning: downsample module has been moved to the theano.tensor.signal.pool module.\n",
      "  \"downsample module has been moved to the theano.tensor.signal.pool module.\")\n"
     ]
    }
   ],
   "source": [
    "%load_ext autoreload\n",
    "%autoreload 2\n",
    "\n",
    "import mlproof as mlp\n",
    "import mlproof.nets as nets\n",
    "\n",
    "import numpy as np\n",
    "\n",
    "from nolearn.lasagne.visualize import plot_loss\n",
    "from nolearn.lasagne.visualize import plot_conv_weights\n",
    "from nolearn.lasagne.visualize import plot_conv_activity\n",
    "from nolearn.lasagne.visualize import plot_occlusion\n",
    "\n",
    "from matplotlib.pyplot import imshow\n",
    "import matplotlib.pyplot as plt\n",
    "%matplotlib inline"
   ]
  },
  {
   "cell_type": "code",
   "execution_count": 11,
   "metadata": {
    "collapsed": false
   },
   "outputs": [
    {
     "name": "stdout",
     "output_type": "stream",
     "text": [
      "CNN configuration: \n",
      "    Our CNN with image, prob, merged_array, border_overlap as RGBA.\n",
      "    \n"
     ]
    }
   ],
   "source": [
    "cnn = nets.RGBANet()"
   ]
  },
  {
   "cell_type": "code",
   "execution_count": 4,
   "metadata": {
    "collapsed": false
   },
   "outputs": [
    {
     "name": "stdout",
     "output_type": "stream",
     "text": [
      "Loaded /home/d/patches/cylinder_small1/ in 0.00253796577454 seconds.\n"
     ]
    }
   ],
   "source": [
    "X_train, y_train, X_test, y_test = mlp.Patch.load('cylinder_small1')"
   ]
  },
  {
   "cell_type": "code",
   "execution_count": 5,
   "metadata": {
    "collapsed": false
   },
   "outputs": [],
   "source": [
    "X_train_rgba = np.concatenate((X_train['image'], \n",
    "                               X_train['prob'], \n",
    "                               X_train['merged_array'],\n",
    "                               X_train['larger_border_overlap']), 1)"
   ]
  },
  {
   "cell_type": "code",
   "execution_count": 6,
   "metadata": {
    "collapsed": true
   },
   "outputs": [],
   "source": [
    "X_test_rgba = np.concatenate((X_test['image'], \n",
    "                              X_test['prob'], \n",
    "                              X_test['merged_array'],\n",
    "                              X_test['larger_border_overlap']), 1)"
   ]
  },
  {
   "cell_type": "code",
   "execution_count": 12,
   "metadata": {
    "collapsed": false
   },
   "outputs": [
    {
     "name": "stdout",
     "output_type": "stream",
     "text": [
      "# Neural Network with 386658 learnable parameters\n",
      "\n",
      "## Layer information\n",
      "\n",
      "  #  name      size\n",
      "---  --------  --------\n",
      "  0  input     4x75x75\n",
      "  1  conv1     16x63x63\n",
      "  2  pool1     16x31x31\n",
      "  3  conv2     16x19x19\n",
      "  4  pool2     16x9x9\n",
      "  5  hidden3   256\n",
      "  6  dropout3  256\n",
      "  7  output    2\n",
      "\n",
      "  epoch    train loss    valid loss    train/val    valid acc  dur\n",
      "-------  ------------  ------------  -----------  -----------  ------\n",
      "      1       \u001b[36m0.54357\u001b[0m       \u001b[32m0.43683\u001b[0m      1.24435      0.80432  11.82s\n",
      "      2       \u001b[36m0.44456\u001b[0m       \u001b[32m0.40397\u001b[0m      1.10047      0.82509  11.99s\n",
      "      3       \u001b[36m0.41504\u001b[0m       \u001b[32m0.38182\u001b[0m      1.08701      0.83613  12.29s\n",
      "      4       \u001b[36m0.39056\u001b[0m       \u001b[32m0.36039\u001b[0m      1.08372      0.84854  12.23s\n",
      "      5       \u001b[36m0.37330\u001b[0m       \u001b[32m0.34177\u001b[0m      1.09225      0.86204  11.69s\n",
      "      6       \u001b[36m0.35814\u001b[0m       \u001b[32m0.33168\u001b[0m      1.07976      0.86570  12.21s\n",
      "      7       \u001b[36m0.34049\u001b[0m       \u001b[32m0.31820\u001b[0m      1.07002      0.86942  12.13s\n",
      "      8       \u001b[36m0.32637\u001b[0m       \u001b[32m0.31430\u001b[0m      1.03838      0.87100  11.97s\n",
      "      9       \u001b[36m0.31812\u001b[0m       \u001b[32m0.30688\u001b[0m      1.03663      0.87521  12.06s\n",
      "     10       \u001b[36m0.30853\u001b[0m       0.30747      1.00347      0.87423  11.83s\n",
      "     11       \u001b[36m0.29865\u001b[0m       \u001b[32m0.29590\u001b[0m      1.00929      0.87510  11.88s\n",
      "     12       \u001b[36m0.28784\u001b[0m       \u001b[32m0.28099\u001b[0m      1.02438      0.88346  11.83s\n",
      "     13       \u001b[36m0.28114\u001b[0m       \u001b[32m0.27288\u001b[0m      1.03025      0.88746  11.69s\n",
      "     14       \u001b[36m0.26928\u001b[0m       0.27420      0.98206      0.88352  11.66s\n",
      "     15       \u001b[36m0.26117\u001b[0m       \u001b[32m0.26745\u001b[0m      0.97649      0.88926  11.70s\n",
      "     16       \u001b[36m0.25085\u001b[0m       0.27659      0.90693      0.88456  11.74s\n",
      "     17       \u001b[36m0.24713\u001b[0m       0.27685      0.89264      0.88401  12.08s\n",
      "     18       \u001b[36m0.23922\u001b[0m       0.26915      0.88881      0.88686  12.58s\n",
      "     19       \u001b[36m0.23019\u001b[0m       \u001b[32m0.25126\u001b[0m      0.91613      0.89856  11.96s\n",
      "     20       \u001b[36m0.22271\u001b[0m       \u001b[32m0.24068\u001b[0m      0.92532      0.90047  11.85s\n",
      "     21       \u001b[36m0.21420\u001b[0m       0.27170      0.78838      0.88915  11.85s\n",
      "     22       \u001b[36m0.20727\u001b[0m       0.25881      0.80086      0.89200  11.97s\n",
      "     23       \u001b[36m0.20011\u001b[0m       0.24873      0.80455      0.89817  11.87s\n",
      "     24       \u001b[36m0.19300\u001b[0m       \u001b[32m0.22147\u001b[0m      0.87146      0.90582  11.79s\n",
      "     25       \u001b[36m0.18421\u001b[0m       0.22676      0.81236      0.90724  12.04s\n",
      "     26       \u001b[36m0.17739\u001b[0m       0.23002      0.77118      0.90238  12.04s\n",
      "     27       \u001b[36m0.16965\u001b[0m       \u001b[32m0.20244\u001b[0m      0.83799      0.91407  12.16s\n",
      "     28       \u001b[36m0.16234\u001b[0m       \u001b[32m0.19651\u001b[0m      0.82614      0.92004  12.34s\n",
      "     29       \u001b[36m0.15539\u001b[0m       0.22566      0.68860      0.90818  11.76s\n",
      "     30       \u001b[36m0.14617\u001b[0m       \u001b[32m0.19329\u001b[0m      0.75621      0.92156  11.76s\n",
      "     31       \u001b[36m0.14388\u001b[0m       \u001b[32m0.17866\u001b[0m      0.80535      0.93042  11.76s\n",
      "     32       \u001b[36m0.13528\u001b[0m       0.18399      0.73526      0.92638  11.82s\n",
      "     33       \u001b[36m0.12990\u001b[0m       \u001b[32m0.17667\u001b[0m      0.73523      0.93025  11.81s\n",
      "     34       \u001b[36m0.12547\u001b[0m       \u001b[32m0.17334\u001b[0m      0.72382      0.93293  11.78s\n",
      "     35       \u001b[36m0.11845\u001b[0m       \u001b[32m0.16058\u001b[0m      0.73763      0.93971  11.76s\n",
      "     36       \u001b[36m0.11204\u001b[0m       \u001b[32m0.14629\u001b[0m      0.76583      0.94911  11.76s\n",
      "     37       \u001b[36m0.10546\u001b[0m       \u001b[32m0.14082\u001b[0m      0.74888      0.94993  11.75s\n",
      "     38       \u001b[36m0.10367\u001b[0m       \u001b[32m0.13741\u001b[0m      0.75446      0.95233  11.76s\n",
      "     39       \u001b[36m0.09784\u001b[0m       0.14262      0.68597      0.94770  11.77s\n",
      "     40       \u001b[36m0.09142\u001b[0m       \u001b[32m0.13212\u001b[0m      0.69199      0.95655  11.75s\n",
      "     41       \u001b[36m0.08615\u001b[0m       0.13731      0.62743      0.94999  11.75s\n",
      "     42       \u001b[36m0.08367\u001b[0m       \u001b[32m0.12842\u001b[0m      0.65154      0.95311  11.75s\n",
      "     43       \u001b[36m0.07396\u001b[0m       \u001b[32m0.11569\u001b[0m      0.63931      0.96212  12.49s\n",
      "     44       0.07584       \u001b[32m0.11525\u001b[0m      0.65803      0.96093  12.30s\n",
      "     45       \u001b[36m0.07294\u001b[0m       0.14444      0.50496      0.94546  12.13s\n",
      "     46       \u001b[36m0.06884\u001b[0m       0.11842      0.58129      0.95825  12.21s\n",
      "     47       \u001b[36m0.06630\u001b[0m       \u001b[32m0.10060\u001b[0m      0.65906      0.96847  11.95s\n",
      "     48       \u001b[36m0.06056\u001b[0m       0.10226      0.59217      0.96710  11.91s\n",
      "     49       \u001b[36m0.05669\u001b[0m       0.10249      0.55309      0.96716  11.84s\n",
      "     50       \u001b[36m0.05383\u001b[0m       \u001b[32m0.09481\u001b[0m      0.56775      0.96961  11.90s\n",
      "     51       0.05453       0.12269      0.44444      0.95491  11.95s\n",
      "     52       \u001b[36m0.05031\u001b[0m       0.10432      0.48227      0.96306  11.87s\n",
      "     53       \u001b[36m0.04985\u001b[0m       0.11131      0.44781      0.96021  12.24s\n",
      "     54       \u001b[36m0.04676\u001b[0m       \u001b[32m0.08936\u001b[0m      0.52327      0.96939  12.00s\n",
      "     55       \u001b[36m0.04516\u001b[0m       \u001b[32m0.08006\u001b[0m      0.56407      0.97683  11.99s\n",
      "     56       \u001b[36m0.04053\u001b[0m       0.08910      0.45488      0.96874  12.09s\n",
      "     57       0.04057       0.08645      0.46929      0.97207  12.10s\n",
      "     58       \u001b[36m0.03884\u001b[0m       \u001b[32m0.07563\u001b[0m      0.51350      0.97732  11.97s\n",
      "     59       \u001b[36m0.03522\u001b[0m       0.08524      0.41314      0.97355  12.29s\n",
      "     60       \u001b[36m0.03445\u001b[0m       0.08233      0.41838      0.97437  11.90s\n",
      "     61       \u001b[36m0.03237\u001b[0m       \u001b[32m0.07562\u001b[0m      0.42803      0.97732  11.88s\n",
      "     62       \u001b[36m0.03118\u001b[0m       \u001b[32m0.07490\u001b[0m      0.41626      0.97634  11.78s\n",
      "     63       \u001b[36m0.02958\u001b[0m       0.08417      0.35138      0.97748  11.78s\n",
      "     64       \u001b[36m0.02744\u001b[0m       0.08595      0.31925      0.97349  11.76s\n",
      "     65       0.02794       \u001b[32m0.06602\u001b[0m      0.42328      0.98382  11.70s\n",
      "     66       0.02748       0.07480      0.36742      0.97978  11.71s\n",
      "     67       \u001b[36m0.02489\u001b[0m       0.06765      0.36799      0.98349  11.75s\n",
      "     68       0.02500       \u001b[32m0.06536\u001b[0m      0.38241      0.98639  11.78s\n",
      "     69       \u001b[36m0.02182\u001b[0m       0.06971      0.31309      0.98043  11.74s\n",
      "     70       \u001b[36m0.02167\u001b[0m       \u001b[32m0.06377\u001b[0m      0.33983      0.98273  11.77s\n",
      "     71       0.02236       \u001b[32m0.06286\u001b[0m      0.35575      0.98453  11.70s\n",
      "     72       0.02359       0.06697      0.35223      0.98240  11.69s\n",
      "     73       \u001b[36m0.02141\u001b[0m       \u001b[32m0.06155\u001b[0m      0.34794      0.98601  11.69s\n",
      "     74       \u001b[36m0.01845\u001b[0m       0.06403      0.28808      0.98634  11.72s\n",
      "     75       0.01992       0.06610      0.30139      0.98502  11.70s\n",
      "     76       0.01908       0.06596      0.28922      0.98322  11.74s\n",
      "     77       \u001b[36m0.01758\u001b[0m       0.06180      0.28450      0.98371  11.80s\n",
      "     78       0.01821       0.06475      0.28115      0.98732  11.68s\n",
      "     79       0.01800       \u001b[32m0.05719\u001b[0m      0.31469      0.98683  11.70s\n",
      "     80       \u001b[36m0.01751\u001b[0m       0.06470      0.27058      0.98470  11.69s\n",
      "     81       \u001b[36m0.01512\u001b[0m       0.06093      0.24811      0.98896  11.75s\n",
      "     82       0.01619       0.06633      0.24402      0.98470  11.78s\n",
      "     83       0.01514       \u001b[32m0.05524\u001b[0m      0.27406      0.98934  11.68s\n",
      "     84       0.01547       0.05988      0.25831      0.98738  11.70s\n",
      "     85       \u001b[36m0.01310\u001b[0m       0.05883      0.22264      0.98716  11.69s\n",
      "     86       \u001b[36m0.01287\u001b[0m       0.05870      0.21931      0.98961  11.71s\n",
      "     87       \u001b[36m0.01237\u001b[0m       0.06315      0.19581      0.98590  11.69s\n",
      "     88       0.01319       0.06406      0.20584      0.98683  11.69s\n",
      "     89       \u001b[36m0.01109\u001b[0m       0.05759      0.19252      0.98912  11.70s\n",
      "     90       0.01157       0.06875      0.16822      0.98568  11.70s\n",
      "     91       0.01247       0.06440      0.19371      0.98355  11.70s\n",
      "     92       \u001b[36m0.01076\u001b[0m       0.08038      0.13390      0.98437  11.70s\n",
      "     93       0.01103       0.06532      0.16893      0.98666  11.69s\n",
      "     94       \u001b[36m0.01062\u001b[0m       0.06491      0.16365      0.98666  11.71s\n",
      "     95       \u001b[36m0.01055\u001b[0m       0.06225      0.16951      0.98656  11.70s\n",
      "     96       \u001b[36m0.00928\u001b[0m       0.07626      0.12170      0.98584  11.68s\n",
      "     97       \u001b[36m0.00923\u001b[0m       0.06127      0.15067      0.98765  11.69s\n",
      "     98       0.00957       0.05661      0.16909      0.99049  11.68s\n",
      "     99       0.00956       0.07170      0.13335      0.98634  11.68s\n",
      "    100       0.01097       0.06156      0.17827      0.98896  11.70s\n",
      "    101       \u001b[36m0.00837\u001b[0m       0.06989      0.11970      0.98666  11.74s\n",
      "    102       \u001b[36m0.00836\u001b[0m       0.06874      0.12167      0.98650  11.70s\n",
      "    103       \u001b[36m0.00808\u001b[0m       0.06262      0.12898      0.98820  11.72s\n",
      "    104       0.00811       0.06199      0.13076      0.98650  11.79s\n",
      "    105       \u001b[36m0.00756\u001b[0m       0.05996      0.12605      0.98945  11.68s\n",
      "    106       0.00971       0.06144      0.15797      0.98885  11.69s\n",
      "    107       \u001b[36m0.00744\u001b[0m       0.07383      0.10081      0.98617  11.75s\n",
      "    108       0.00850       0.05705      0.14901      0.99049  11.84s\n",
      "    109       0.00791       0.07941      0.09961      0.98617  11.76s\n",
      "    110       \u001b[36m0.00730\u001b[0m       0.06208      0.11753      0.98781  12.22s\n",
      "    111       0.00813       0.06127      0.13266      0.98934  12.33s\n",
      "    112       \u001b[36m0.00684\u001b[0m       0.07320      0.09341      0.98726  11.90s\n",
      "    113       0.00700       0.06418      0.10901      0.98847  11.97s\n",
      "    114       0.00710       0.06661      0.10657      0.98721  11.79s\n",
      "    115       \u001b[36m0.00602\u001b[0m       0.05906      0.10197      0.99016  11.79s\n",
      "    116       0.00669       0.05889      0.11368      0.99000  12.16s\n",
      "    117       \u001b[36m0.00555\u001b[0m       0.06814      0.08138      0.98863  12.39s\n",
      "    118       0.00712       0.08400      0.08482      0.98644  12.08s\n",
      "    119       0.00556       0.07369      0.07549      0.98650  11.83s\n",
      "    120       0.00559       0.07635      0.07318      0.98683  12.01s\n",
      "    121       \u001b[36m0.00525\u001b[0m       0.06791      0.07735      0.98852  12.30s\n",
      "    122       \u001b[36m0.00514\u001b[0m       0.07939      0.06476      0.98617  12.14s\n",
      "    123       \u001b[36m0.00443\u001b[0m       0.07723      0.05736      0.98683  12.15s\n",
      "    124       \u001b[36m0.00372\u001b[0m       0.07807      0.04771      0.98716  11.99s\n",
      "    125       0.00522       0.06646      0.07847      0.98885  11.85s\n",
      "    126       0.00583       0.07203      0.08100      0.98820  11.86s\n",
      "    127       0.00526       0.06408      0.08212      0.98885  11.85s\n",
      "    128       0.00443       0.08434      0.05247      0.98552  11.86s\n",
      "    129       0.00391       0.07112      0.05497      0.98716  11.74s\n",
      "    130       0.00471       0.07655      0.06158      0.98683  11.76s\n",
      "    131       0.00571       0.07416      0.07706      0.98863  11.71s\n",
      "    132       0.00599       0.08620      0.06951      0.98480  11.72s\n",
      "    133       0.00610       0.07834      0.07780      0.98650  11.59s\n",
      "Early stopping.\n",
      "Best valid loss was 0.055236 at epoch 83.\n",
      "Loaded parameters to layer 'conv1' (shape 16x4x13x13).\n",
      "Loaded parameters to layer 'conv1' (shape 16).\n",
      "Loaded parameters to layer 'conv2' (shape 16x16x13x13).\n",
      "Loaded parameters to layer 'conv2' (shape 16).\n",
      "Loaded parameters to layer 'hidden3' (shape 1296x256).\n",
      "Loaded parameters to layer 'hidden3' (shape 256).\n",
      "Loaded parameters to layer 'output' (shape 256x2).\n",
      "Loaded parameters to layer 'output' (shape 2).\n"
     ]
    }
   ],
   "source": [
    "cnn = cnn.fit(X_train_rgba, y_train)"
   ]
  },
  {
   "cell_type": "code",
   "execution_count": 13,
   "metadata": {
    "collapsed": false
   },
   "outputs": [
    {
     "data": {
      "text/plain": [
       "0.825920245398773"
      ]
     },
     "execution_count": 13,
     "metadata": {},
     "output_type": "execute_result"
    }
   ],
   "source": [
    "# this is the score on cylinder_small1 with regularization and patience counter 50\n",
    "cnn.score(X_test_rgba, y_test)"
   ]
  },
  {
   "cell_type": "code",
   "execution_count": 14,
   "metadata": {
    "collapsed": false
   },
   "outputs": [
    {
     "data": {
      "text/plain": [
       "<module 'matplotlib.pyplot' from '/home/d/nolearn/local/lib/python2.7/site-packages/matplotlib/pyplot.pyc'>"
      ]
     },
     "execution_count": 14,
     "metadata": {},
     "output_type": "execute_result"
    },
    {
     "data": {
      "image/png": "[encoded data removed]",
      "text/plain": [
       "<matplotlib.figure.Figure at 0x7f7facd3b3d0>"
      ]
     },
     "metadata": {},
     "output_type": "display_data"
    }
   ],
   "source": [
    "# this is the plot on cylinder_small1 with regularization and patience counter 50\n",
    "plot_loss(cnn)"
   ]
  },
  {
   "cell_type": "code",
   "execution_count": 10,
   "metadata": {
    "collapsed": false
   },
   "outputs": [
    {
     "data": {
      "text/plain": [
       "0.8136503067484663"
      ]
     },
     "execution_count": 10,
     "metadata": {},
     "output_type": "execute_result"
    }
   ],
   "source": [
    "# this is the score on cylinder_small1 with regularization\n",
    "cnn.score(X_test_rgba, y_test)"
   ]
  },
  {
   "cell_type": "code",
   "execution_count": 9,
   "metadata": {
    "collapsed": false
   },
   "outputs": [
    {
     "data": {
      "text/plain": [
       "<module 'matplotlib.pyplot' from '/home/d/nolearn/local/lib/python2.7/site-packages/matplotlib/pyplot.pyc'>"
      ]
     },
     "execution_count": 9,
     "metadata": {},
     "output_type": "execute_result"
    },
    {
     "data": {
      "image/png": "[encoded data removed]",
      "text/plain": [
       "<matplotlib.figure.Figure at 0x7f7fa47ea950>"
      ]
     },
     "metadata": {},
     "output_type": "display_data"
    }
   ],
   "source": [
    "# this is the plot on cylinder_small1 without regularization\n",
    "plot_loss(cnn)"
   ]
  },
  {
   "cell_type": "code",
   "execution_count": 7,
   "metadata": {
    "collapsed": false
   },
   "outputs": [
    {
     "data": {
      "text/plain": [
       "0.8190184049079755"
      ]
     },
     "execution_count": 7,
     "metadata": {},
     "output_type": "execute_result"
    }
   ],
   "source": [
    "# this is the score on cylinder_small1 without regularization\n",
    "cnn.score(X_test_rgba, y_test)"
   ]
  },
  {
   "cell_type": "code",
   "execution_count": 9,
   "metadata": {
    "collapsed": false
   },
   "outputs": [
    {
     "data": {
      "text/plain": [
       "<module 'matplotlib.pyplot' from '/home/d/nolearn/local/lib/python2.7/site-packages/matplotlib/pyplot.pyc'>"
      ]
     },
     "execution_count": 9,
     "metadata": {},
     "output_type": "execute_result"
    },
    {
     "data": {
      "image/png": "[encoded data removed]",
      "text/plain": [
       "<matplotlib.figure.Figure at 0x7fa4bbbad1d0>"
      ]
     },
     "metadata": {},
     "output_type": "display_data"
    }
   ],
   "source": [
    "# this is the plot on cylinder_small1 without regularization\n",
    "plot_loss(cnn)"
   ]
  },
  {
   "cell_type": "code",
   "execution_count": null,
   "metadata": {
    "collapsed": true
   },
   "outputs": [],
   "source": []
  }
 ],
 "metadata": {
  "kernelspec": {
   "display_name": "Python 2",
   "language": "python",
   "name": "python2"
  },
  "language_info": {
   "codemirror_mode": {
    "name": "ipython",
    "version": 2
   },
   "file_extension": ".py",
   "mimetype": "text/x-python",
   "name": "python",
   "nbconvert_exporter": "python",
   "pygments_lexer": "ipython2",
   "version": "2.7.6"
  }
 },
 "nbformat": 4,
 "nbformat_minor": 0
}
