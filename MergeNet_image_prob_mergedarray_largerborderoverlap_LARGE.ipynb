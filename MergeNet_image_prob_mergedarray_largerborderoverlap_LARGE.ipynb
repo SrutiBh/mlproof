{
 "cells": [
  {
   "cell_type": "code",
   "execution_count": 1,
   "metadata": {
    "collapsed": false
   },
   "outputs": [
    {
     "name": "stderr",
     "output_type": "stream",
     "text": [
      "Using gpu device 0: GeForce GTX TITAN (CNMeM is disabled, CuDNN 4007)\n",
      "/home/d/nolearn/local/lib/python2.7/site-packages/theano/tensor/signal/downsample.py:6: UserWarning: downsample module has been moved to the theano.tensor.signal.pool module.\n",
      "  \"downsample module has been moved to the theano.tensor.signal.pool module.\")\n"
     ]
    }
   ],
   "source": [
    "%load_ext autoreload\n",
    "%autoreload 2\n",
    "\n",
    "import mlproof as mlp\n",
    "import mlproof.nets as nets\n",
    "\n",
    "import numpy as np\n",
    "\n",
    "from nolearn.lasagne.visualize import plot_loss\n",
    "from nolearn.lasagne.visualize import plot_conv_weights\n",
    "from nolearn.lasagne.visualize import plot_conv_activity\n",
    "from nolearn.lasagne.visualize import plot_occlusion\n",
    "\n",
    "from matplotlib.pyplot import imshow\n",
    "import matplotlib.pyplot as plt\n",
    "%matplotlib inline"
   ]
  },
  {
   "cell_type": "code",
   "execution_count": 2,
   "metadata": {
    "collapsed": false
   },
   "outputs": [
    {
     "name": "stdout",
     "output_type": "stream",
     "text": [
      "CNN configuration: \n",
      "    Our CNN with different \"legs\" for image, prob, merged_array, border_overlap.\n",
      "    \n"
     ]
    }
   ],
   "source": [
    "cnn = nets.MergeNet()"
   ]
  },
  {
   "cell_type": "code",
   "execution_count": 3,
   "metadata": {
    "collapsed": false
   },
   "outputs": [
    {
     "name": "stdout",
     "output_type": "stream",
     "text": [
      "Loaded /home/d/patches//cylinder1/ in 0.0629551410675 seconds.\n"
     ]
    }
   ],
   "source": [
    "X_train, y_train, X_test, y_test = mlp.Patch.load('cylinder1')"
   ]
  },
  {
   "cell_type": "code",
   "execution_count": null,
   "metadata": {
    "collapsed": false
   },
   "outputs": [],
   "source": [
    "cnn = cnn.fit({'image_input': X_train['image'],\n",
    "               'prob_input': X_train['prob'],\n",
    "               'binary_input': X_train['merged_array'],\n",
    "               'border_input': X_train['larger_border_overlap']},\n",
    "               y_train)"
   ]
  },
  {
   "cell_type": "code",
   "execution_count": null,
   "metadata": {
    "collapsed": false
   },
   "outputs": [],
   "source": [
    "# this is the score on cylinder_small1 with regularization and patience counter 50 and data augmentation\n",
    "cnn.score({'image_input': X_test['image'],\n",
    "           'prob_input': X_test['prob'],\n",
    "           'binary_input': X_test['merged_array'],\n",
    "           'border_input': X_test['larger_border_overlap']},\n",
    "           y_test)"
   ]
  },
  {
   "cell_type": "code",
   "execution_count": null,
   "metadata": {
    "collapsed": false
   },
   "outputs": [],
   "source": [
    "# this is the plot on cylinder_small1 with regularization and patience counter 50 and data augmentation\n",
    "plot_loss(cnn)"
   ]
  },
  {
   "cell_type": "code",
   "execution_count": null,
   "metadata": {
    "collapsed": true
   },
   "outputs": [],
   "source": []
  }
 ],
 "metadata": {
  "kernelspec": {
   "display_name": "Python 2",
   "language": "python",
   "name": "python2"
  },
  "language_info": {
   "codemirror_mode": {
    "name": "ipython",
    "version": 2
   },
   "file_extension": ".py",
   "mimetype": "text/x-python",
   "name": "python",
   "nbconvert_exporter": "python",
   "pygments_lexer": "ipython2",
   "version": "2.7.6"
  }
 },
 "nbformat": 4,
 "nbformat_minor": 0
}
