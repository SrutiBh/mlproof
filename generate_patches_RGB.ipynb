{
 "cells": [
  {
   "cell_type": "code",
   "execution_count": 1,
   "metadata": {
    "collapsed": false
   },
   "outputs": [
    {
     "name": "stderr",
     "output_type": "stream",
     "text": [
      "mlproof/tifffile.py:1995: UserWarning: failed to import _tifffile.decodepackbits\n",
      "  warnings.warn(\"failed to import %s\" % module_function)\n",
      "mlproof/tifffile.py:1995: UserWarning: failed to import _tifffile.decodelzw\n",
      "  warnings.warn(\"failed to import %s\" % module_function)\n",
      "mlproof/tifffile.py:1995: UserWarning: failed to import _tifffile.unpackints\n",
      "  warnings.warn(\"failed to import %s\" % module_function)\n"
     ]
    }
   ],
   "source": [
    "%load_ext autoreload\n",
    "%autoreload 2\n",
    "\n",
    "\n",
    "import mahotas as mh\n",
    "import numpy as np\n",
    "import os\n",
    "import time\n",
    "\n",
    "from matplotlib.pyplot import imshow\n",
    "import matplotlib.pyplot as plt\n",
    "%matplotlib inline\n",
    "\n",
    "import mlproof as mlp"
   ]
  },
  {
   "cell_type": "code",
   "execution_count": 7,
   "metadata": {
    "collapsed": true
   },
   "outputs": [],
   "source": [
    "PATCH_PATH = '/home/d/patches/cylinder1_rgb/'"
   ]
  },
  {
   "cell_type": "code",
   "execution_count": 8,
   "metadata": {
    "collapsed": true
   },
   "outputs": [],
   "source": [
    "\n",
    "\n",
    "def generate_patches(start_slice, end_slice):\n",
    "\n",
    "    patch_index = 0\n",
    "\n",
    "    all_patches_count = 0\n",
    "\n",
    "    all_error_patches = []\n",
    "    all_correct_patches = []\n",
    "    \n",
    "    for z in range(start_slice, end_slice):\n",
    "\n",
    "        t0 = time.time()\n",
    "        print 'working on slice', z\n",
    "        input_image, input_prob, input_mask, input_gold, input_rhoana = mlp.Util.read_section('/home/d/data/cylinder/',z)\n",
    "\n",
    "        error_patches, patches = mlp.Patch.patchify_maxoverlap(input_image, input_prob, input_mask, input_rhoana, input_gold, sample_rate=1)\n",
    "\n",
    "#         for e in patches:\n",
    "#             if e['image'].max() == 0.:\n",
    "#                 print 'ZERRRRO', z\n",
    "        \n",
    "        print 'Generated', len(error_patches), 'split error patches and', len(patches), ' correct patches in', time.time()-t0, 'seconds.'\n",
    "        \n",
    "        all_error_patches += error_patches\n",
    "        all_correct_patches += patches\n",
    "        \n",
    "    \n",
    "    \n",
    "    NO_PATCHES = len(all_error_patches) + len(all_correct_patches)\n",
    "\n",
    "    print 'We have a total of',NO_PATCHES,'patches.'\n",
    "    print 'Errors:',len(all_error_patches)\n",
    "    print 'Correct:',len(all_correct_patches)    \n",
    "    \n",
    "    PATCH_BYTES = 75*75\n",
    "    P_SIZE = (NO_PATCHES, 3, 75,75) # rather than raveled right now\n",
    "    \n",
    "    p_rgba = np.zeros(P_SIZE, dtype=np.float32)   \n",
    "    p_target = np.zeros(NO_PATCHES)\n",
    "\n",
    "\n",
    "    i = 0\n",
    "    for p in all_error_patches:\n",
    "\n",
    "        p_rgba[i][0] = p['image']\n",
    "        p_rgba[i][1] = p['prob'] \n",
    "        p_rgba[i][2] = p['merged_array']\n",
    "\n",
    "        p_target[i] = 1 # <--- important\n",
    "        i += 1\n",
    "\n",
    "        \n",
    "    for p in all_correct_patches:\n",
    "\n",
    "        p_rgba[i][0] = p['image']\n",
    "        p_rgba[i][1] = p['prob']    \n",
    "        p_rgba[i][2] = p['merged_array']     \n",
    "        \n",
    "        p_target[i] = 0 # <--- important\n",
    "        i+=1\n",
    "        \n",
    "    \n",
    "    return p_rgba, p_target\n",
    "\n",
    "\n",
    "\n",
    "def shuffle_in_unison_inplace(a, b):\n",
    "    assert len(a) == len(b)\n",
    "    p = np.random.permutation(len(a))\n",
    "    return a[p], b[p]\n",
    "\n",
    "\n",
    "\n",
    "def run(start_slice, end_slice, filename):\n",
    "    \n",
    "    if not os.path.exists(PATCH_PATH):\n",
    "        os.makedirs(PATCH_PATH)\n",
    "    \n",
    "    p = generate_patches(start_slice, end_slice)\n",
    "    \n",
    "    shuffled = shuffle_in_unison_inplace(p[0],\n",
    "                                         p[1]\n",
    "                                        )\n",
    "    \n",
    "    print 'saving..'\n",
    "    np.savez(PATCH_PATH+filename+'.npz', rgb=shuffled[0])\n",
    "    np.savez(PATCH_PATH+filename+'_targets.npz', targets=shuffled[2])\n",
    "    print 'Done!'\n",
    "    \n",
    "#     return shuffled\n"
   ]
  },
  {
   "cell_type": "code",
   "execution_count": null,
   "metadata": {
    "collapsed": false
   },
   "outputs": [
    {
     "name": "stdout",
     "output_type": "stream",
     "text": [
      "working on slice 0\n",
      "Loading z00000000.png\n",
      "Generated 0 split error patches and 0  correct patches in 0.990128040314 seconds.\n",
      "working on slice 1\n",
      "Loading z00000001.png\n",
      "Generated 0 split error patches and 0  correct patches in 0.96998000145 seconds.\n",
      "working on slice 2\n",
      "Loading z00000002.png\n",
      "Generated 0 split error patches and 0  correct patches in 0.973707914352 seconds.\n",
      "working on slice 3\n",
      "Loading z00000003.png\n",
      "Generated 0 split error patches and 0  correct patches in 0.969850063324 seconds.\n",
      "working on slice 4\n",
      "Loading z00000004.png\n",
      "Generated 0 split error patches and 0  correct patches in 0.949779033661 seconds.\n",
      "working on slice 5\n",
      "Loading z00000005.png\n",
      "Generated 0 split error patches and 0  correct patches in 0.947980165482 seconds.\n",
      "working on slice 6\n",
      "Loading z00000006.png\n",
      "Generated 0 split error patches and 0  correct patches in 1.05142402649 seconds.\n",
      "working on slice 7\n",
      "Loading z00000007.png\n",
      "Generated 0 split error patches and 0  correct patches in 1.14934897423 seconds.\n",
      "working on slice 8\n",
      "Loading z00000008.png\n",
      "Generated 0 split error patches and 0  correct patches in 3.48881006241 seconds.\n",
      "working on slice 9\n",
      "Loading z00000009.png\n",
      "Generated 0 split error patches and 0  correct patches in 5.52603507042 seconds.\n",
      "working on slice 10\n",
      "Loading z00000010.png\n",
      "Generated 4 split error patches and 4  correct patches in 5.30502915382 seconds.\n",
      "working on slice 11\n",
      "Loading z00000011.png\n",
      "Generated 0 split error patches and 0  correct patches in 4.0382130146 seconds.\n",
      "working on slice 12\n",
      "Loading z00000012.png\n",
      "Generated 8 split error patches and 8  correct patches in 9.17146897316 seconds.\n",
      "working on slice 13\n",
      "Loading z00000013.png\n",
      "Generated 28 split error patches and 28  correct patches in 19.7567529678 seconds.\n",
      "working on slice 14\n",
      "Loading z00000014.png\n",
      "Generated 24 split error patches and 24  correct patches in 27.6588931084 seconds.\n",
      "working on slice 15\n",
      "Loading z00000015.png\n"
     ]
    }
   ],
   "source": [
    "run(0,250, 'train')\n",
    "run(250,300, 'test')"
   ]
  },
  {
   "cell_type": "code",
   "execution_count": null,
   "metadata": {
    "collapsed": true
   },
   "outputs": [],
   "source": []
  }
 ],
 "metadata": {
  "kernelspec": {
   "display_name": "Python 2",
   "language": "python",
   "name": "python2"
  },
  "language_info": {
   "codemirror_mode": {
    "name": "ipython",
    "version": 2
   },
   "file_extension": ".py",
   "mimetype": "text/x-python",
   "name": "python",
   "nbconvert_exporter": "python",
   "pygments_lexer": "ipython2",
   "version": "2.7.6"
  }
 },
 "nbformat": 4,
 "nbformat_minor": 0
}
