{
 "cells": [
  {
   "cell_type": "code",
   "execution_count": 1,
   "metadata": {
    "collapsed": false
   },
   "outputs": [
    {
     "name": "stderr",
     "output_type": "stream",
     "text": [
      "mlproof/tifffile.py:1995: UserWarning: failed to import _tifffile.decodepackbits\n",
      "  warnings.warn(\"failed to import %s\" % module_function)\n",
      "mlproof/tifffile.py:1995: UserWarning: failed to import _tifffile.decodelzw\n",
      "  warnings.warn(\"failed to import %s\" % module_function)\n",
      "mlproof/tifffile.py:1995: UserWarning: failed to import _tifffile.unpackints\n",
      "  warnings.warn(\"failed to import %s\" % module_function)\n",
      "Using gpu device 0: GeForce GTX TITAN (CNMeM is disabled, CuDNN 4007)\n",
      "/home/d/nolearn/local/lib/python2.7/site-packages/theano/tensor/signal/downsample.py:6: UserWarning: downsample module has been moved to the theano.tensor.signal.pool module.\n",
      "  \"downsample module has been moved to the theano.tensor.signal.pool module.\")\n"
     ]
    }
   ],
   "source": [
    "%load_ext autoreload\n",
    "%autoreload 2\n",
    "\n",
    "import mlproof as mlp\n",
    "import mlproof.nets as nets\n",
    "\n",
    "import numpy as np\n",
    "\n",
    "from nolearn.lasagne.visualize import plot_loss\n",
    "from nolearn.lasagne.visualize import plot_conv_weights\n",
    "from nolearn.lasagne.visualize import plot_conv_activity\n",
    "from nolearn.lasagne.visualize import plot_occlusion\n",
    "\n",
    "from matplotlib.pyplot import imshow\n",
    "import matplotlib.pyplot as plt\n",
    "%matplotlib inline"
   ]
  },
  {
   "cell_type": "code",
   "execution_count": 2,
   "metadata": {
    "collapsed": false
   },
   "outputs": [
    {
     "name": "stdout",
     "output_type": "stream",
     "text": [
      "CNN configuration: \n",
      "    Our CNN with image, prob, merged_array as RGB.\n",
      "    \n"
     ]
    }
   ],
   "source": [
    "cnn = nets.RGBNet()"
   ]
  },
  {
   "cell_type": "code",
   "execution_count": 4,
   "metadata": {
    "collapsed": false
   },
   "outputs": [
    {
     "name": "stdout",
     "output_type": "stream",
     "text": [
      "Loaded /home/d/patches//cylinder_small1_rgba/ in 0.000605821609497 seconds.\n"
     ]
    }
   ],
   "source": [
    "X_train, y_train, X_test, y_test = mlp.Patch.load('cylinder_small1_rgba')"
   ]
  },
  {
   "cell_type": "code",
   "execution_count": 6,
   "metadata": {
    "collapsed": false
   },
   "outputs": [
    {
     "name": "stdout",
     "output_type": "stream",
     "text": [
      "# Neural Network with 1547826 learnable parameters\n",
      "\n",
      "## Layer information\n",
      "\n",
      "  #  name      size\n",
      "---  --------  --------\n",
      "  0  input     3x75x75\n",
      "  1  conv1     64x63x63\n",
      "  2  pool1     64x31x31\n",
      "  3  conv2     48x19x19\n",
      "  4  pool2     48x9x9\n",
      "  5  hidden3   256\n",
      "  6  dropout3  256\n",
      "  7  output    2\n",
      "\n",
      "  epoch    train loss    valid loss    train/val    valid acc  dur\n",
      "-------  ------------  ------------  -----------  -----------  ------\n",
      "      1       \u001b[36m0.64773\u001b[0m       \u001b[32m0.65070\u001b[0m      0.99543      0.60630  15.67s\n",
      "      2       0.70791       0.67436      1.04974      0.50199  15.87s\n",
      "      3       \u001b[36m0.64677\u001b[0m       \u001b[32m0.58421\u001b[0m      1.10708      0.67623  16.47s\n",
      "      4       \u001b[36m0.49718\u001b[0m       0.61790      0.80463      0.77543  16.44s\n",
      "      5       0.51467       \u001b[32m0.47812\u001b[0m      1.07644      0.79663  16.44s\n",
      "      6       \u001b[36m0.41735\u001b[0m       \u001b[32m0.36688\u001b[0m      1.13757      0.85098  16.44s\n",
      "      7       \u001b[36m0.35540\u001b[0m       \u001b[32m0.34647\u001b[0m      1.02575      0.85301  16.45s\n",
      "      8       \u001b[36m0.29805\u001b[0m       \u001b[32m0.27239\u001b[0m      1.09421      0.88616  16.45s\n",
      "      9       \u001b[36m0.23702\u001b[0m       \u001b[32m0.24381\u001b[0m      0.97215      0.90645  16.47s\n",
      "     10       \u001b[36m0.19933\u001b[0m       \u001b[32m0.18418\u001b[0m      1.08228      0.93446  16.48s\n",
      "     11       \u001b[36m0.15782\u001b[0m       \u001b[32m0.16468\u001b[0m      0.95839      0.94634  16.45s\n",
      "     12       \u001b[36m0.12737\u001b[0m       \u001b[32m0.13567\u001b[0m      0.93884      0.95609  16.46s\n",
      "     13       \u001b[36m0.09952\u001b[0m       \u001b[32m0.12058\u001b[0m      0.82535      0.96540  16.47s\n",
      "     14       \u001b[36m0.08472\u001b[0m       \u001b[32m0.11809\u001b[0m      0.71742      0.95699  16.47s\n",
      "     15       \u001b[36m0.07161\u001b[0m       \u001b[32m0.08692\u001b[0m      0.82393      0.97145  16.44s\n",
      "     16       \u001b[36m0.05502\u001b[0m       \u001b[32m0.08046\u001b[0m      0.68381      0.97652  16.48s\n",
      "     17       \u001b[36m0.04458\u001b[0m       0.08068      0.55249      0.98152  10.61s\n",
      "     18       \u001b[36m0.03738\u001b[0m       0.10482      0.35663      0.97388  8.46s\n",
      "     19       \u001b[36m0.03263\u001b[0m       0.08573      0.38056      0.97902  7.76s\n",
      "     20       \u001b[36m0.03196\u001b[0m       \u001b[32m0.07418\u001b[0m      0.43076      0.98076  7.76s\n",
      "     21       \u001b[36m0.02277\u001b[0m       0.09111      0.24989      0.98076  7.76s\n",
      "     22       0.02763       0.08252      0.33483      0.98069  7.78s\n",
      "     23       \u001b[36m0.02098\u001b[0m       0.10571      0.19849      0.98069  7.76s\n",
      "     24       \u001b[36m0.02068\u001b[0m       \u001b[32m0.07395\u001b[0m      0.27965      0.98236  7.76s\n",
      "     25       \u001b[36m0.01654\u001b[0m       0.09244      0.17896      0.97721  7.76s\n",
      "     26       0.02640       0.07977      0.33098      0.98319  7.76s\n",
      "     27       0.01884       0.09094      0.20711      0.97471  7.77s\n",
      "     28       \u001b[36m0.01526\u001b[0m       \u001b[32m0.06694\u001b[0m      0.22791      0.98493  7.76s\n",
      "     29       \u001b[36m0.01367\u001b[0m       0.08346      0.16375      0.98493  7.76s\n",
      "     30       \u001b[36m0.01339\u001b[0m       0.08211      0.16308      0.98152  7.77s\n",
      "     31       \u001b[36m0.01030\u001b[0m       0.07063      0.14583      0.98486  7.76s\n",
      "     32       0.01111       0.07247      0.15336      0.98659  7.81s\n",
      "     33       \u001b[36m0.00876\u001b[0m       0.08002      0.10953      0.98493  7.81s\n",
      "     34       \u001b[36m0.00714\u001b[0m       0.08683      0.08225      0.98319  7.80s\n",
      "     35       \u001b[36m0.00669\u001b[0m       0.11505      0.05813      0.97895  7.81s\n",
      "     36       0.00750       0.11973      0.06262      0.97978  7.78s\n",
      "     37       0.00852       0.10673      0.07986      0.98402  7.76s\n",
      "     38       0.00851       0.08854      0.09613      0.98743  7.76s\n",
      "     39       \u001b[36m0.00518\u001b[0m       0.10385      0.04989      0.98486  7.76s\n",
      "     40       0.00708       0.08805      0.08044      0.98569  7.76s\n",
      "     41       0.00733       0.09265      0.07910      0.98236  7.81s\n",
      "     42       0.00738       0.09864      0.07484      0.98402  7.82s\n",
      "     43       0.00625       0.07928      0.07882      0.98576  7.80s\n",
      "     44       \u001b[36m0.00454\u001b[0m       0.09020      0.05031      0.98409  7.83s\n",
      "     45       0.00522       0.08340      0.06259      0.98576  7.81s\n",
      "     46       \u001b[36m0.00428\u001b[0m       0.07827      0.05467      0.98576  7.83s\n",
      "     47       0.00527       0.09142      0.05768      0.98743  7.77s\n",
      "     48       0.00464       0.08648      0.05370      0.98576  7.79s\n",
      "     49       \u001b[36m0.00360\u001b[0m       0.07405      0.04865      0.98743  7.83s\n",
      "     50       0.00624       0.10513      0.05934      0.98409  7.76s\n",
      "     51       0.00594       0.12340      0.04810      0.98326  7.76s\n",
      "     52       0.00409       0.08396      0.04875      0.98667  7.76s\n",
      "     53       0.00547       0.10369      0.05279      0.98569  7.76s\n",
      "     54       0.00403       0.10415      0.03867      0.98576  7.76s\n",
      "     55       \u001b[36m0.00347\u001b[0m       0.08631      0.04018      0.98833  7.76s\n",
      "     56       \u001b[36m0.00332\u001b[0m       0.09373      0.03537      0.98659  7.76s\n",
      "     57       \u001b[36m0.00269\u001b[0m       0.08542      0.03144      0.98833  7.76s\n",
      "     58       0.00278       0.09138      0.03044      0.98833  7.77s\n",
      "     59       0.00519       0.09574      0.05418      0.98833  7.78s\n",
      "     60       0.00771       0.10701      0.07204      0.98569  7.77s\n",
      "     61       0.01246       0.11151      0.11176      0.98159  7.78s\n",
      "     62       0.01254       0.10114      0.12401      0.98667  7.76s\n",
      "     63       0.01085       0.11013      0.09855      0.98326  7.79s\n",
      "     64       0.00869       0.08815      0.09862      0.97819  7.78s\n",
      "     65       0.00958       0.06711      0.14275      0.98659  7.76s\n",
      "     66       0.00937       0.09924      0.09445      0.97902  7.76s\n",
      "     67       0.00603       0.10937      0.05511      0.98167  7.76s\n",
      "     68       0.01014       0.09338      0.10857      0.98228  7.79s\n",
      "     69       0.00784       0.08276      0.09472      0.98833  7.79s\n",
      "     70       0.00769       0.09641      0.07976      0.98326  7.77s\n",
      "     71       0.00815       0.10228      0.07967      0.98319  7.80s\n",
      "     72       0.00680       0.09796      0.06946      0.98152  7.77s\n",
      "     73       0.00559       0.09691      0.05768      0.98152  7.76s\n",
      "     74       0.00502       0.07481      0.06705      0.98319  7.79s\n",
      "     75       0.00274       0.07636      0.03585      0.98493  7.80s\n",
      "     76       0.00434       0.08102      0.05353      0.98659  7.81s\n",
      "     77       0.00455       0.10793      0.04212      0.98326  7.80s\n",
      "     78       0.00329       0.09035      0.03642      0.98319  7.76s\n",
      "Early stopping.\n",
      "Best valid loss was 0.066942 at epoch 28.\n",
      "Loaded parameters to layer 'conv1' (shape 64x3x13x13).\n",
      "Loaded parameters to layer 'conv1' (shape 64).\n",
      "Loaded parameters to layer 'conv2' (shape 48x64x13x13).\n",
      "Loaded parameters to layer 'conv2' (shape 48).\n",
      "Loaded parameters to layer 'hidden3' (shape 3888x256).\n",
      "Loaded parameters to layer 'hidden3' (shape 256).\n",
      "Loaded parameters to layer 'output' (shape 256x2).\n",
      "Loaded parameters to layer 'output' (shape 2).\n"
     ]
    }
   ],
   "source": [
    "cnn = cnn.fit(X_train['rgba'][:,:-1,:,:], y_train)"
   ]
  },
  {
   "cell_type": "code",
   "execution_count": 8,
   "metadata": {
    "collapsed": false
   },
   "outputs": [
    {
     "data": {
      "text/plain": [
       "0.7898773006134969"
      ]
     },
     "execution_count": 8,
     "metadata": {},
     "output_type": "execute_result"
    }
   ],
   "source": [
    "# this is the score on cylinder_small1 with regularization and patience counter 50 and data augmentation\n",
    "cnn.score(X_test['rgba'][:,:-1,:,:], y_test)"
   ]
  },
  {
   "cell_type": "code",
   "execution_count": 9,
   "metadata": {
    "collapsed": false
   },
   "outputs": [
    {
     "data": {
      "text/plain": [
       "<module 'matplotlib.pyplot' from '/home/d/nolearn/local/lib/python2.7/site-packages/matplotlib/pyplot.pyc'>"
      ]
     },
     "execution_count": 9,
     "metadata": {},
     "output_type": "execute_result"
    },
    {
     "data": {
      "image/png": "[encoded data removed]",
      "text/plain": [
       "<matplotlib.figure.Figure at 0x7f68aae7c850>"
      ]
     },
     "metadata": {},
     "output_type": "display_data"
    }
   ],
   "source": [
    "# this is the plot on cylinder_small1 with regularization and patience counter 50 and data augmentation\n",
    "plot_loss(cnn)"
   ]
  },
  {
   "cell_type": "code",
   "execution_count": null,
   "metadata": {
    "collapsed": true
   },
   "outputs": [],
   "source": []
  }
 ],
 "metadata": {
  "kernelspec": {
   "display_name": "Python 2",
   "language": "python",
   "name": "python2"
  },
  "language_info": {
   "codemirror_mode": {
    "name": "ipython",
    "version": 2
   },
   "file_extension": ".py",
   "mimetype": "text/x-python",
   "name": "python",
   "nbconvert_exporter": "python",
   "pygments_lexer": "ipython2",
   "version": "2.7.6"
  }
 },
 "nbformat": 4,
 "nbformat_minor": 0
}
