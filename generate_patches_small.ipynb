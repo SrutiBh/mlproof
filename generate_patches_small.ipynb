{
 "cells": [
  {
   "cell_type": "code",
   "execution_count": 1,
   "metadata": {
    "collapsed": true
   },
   "outputs": [],
   "source": [
    "%load_ext autoreload\n",
    "%autoreload 2\n",
    "\n",
    "\n",
    "import mahotas as mh\n",
    "import numpy as np\n",
    "import os\n",
    "import time\n",
    "\n",
    "from matplotlib.pyplot import imshow\n",
    "import matplotlib.pyplot as plt\n",
    "%matplotlib inline\n",
    "\n",
    "import mlproof as mlp"
   ]
  },
  {
   "cell_type": "code",
   "execution_count": 2,
   "metadata": {
    "collapsed": true
   },
   "outputs": [],
   "source": [
    "PATCH_PATH = '/home/d/patches/cylinder_small1/'"
   ]
  },
  {
   "cell_type": "code",
   "execution_count": 3,
   "metadata": {
    "collapsed": true
   },
   "outputs": [],
   "source": [
    "def generate_patches(start_slice, end_slice):\n",
    "\n",
    "    patch_index = 0\n",
    "\n",
    "    all_patches_count = 0\n",
    "    all_error_patches = []\n",
    "    all_correct_patches = []\n",
    "    \n",
    "    for z in range(start_slice, end_slice):\n",
    "\n",
    "        t0 = time.time()\n",
    "        print 'working on slice', z\n",
    "        input_image, input_prob, input_mask, input_gold, input_rhoana = mlp.Util.read_section('/home/d/data/cylinder/',z)\n",
    "\n",
    "        error_patches, patches = mlp.Patch.patchify_maxoverlap(input_image, input_prob, input_mask, input_rhoana, input_gold, sample_rate=1)\n",
    "\n",
    "        print 'Generated', len(error_patches), 'split error patches and', len(patches), ' correct patches in', time.time()-t0, 'seconds.'\n",
    "        \n",
    "        \n",
    "        all_error_patches += error_patches\n",
    "        all_correct_patches += patches\n",
    "        \n",
    "    \n",
    "    \n",
    "    NO_PATCHES = len(all_error_patches) + len(all_correct_patches)\n",
    "\n",
    "    print 'We have a total of',NO_PATCHES,'patches.'\n",
    "    print 'Errors:',len(all_error_patches)\n",
    "    print 'Correct:',len(all_correct_patches)    \n",
    "    \n",
    "    PATCH_BYTES = 75*75\n",
    "    P_SIZE = (NO_PATCHES, 1, 75,75) # rather than raveled right now\n",
    "    \n",
    "    p_image = np.zeros(P_SIZE, dtype=np.float32)\n",
    "    p_prob = np.zeros(P_SIZE, dtype=np.float32)\n",
    "    p_binary = np.zeros(P_SIZE, dtype=np.bool)\n",
    "    p_merged_array = np.zeros(P_SIZE, dtype=np.bool)\n",
    "#     p_dyn_obj = np.zeros((NO_PATCHES, PATCH_BYTES),dtype=np.bool)\n",
    "#     p_dyn_bnd = np.zeros((NO_PATCHES, PATCH_BYTES),dtype=np.bool)\n",
    "    p_border_overlap = np.zeros(P_SIZE, dtype=np.bool)\n",
    "    p_larger_border_overlap = np.zeros(P_SIZE, dtype=np.bool)    \n",
    "    p_target = np.zeros(NO_PATCHES)\n",
    "\n",
    "\n",
    "    i = 0\n",
    "    for p in all_error_patches:\n",
    "        \n",
    "        p_image[i] = (p['image'].astype(np.float32)/255.)#.ravel()\n",
    "        p_prob[i] = (p['prob'].astype(np.float32)/255.)#.ravel()\n",
    "        p_binary[i] = p['binary']#.ravel()\n",
    "        p_merged_array[i] = p['merged_array']#.ravel()\n",
    "#         p_dyn_obj[i] = p['dyn_obj'].ravel()\n",
    "#         p_dyn_bnd[i] = p['dyn_bnd'].ravel()\n",
    "        p_border_overlap[i] = p['border_overlap']#.ravel()\n",
    "        p_larger_border_overlap[i] = p['larger_border_overlap']#.ravel()\n",
    "        p_target[i] = 1 # <--- important\n",
    "        i += 1\n",
    "\n",
    "        \n",
    "    for p in all_correct_patches:\n",
    "\n",
    "        p_image[i] = (p['image'].astype(np.float32)/255.)#.ravel()\n",
    "        p_prob[i] = (p['prob'].astype(np.float32)/255.)#.ravel()\n",
    "        p_binary[i] = p['binary']#.ravel()\n",
    "        p_merged_array[i] = p['merged_array']#.ravel()\n",
    "#         p_dyn_obj[i] = p['dyn_obj'].ravel()\n",
    "#         p_dyn_bnd[i] = p['dyn_bnd'].ravel()\n",
    "        p_border_overlap[i] = p['border_overlap']#.ravel()\n",
    "        p_larger_border_overlap[i] = p['larger_border_overlap']#.ravel()\n",
    "        p_target[i] = 0 # <--- important\n",
    "        i+=1\n",
    "        \n",
    "    \n",
    "#     return p_image, p_prob, p_binary, p_merged_array, p_dyn_obj, p_dyn_bnd, p_border_overlap, p_larger_border_overlap, p_target\n",
    "    return p_image, p_prob, p_binary, p_merged_array, p_border_overlap, p_larger_border_overlap, p_target\n",
    "\n",
    "\n",
    "\n",
    "def shuffle_in_unison_inplace(a, b, c, d, e, f, g):\n",
    "    assert len(a) == len(b)\n",
    "    assert len(a) == len(g)\n",
    "    p = np.random.permutation(len(a))\n",
    "    return a[p], b[p], c[p], d[p], e[p], f[p], g[p]\n",
    "\n",
    "\n",
    "\n",
    "def run(start_slice, end_slice, filename):\n",
    "    \n",
    "    if not os.path.exists(PATCH_PATH):\n",
    "        os.makedirs(PATCH_PATH)\n",
    "    \n",
    "    p = generate_patches(start_slice, end_slice)\n",
    "    \n",
    "    shuffled = shuffle_in_unison_inplace(p[0],\n",
    "                                         p[1],\n",
    "                                         p[2],\n",
    "                                         p[3],\n",
    "                                         p[4],\n",
    "                                         p[5],\n",
    "                                         p[6]\n",
    "                                        )\n",
    "    \n",
    "    print 'saving..'\n",
    "    np.savez(PATCH_PATH+filename+'.npz', image=shuffled[0],\n",
    "                                         prob=shuffled[1],\n",
    "                                         binary=shuffled[2],\n",
    "                                         merged_array=shuffled[3],\n",
    "#                                          dyn_obj=shuffled[4],\n",
    "#                                          dyn_bnd=shuffled[5],\n",
    "                                         border_overlap=shuffled[4],\n",
    "                                         larger_border_overlap=shuffled[5])\n",
    "    np.savez(PATCH_PATH+filename+'_targets.npz', targets=shuffled[6])\n",
    "    print 'Done!'\n",
    "    \n",
    "#     return correct, split, shuffled\n"
   ]
  },
  {
   "cell_type": "code",
   "execution_count": null,
   "metadata": {
    "collapsed": false
   },
   "outputs": [
    {
     "name": "stdout",
     "output_type": "stream",
     "text": [
      "working on slice 40\n",
      "Loading z00000040.png\n"
     ]
    }
   ],
   "source": [
    "run(40,50,'training')\n",
    "run(60,62,'test')"
   ]
  },
  {
   "cell_type": "code",
   "execution_count": null,
   "metadata": {
    "collapsed": true
   },
   "outputs": [],
   "source": []
  }
 ],
 "metadata": {
  "kernelspec": {
   "display_name": "Python 2",
   "language": "python",
   "name": "python2"
  },
  "language_info": {
   "codemirror_mode": {
    "name": "ipython",
    "version": 2
   },
   "file_extension": ".py",
   "mimetype": "text/x-python",
   "name": "python",
   "nbconvert_exporter": "python",
   "pygments_lexer": "ipython2",
   "version": "2.7.6"
  }
 },
 "nbformat": 4,
 "nbformat_minor": 0
}
