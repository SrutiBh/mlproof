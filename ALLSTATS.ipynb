{
 "cells": [
  {
   "cell_type": "code",
   "execution_count": 25,
   "metadata": {
    "collapsed": false
   },
   "outputs": [
    {
     "name": "stdout",
     "output_type": "stream",
     "text": [
      "The autoreload extension is already loaded. To reload it, use:\n",
      "  %reload_ext autoreload\n"
     ]
    }
   ],
   "source": [
    "%load_ext autoreload\n",
    "%autoreload 2\n",
    "\n",
    "import collections\n",
    "\n",
    "from matplotlib.pyplot import imshow\n",
    "import matplotlib.pyplot as plt\n",
    "%matplotlib inline"
   ]
  },
  {
   "cell_type": "code",
   "execution_count": 26,
   "metadata": {
    "collapsed": false
   },
   "outputs": [],
   "source": [
    "from stats import Stats"
   ]
  },
  {
   "cell_type": "code",
   "execution_count": 33,
   "metadata": {
    "collapsed": false
   },
   "outputs": [],
   "source": [
    "cnns = collections.OrderedDict()\n",
    "cnns['MergeNet No Border'] = '/home/d/nets/MergeNetThreeLegDropout_cylinder1_larger_border_overlap_dropout_usevars/net.p'\n",
    "cnns['MergeNet Border'] = '/home/d/nets/MergeNetDropout_cylinder1_border_overlap_dropout_usevars/net.p'\n",
    "cnns['MergeNet L. Border'] = '/home/d/nets/MergeNetDropout_cylinder1_larger_border_overlap_dropout_usevars/net.p'\n",
    "cnns['MergeNet No Border (+DO)'] = '/home/d/nets/MergeNetThreeLeg_LargerDropout/net.p'\n",
    "cnns['MergeNet Border (+DO)'] = 'TOCOME'\n",
    "cnns['MergeNet L. Border (+DO)'] = '/home/d/nets/MergeNetDropout_cylinder1_larger_border_overlap_dropout_usevars_LargerDropout/net.p'   \n",
    "cnns['RGB No Border'] = 'TOCOME'\n",
    "cnns['RGBA Border'] = 'TOCOME'\n",
    "cnns['RGBA L. Border'] = 'TOCOME'\n",
    "cnns['RGB No Border (+DO)'] = 'TOCOME'\n",
    "cnns['RGBA Border (+DO)'] = 'TOCOME'\n",
    "cnns['RGBA L. Border (+DO)'] = 'TOCOME'"
   ]
  },
  {
   "cell_type": "code",
   "execution_count": null,
   "metadata": {
    "collapsed": false
   },
   "outputs": [],
   "source": [
    "Stats.quantify_cnns(cnns)"
   ]
  },
  {
   "cell_type": "code",
   "execution_count": null,
   "metadata": {
    "collapsed": true
   },
   "outputs": [],
   "source": []
  }
 ],
 "metadata": {
  "kernelspec": {
   "display_name": "Python 2",
   "language": "python",
   "name": "python2"
  },
  "language_info": {
   "codemirror_mode": {
    "name": "ipython",
    "version": 2
   },
   "file_extension": ".py",
   "mimetype": "text/x-python",
   "name": "python",
   "nbconvert_exporter": "python",
   "pygments_lexer": "ipython2",
   "version": "2.7.6"
  }
 },
 "nbformat": 4,
 "nbformat_minor": 0
}
