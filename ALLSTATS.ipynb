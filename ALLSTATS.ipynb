{
 "cells": [
  {
   "cell_type": "code",
   "execution_count": 25,
   "metadata": {
    "collapsed": false
   },
   "outputs": [
    {
     "name": "stdout",
     "output_type": "stream",
     "text": [
      "The autoreload extension is already loaded. To reload it, use:\n",
      "  %reload_ext autoreload\n"
     ]
    }
   ],
   "source": [
    "%load_ext autoreload\n",
    "%autoreload 2\n",
    "\n",
    "import collections\n",
    "\n",
    "from matplotlib.pyplot import imshow\n",
    "import matplotlib.pyplot as plt\n",
    "%matplotlib inline"
   ]
  },
  {
   "cell_type": "code",
   "execution_count": 26,
   "metadata": {
    "collapsed": false
   },
   "outputs": [],
   "source": [
    "from stats import Stats"
   ]
  },
  {
   "cell_type": "code",
   "execution_count": 33,
   "metadata": {
    "collapsed": false
   },
   "outputs": [],
   "source": [
    "cnns = collections.OrderedDict()\n",
    "cnns['MergeNet No Border'] = '/home/d/nets/MergeNetThreeLegDropout_cylinder1_larger_border_overlap_dropout_usevars/net.p'\n",
    "cnns['MergeNet Border'] = '/home/d/nets/MergeNetDropout_cylinder1_border_overlap_dropout_usevars/net.p'\n",
    "cnns['MergeNet L. Border'] = '/home/d/nets/MergeNetDropout_cylinder1_larger_border_overlap_dropout_usevars/net.p'\n",
    "cnns['MergeNet No Border (+DO)'] = '/home/d/nets/MergeNetThreeLeg_LargerDropout/net.p'\n",
    "cnns['MergeNet Border (+DO)'] = 'TOCOME'\n",
    "cnns['MergeNet L. Border (+DO)'] = '/home/d/nets/MergeNetDropout_cylinder1_larger_border_overlap_dropout_usevars_LargerDropout/net.p'   \n",
    "cnns['RGB No Border'] = 'TOCOME'\n",
    "cnns['RGBA Border'] = 'TOCOME'\n",
    "cnns['RGBA L. Border'] = 'TOCOME'\n",
    "cnns['RGB No Border (+DO)'] = 'TOCOME'\n",
    "cnns['RGBA Border (+DO)'] = 'TOCOME'\n",
    "cnns['RGBA L. Border (+DO)'] = 'TOCOME'"
   ]
  },
  {
   "cell_type": "code",
   "execution_count": 34,
   "metadata": {
    "collapsed": false
   },
   "outputs": [],
   "source": [
    "a = Stats.quantify_cnns(cnns)"
   ]
  },
  {
   "cell_type": "code",
   "execution_count": 35,
   "metadata": {
    "collapsed": false
   },
   "outputs": [
    {
     "data": {
      "text/html": [
       "<table><tr><td></td><td></td><td></td><td></td><td></td><td></td><td></td><td></td><td>median VI improvement</td></tr><tr><td></td><td>Cost [s]</td><td>Valid. Loss</td><td>Valid. ACC</td><td>Test. ACC</td><td>Prec./Recall</td><td>F1 Score</td><td>ROC AUC</td><td>AC4 (autom.)</td><td>AC4 (guided)</td><td>LCylinder (autom.)</td><td>LCylinder (guided)</td></tr><tr><td>MergeNet No Border</td><td>81742.861</td><td>0.144</td><td>0.943</td><td>0.899</td><td>0.901/0.899</td><td>0.902</td><td>0.952</td><td>0.054</td><td>0.085</td><td>0.039</td><td>0.089</td></tr><tr><td>MergeNet Border</td><td>119422.596</td><td>0.14</td><td>0.947</td><td>0.905</td><td>0.907/0.905</td><td>0.908</td><td>0.958</td><td>-0.001</td><td>0.084</td><td>0.037</td><td>0.089</td></tr><tr><td>MergeNet L. Border</td><td>114737.191</td><td>0.163</td><td>0.936</td><td>0.896</td><td>0.9/0.896</td><td>0.901</td><td>0.951</td><td>0.021</td><td>0.084</td><td>0.031</td><td>0.089</td></tr><tr><td>MergeNet No Border (+DO)</td><td>336806.09</td><td>0.073</td><td>0.977</td><td>0.906</td><td>0.906/0.906</td><td>0.907</td><td>0.96</td><td>-0.036</td><td>0.075</td><td>0.041</td><td>0.09</td></tr><tr><td>MergeNet Border (+DO)</td></tr><tr><td>MergeNet L. Border (+DO)</td><td>490329.378</td><td>0.07</td><td>0.982</td><td>0.908</td><td>0.908/0.908</td><td>0.909</td><td>0.965</td><td>0.02</td><td>0.077</td><td>0.055</td><td>0.09</td></tr><tr><td>RGB No Border</td></tr><tr><td>RGBA Border</td></tr><tr><td>RGBA L. Border</td></tr><tr><td>RGB No Border (+DO)</td></tr><tr><td>RGBA Border (+DO)</td></tr><tr><td>RGBA L. Border (+DO)</td></tr></table>"
      ],
      "text/plain": [
       "[['', '', '', '', '', '', '', '', 'median VI improvement'],\n",
       " ['',\n",
       "  'Cost [s]',\n",
       "  'Valid. Loss',\n",
       "  'Valid. ACC',\n",
       "  'Test. ACC',\n",
       "  'Prec./Recall',\n",
       "  'F1 Score',\n",
       "  'ROC AUC',\n",
       "  'AC4 (autom.)',\n",
       "  'AC4 (guided)',\n",
       "  'LCylinder (autom.)',\n",
       "  'LCylinder (guided)'],\n",
       " ['MergeNet No Border',\n",
       "  81742.861,\n",
       "  0.144,\n",
       "  0.943,\n",
       "  0.899,\n",
       "  '0.901/0.899',\n",
       "  0.902,\n",
       "  0.952,\n",
       "  0.054,\n",
       "  0.085,\n",
       "  0.039,\n",
       "  0.089],\n",
       " ['MergeNet Border',\n",
       "  119422.596,\n",
       "  0.14,\n",
       "  0.947,\n",
       "  0.905,\n",
       "  '0.907/0.905',\n",
       "  0.908,\n",
       "  0.958,\n",
       "  -0.001,\n",
       "  0.084,\n",
       "  0.037,\n",
       "  0.089],\n",
       " ['MergeNet L. Border',\n",
       "  114737.191,\n",
       "  0.163,\n",
       "  0.936,\n",
       "  0.896,\n",
       "  '0.9/0.896',\n",
       "  0.901,\n",
       "  0.951,\n",
       "  0.021,\n",
       "  0.084,\n",
       "  0.031,\n",
       "  0.089],\n",
       " ['MergeNet No Border (+DO)',\n",
       "  336806.09,\n",
       "  0.073,\n",
       "  0.977,\n",
       "  0.906,\n",
       "  '0.906/0.906',\n",
       "  0.907,\n",
       "  0.96,\n",
       "  -0.036,\n",
       "  0.075,\n",
       "  0.041,\n",
       "  0.09],\n",
       " ['MergeNet Border (+DO)'],\n",
       " ['MergeNet L. Border (+DO)',\n",
       "  490329.378,\n",
       "  0.07,\n",
       "  0.982,\n",
       "  0.908,\n",
       "  '0.908/0.908',\n",
       "  0.909,\n",
       "  0.965,\n",
       "  0.02,\n",
       "  0.077,\n",
       "  0.055,\n",
       "  0.09],\n",
       " ['RGB No Border'],\n",
       " ['RGBA Border'],\n",
       " ['RGBA L. Border'],\n",
       " ['RGB No Border (+DO)'],\n",
       " ['RGBA Border (+DO)'],\n",
       " ['RGBA L. Border (+DO)']]"
      ]
     },
     "execution_count": 35,
     "metadata": {},
     "output_type": "execute_result"
    }
   ],
   "source": [
    "a\n"
   ]
  },
  {
   "cell_type": "code",
   "execution_count": 12,
   "metadata": {
    "collapsed": false
   },
   "outputs": [
    {
     "data": {
      "text/plain": [
       "81743.0"
      ]
     },
     "execution_count": 12,
     "metadata": {},
     "output_type": "execute_result"
    }
   ],
   "source": [
    "round(81742.861414)"
   ]
  },
  {
   "cell_type": "code",
   "execution_count": 14,
   "metadata": {
    "collapsed": false
   },
   "outputs": [
    {
     "data": {
      "text/plain": [
       "0.14"
      ]
     },
     "execution_count": 14,
     "metadata": {},
     "output_type": "execute_result"
    }
   ],
   "source": [
    "round(0.143540860308, 2)"
   ]
  },
  {
   "cell_type": "code",
   "execution_count": 17,
   "metadata": {
    "collapsed": false
   },
   "outputs": [
    {
     "data": {
      "text/plain": [
       "0.896053275"
      ]
     },
     "execution_count": 17,
     "metadata": {},
     "output_type": "execute_result"
    }
   ],
   "source": [
    "(0.93097887 + 0.86112768) / 2"
   ]
  },
  {
   "cell_type": "code",
   "execution_count": 19,
   "metadata": {
    "collapsed": false
   },
   "outputs": [
    {
     "data": {
      "text/plain": [
       "0.900899455"
      ]
     },
     "execution_count": 19,
     "metadata": {},
     "output_type": "execute_result"
    }
   ],
   "source": [
    "(0.93097887 + 0.87082004) / 2"
   ]
  },
  {
   "cell_type": "code",
   "execution_count": null,
   "metadata": {
    "collapsed": true
   },
   "outputs": [],
   "source": []
  }
 ],
 "metadata": {
  "kernelspec": {
   "display_name": "Python 2",
   "language": "python",
   "name": "python2"
  },
  "language_info": {
   "codemirror_mode": {
    "name": "ipython",
    "version": 2
   },
   "file_extension": ".py",
   "mimetype": "text/x-python",
   "name": "python",
   "nbconvert_exporter": "python",
   "pygments_lexer": "ipython2",
   "version": "2.7.6"
  }
 },
 "nbformat": 4,
 "nbformat_minor": 0
}
