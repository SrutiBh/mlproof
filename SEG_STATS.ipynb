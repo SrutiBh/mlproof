{
 "cells": [
  {
   "cell_type": "code",
   "execution_count": 3,
   "metadata": {
    "collapsed": false
   },
   "outputs": [
    {
     "name": "stdout",
     "output_type": "stream",
     "text": [
      "The autoreload extension is already loaded. To reload it, use:\n",
      "  %reload_ext autoreload\n"
     ]
    },
    {
     "name": "stderr",
     "output_type": "stream",
     "text": [
      "mlproof/tifffile.py:1995: UserWarning: failed to import _tifffile.decodepackbits\n",
      "  warnings.warn(\"failed to import %s\" % module_function)\n",
      "mlproof/tifffile.py:1995: UserWarning: failed to import _tifffile.decodelzw\n",
      "  warnings.warn(\"failed to import %s\" % module_function)\n",
      "mlproof/tifffile.py:1995: UserWarning: failed to import _tifffile.unpackints\n",
      "  warnings.warn(\"failed to import %s\" % module_function)\n"
     ]
    }
   ],
   "source": [
    "%load_ext autoreload\n",
    "%autoreload 2\n",
    "\n",
    "import nolearn.lasagne.visualize \n",
    "\n",
    "import collections\n",
    "import cPickle as pickle\n",
    "import lasagne\n",
    "import mahotas as mh\n",
    "import numpy as np\n",
    "import os\n",
    "import time\n",
    "\n",
    "import mlproof as mlp\n",
    "\n",
    "from matplotlib.pyplot import imshow\n",
    "import matplotlib.pyplot as plt\n",
    "%matplotlib inline"
   ]
  },
  {
   "cell_type": "code",
   "execution_count": 15,
   "metadata": {
    "collapsed": false
   },
   "outputs": [
    {
     "name": "stdout",
     "output_type": "stream",
     "text": [
      "Loading z00000000.png\n",
      "Loading z00000001.png\n",
      "Loading z00000002.png\n",
      "Loading z00000003.png\n",
      "Loading z00000004.png\n",
      "Loading z00000005.png\n",
      "Loading z00000006.png\n",
      "Loading z00000007.png\n",
      "Loading z00000008.png\n",
      "Loading z00000009.png\n",
      "Loading z00000010.png\n",
      "Loading z00000011.png\n",
      "Loading z00000012.png\n",
      "Loading z00000013.png\n",
      "Loading z00000014.png\n",
      "Loading z00000015.png\n",
      "Loading z00000016.png\n",
      "Loading z00000017.png\n",
      "Loading z00000018.png\n",
      "Loading z00000019.png\n",
      "Loading z00000020.png\n",
      "Loading z00000021.png\n",
      "Loading z00000022.png\n",
      "Loading z00000023.png\n",
      "Loading z00000024.png\n",
      "Loading z00000025.png\n",
      "Loading z00000026.png\n",
      "Loading z00000027.png\n",
      "Loading z00000028.png\n",
      "Loading z00000029.png\n",
      "Loading z00000030.png\n",
      "Loading z00000031.png\n",
      "Loading z00000032.png\n",
      "Loading z00000033.png\n",
      "Loading z00000034.png\n",
      "Loading z00000035.png\n",
      "Loading z00000036.png\n",
      "Loading z00000037.png\n",
      "Loading z00000038.png\n",
      "Loading z00000039.png\n",
      "Loading z00000040.png\n",
      "Loading z00000041.png\n",
      "Loading z00000042.png\n",
      "Loading z00000043.png\n",
      "Loading z00000044.png\n",
      "Loading z00000045.png\n",
      "Loading z00000046.png\n",
      "Loading z00000047.png\n",
      "Loading z00000048.png\n",
      "Loading z00000049.png\n",
      "Loading z00000050.png\n",
      "Loading z00000051.png\n",
      "Loading z00000052.png\n",
      "Loading z00000053.png\n",
      "Loading z00000054.png\n",
      "Loading z00000055.png\n",
      "Loading z00000056.png\n",
      "Loading z00000057.png\n",
      "Loading z00000058.png\n",
      "Loading z00000059.png\n",
      "Loading z00000060.png\n",
      "Loading z00000061.png\n",
      "Loading z00000062.png\n",
      "Loading z00000063.png\n",
      "Loading z00000064.png\n",
      "Loading z00000065.png\n",
      "Loading z00000066.png\n",
      "Loading z00000067.png\n",
      "Loading z00000068.png\n",
      "Loading z00000069.png\n",
      "Loading z00000070.png\n",
      "Loading z00000071.png\n",
      "Loading z00000072.png\n",
      "Loading z00000073.png\n",
      "Loading z00000074.png\n",
      "Loading z00000075.png\n",
      "Loading z00000076.png\n",
      "Loading z00000077.png\n",
      "Loading z00000078.png\n",
      "Loading z00000079.png\n",
      "Loading z00000080.png\n",
      "Loading z00000081.png\n",
      "Loading z00000082.png\n",
      "Loading z00000083.png\n",
      "Loading z00000084.png\n",
      "Loading z00000085.png\n",
      "Loading z00000086.png\n",
      "Loading z00000087.png\n",
      "Loading z00000088.png\n",
      "Loading z00000089.png\n",
      "Loading z00000090.png\n",
      "Loading z00000091.png\n",
      "Loading z00000092.png\n",
      "Loading z00000093.png\n",
      "Loading z00000094.png\n",
      "Loading z00000095.png\n",
      "Loading z00000096.png\n",
      "Loading z00000097.png\n",
      "Loading z00000098.png\n",
      "Loading z00000099.png\n",
      "Loading z00000100.png\n",
      "Loading z00000101.png\n",
      "Loading z00000102.png\n",
      "Loading z00000103.png\n",
      "Loading z00000104.png\n",
      "Loading z00000105.png\n",
      "Loading z00000106.png\n",
      "Loading z00000107.png\n",
      "Loading z00000108.png\n",
      "Loading z00000109.png\n",
      "Loading z00000110.png\n",
      "Loading z00000111.png\n",
      "Loading z00000112.png\n",
      "Loading z00000113.png\n",
      "Loading z00000114.png\n",
      "Loading z00000115.png\n",
      "Loading z00000116.png\n",
      "Loading z00000117.png\n",
      "Loading z00000118.png\n",
      "Loading z00000119.png\n",
      "Loading z00000120.png\n",
      "Loading z00000121.png\n",
      "Loading z00000122.png\n",
      "Loading z00000123.png\n",
      "Loading z00000124.png\n",
      "Loading z00000125.png\n",
      "Loading z00000126.png\n",
      "Loading z00000127.png\n",
      "Loading z00000128.png\n",
      "Loading z00000129.png\n",
      "Loading z00000130.png\n",
      "Loading z00000131.png\n",
      "Loading z00000132.png\n",
      "Loading z00000133.png\n",
      "Loading z00000134.png\n",
      "Loading z00000135.png\n",
      "Loading z00000136.png\n",
      "Loading z00000137.png\n",
      "Loading z00000138.png\n",
      "Loading z00000139.png\n",
      "Loading z00000140.png\n",
      "Loading z00000141.png\n",
      "Loading z00000142.png\n",
      "Loading z00000143.png\n",
      "Loading z00000144.png\n",
      "Loading z00000145.png\n",
      "Loading z00000146.png\n",
      "Loading z00000147.png\n",
      "Loading z00000148.png\n",
      "Loading z00000149.png\n",
      "Loading z00000150.png\n",
      "Loading z00000151.png\n",
      "Loading z00000152.png\n",
      "Loading z00000153.png\n",
      "Loading z00000154.png\n",
      "Loading z00000155.png\n",
      "Loading z00000156.png\n",
      "Loading z00000157.png\n",
      "Loading z00000158.png\n",
      "Loading z00000159.png\n",
      "Loading z00000160.png\n",
      "Loading z00000161.png\n",
      "Loading z00000162.png\n",
      "Loading z00000163.png\n",
      "Loading z00000164.png\n",
      "Loading z00000165.png\n",
      "Loading z00000166.png\n",
      "Loading z00000167.png\n",
      "Loading z00000168.png\n",
      "Loading z00000169.png\n",
      "Loading z00000170.png\n",
      "Loading z00000171.png\n",
      "Loading z00000172.png\n",
      "Loading z00000173.png\n",
      "Loading z00000174.png\n",
      "Loading z00000175.png\n",
      "Loading z00000176.png\n",
      "Loading z00000177.png\n",
      "Loading z00000178.png\n",
      "Loading z00000179.png\n",
      "Loading z00000180.png\n",
      "Loading z00000181.png\n",
      "Loading z00000182.png\n",
      "Loading z00000183.png\n",
      "Loading z00000184.png\n",
      "Loading z00000185.png\n",
      "Loading z00000186.png\n",
      "Loading z00000187.png\n",
      "Loading z00000188.png\n",
      "Loading z00000189.png\n",
      "Loading z00000190.png\n",
      "Loading z00000191.png\n",
      "Loading z00000192.png\n",
      "Loading z00000193.png\n",
      "Loading z00000194.png\n",
      "Loading z00000195.png\n",
      "Loading z00000196.png\n",
      "Loading z00000197.png\n",
      "Loading z00000198.png\n",
      "Loading z00000199.png\n",
      "Loading z00000200.png\n",
      "Loading z00000201.png\n",
      "Loading z00000202.png\n",
      "Loading z00000203.png\n",
      "Loading z00000204.png\n",
      "Loading z00000205.png\n",
      "Loading z00000206.png\n",
      "Loading z00000207.png\n",
      "Loading z00000208.png\n",
      "Loading z00000209.png\n",
      "Loading z00000210.png\n",
      "Loading z00000211.png\n",
      "Loading z00000212.png\n",
      "Loading z00000213.png\n",
      "Loading z00000214.png\n",
      "Loading z00000215.png\n",
      "Loading z00000216.png\n",
      "Loading z00000217.png\n",
      "Loading z00000218.png\n",
      "Loading z00000219.png\n",
      "Loading z00000220.png\n",
      "Loading z00000221.png\n",
      "Loading z00000222.png\n",
      "Loading z00000223.png\n",
      "Loading z00000224.png\n",
      "Loading z00000225.png\n",
      "Loading z00000226.png\n",
      "Loading z00000227.png\n",
      "Loading z00000228.png\n",
      "Loading z00000229.png\n",
      "Loading z00000230.png\n",
      "Loading z00000231.png\n",
      "Loading z00000232.png\n",
      "Loading z00000233.png\n",
      "Loading z00000234.png\n",
      "Loading z00000235.png\n",
      "Loading z00000236.png\n",
      "Loading z00000237.png\n",
      "Loading z00000238.png\n",
      "Loading z00000239.png\n",
      "Loading z00000240.png\n",
      "Loading z00000241.png\n",
      "Loading z00000242.png\n",
      "Loading z00000243.png\n",
      "Loading z00000244.png\n",
      "Loading z00000245.png\n",
      "Loading z00000246.png\n",
      "Loading z00000247.png\n",
      "Loading z00000248.png\n",
      "Loading z00000249.png\n",
      "Loading z00000250.png\n",
      "Loading z00000251.png\n",
      "Loading z00000252.png\n",
      "Loading z00000253.png\n",
      "Loading z00000254.png\n",
      "Loading z00000255.png\n",
      "Loading z00000256.png\n",
      "Loading z00000257.png\n",
      "Loading z00000258.png\n",
      "Loading z00000259.png\n",
      "Loading z00000260.png\n",
      "Loading z00000261.png\n",
      "Loading z00000262.png\n",
      "Loading z00000263.png\n",
      "Loading z00000264.png\n",
      "Loading z00000265.png\n",
      "Loading z00000266.png\n",
      "Loading z00000267.png\n",
      "Loading z00000268.png\n",
      "Loading z00000269.png\n",
      "Loading z00000270.png\n",
      "Loading z00000271.png\n",
      "Loading z00000272.png\n",
      "Loading z00000273.png\n",
      "Loading z00000274.png\n",
      "Loading z00000275.png\n",
      "Loading z00000276.png\n",
      "Loading z00000277.png\n",
      "Loading z00000278.png\n",
      "Loading z00000279.png\n",
      "Loading z00000280.png\n",
      "Loading z00000281.png\n",
      "Loading z00000282.png\n",
      "Loading z00000283.png\n",
      "Loading z00000284.png\n",
      "Loading z00000285.png\n",
      "Loading z00000286.png\n",
      "Loading z00000287.png\n",
      "Loading z00000288.png\n",
      "Loading z00000289.png\n",
      "Loading z00000290.png\n",
      "Loading z00000291.png\n",
      "Loading z00000292.png\n",
      "Loading z00000293.png\n",
      "Loading z00000294.png\n",
      "Loading z00000295.png\n",
      "Loading z00000296.png\n",
      "Loading z00000297.png\n",
      "Loading z00000298.png\n",
      "Loading z00000299.png\n"
     ]
    }
   ],
   "source": [
    "no_segments_gold = 0\n",
    "no_segments_rhoana = 0\n",
    "for z in range(300):\n",
    "    image, prob, mask, gold, rhoana = mlp.Util.read_section('/home/d/data/cylinder/', z)\n",
    "    gold_labels = mlp.Util.get_histogram(gold)\n",
    "    rhoana_labels = mlp.Util.get_histogram(rhoana)\n",
    "    no_segments_gold += len(gold_labels)\n",
    "    no_segments_rhoana += len(rhoana_labels)"
   ]
  },
  {
   "cell_type": "code",
   "execution_count": 9,
   "metadata": {
    "collapsed": false
   },
   "outputs": [
    {
     "data": {
      "text/plain": [
       "array([4194304], dtype=uint32)"
      ]
     },
     "execution_count": 9,
     "metadata": {},
     "output_type": "execute_result"
    }
   ],
   "source": [
    "gold_labels"
   ]
  },
  {
   "cell_type": "code",
   "execution_count": 10,
   "metadata": {
    "collapsed": false
   },
   "outputs": [
    {
     "data": {
      "text/plain": [
       "array([4194304], dtype=uint32)"
      ]
     },
     "execution_count": 10,
     "metadata": {},
     "output_type": "execute_result"
    }
   ],
   "source": [
    "rhoana_labels"
   ]
  },
  {
   "cell_type": "code",
   "execution_count": 12,
   "metadata": {
    "collapsed": false
   },
   "outputs": [
    {
     "data": {
      "text/plain": [
       "<matplotlib.image.AxesImage at 0x7f9566f4a550>"
      ]
     },
     "execution_count": 12,
     "metadata": {},
     "output_type": "execute_result"
    },
    {
     "data": {
      "image/png": "[encoded data removed]",
      "text/plain": [
       "<matplotlib.figure.Figure at 0x7f9567003f50>"
      ]
     },
     "metadata": {},
     "output_type": "display_data"
    }
   ],
   "source": [
    "imshow(rhoana)"
   ]
  },
  {
   "cell_type": "code",
   "execution_count": 16,
   "metadata": {
    "collapsed": false
   },
   "outputs": [
    {
     "data": {
      "text/plain": [
       "187433"
      ]
     },
     "execution_count": 16,
     "metadata": {},
     "output_type": "execute_result"
    }
   ],
   "source": [
    "no_segments_gold"
   ]
  },
  {
   "cell_type": "code",
   "execution_count": 17,
   "metadata": {
    "collapsed": false
   },
   "outputs": [
    {
     "data": {
      "text/plain": [
       "499658"
      ]
     },
     "execution_count": 17,
     "metadata": {},
     "output_type": "execute_result"
    }
   ],
   "source": [
    "no_segments_rhoana"
   ]
  },
  {
   "cell_type": "code",
   "execution_count": null,
   "metadata": {
    "collapsed": true
   },
   "outputs": [],
   "source": []
  }
 ],
 "metadata": {
  "kernelspec": {
   "display_name": "Python 2",
   "language": "python",
   "name": "python2"
  },
  "language_info": {
   "codemirror_mode": {
    "name": "ipython",
    "version": 2
   },
   "file_extension": ".py",
   "mimetype": "text/x-python",
   "name": "python",
   "nbconvert_exporter": "python",
   "pygments_lexer": "ipython2",
   "version": "2.7.6"
  }
 },
 "nbformat": 4,
 "nbformat_minor": 0
}
