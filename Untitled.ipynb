{
 "cells": [
  {
   "cell_type": "code",
   "execution_count": 11,
   "metadata": {
    "collapsed": false
   },
   "outputs": [],
   "source": [
    "import ocpy.access\n",
    "import os"
   ]
  },
  {
   "cell_type": "code",
   "execution_count": 18,
   "metadata": {
    "collapsed": false
   },
   "outputs": [
    {
     "name": "stdout",
     "output_type": "stream",
     "text": [
      "{u'channels': {u'annotation': {u'windowrange': [0, 0], u'description': u'annotation', u'datatype': u'uint32', u'channel_type': u'annotation', u'readonly': 0, u'propagate': 0, u'exceptions': 0, u'resolution': 0}}, u'project': {u'version': u'0.0', u'description': u'ac4', u'name': u'ac4'}, u'metadata': {}, u'dataset': {u'description': u'kasthuri11', u'voxelres': {u'1': [8.0, 8.0, 40.0], u'0': [4.0, 4.0, 40.0], u'3': [32.0, 32.0, 40.0], u'2': [16.0, 16.0, 40.0], u'5': [128.0, 128.0, 40.0], u'4': [64.0, 64.0, 40.0], u'7': [512.0, 512.0, 40.0], u'6': [256.0, 256.0, 40.0]}, u'timerange': [0, 0], u'scaling': u'zslices', u'neariso_offset': {u'1': [0.0, 0.0, 1.0], u'0': [0.0, 0.0, 1.0], u'3': [0.0, 0.0, 1.0], u'2': [0.0, 0.0, 1.0], u'5': [0.0, 0.0, 0.3333333333333333], u'4': [0.0, 0.0, 0.5], u'7': [0.0, 0.0, 0.07692307692307693], u'6': [0.0, 0.0, 0.16666666666666666]}, u'cube_dimension': {u'1': [128, 128, 16], u'0': [128, 128, 16], u'3': [128, 128, 16], u'2': [128, 128, 16], u'5': [64, 64, 64], u'4': [128, 128, 16], u'7': [64, 64, 64], u'6': [64, 64, 64]}, u'imagesize': {u'1': [10752, 13312, 1850], u'0': [21504, 26624, 1850], u'3': [2688, 3328, 1850], u'2': [5376, 6656, 1850], u'5': [672, 832, 1850], u'4': [1344, 1664, 1850], u'7': [168, 208, 1850], u'6': [336, 416, 1850]}, u'offset': {u'1': [0, 0, 1], u'0': [0, 0, 1], u'3': [0, 0, 1], u'2': [0, 0, 1], u'5': [0, 0, 1], u'4': [0, 0, 1], u'7': [0, 0, 1], u'6': [0, 0, 1]}, u'neariso_imagesize': {u'1': [10752, 13312, 1850], u'0': [21504, 26624, 1850], u'3': [2688, 3328, 1850], u'2': [5376, 6656, 1850], u'5': [672, 832, 616], u'4': [1344, 1664, 925], u'7': [168, 208, 142], u'6': [336, 416, 308]}, u'neariso_voxelres': {u'1': [8.0, 8.0, 40.0], u'0': [4.0, 4.0, 40.0], u'3': [32.0, 32.0, 40.0], u'2': [16.0, 16.0, 40.0], u'5': [128.0, 128.0, 120.0], u'4': [64.0, 64.0, 80.0], u'7': [512.0, 512.0, 520.0], u'6': [256.0, 256.0, 240.0]}, u'neariso_scaledown': {u'1': 1, u'0': 1, u'3': 1, u'2': 1, u'5': 3, u'4': 2, u'7': 13, u'6': 6}, u'resolutions': [0, 1, 2, 3, 4, 5, 6, 7], u'scalinglevels': 7, u'name': u'kasthuri11'}}\n",
      "Downloading approximately 56.5656 MB.\n",
      "\n",
      "Directory /downloads/ac4 already exists, not creating.\n",
      "Downloading 0-1\n",
      " !! Error encountered... Trying again in 5s...\n",
      " !! Failed on hdf5/openconnecto.me-ocp-ca-ac4-annotation-hdf5-7-000000,000168-000000,000208-000000,000001.hdf5\n",
      "Downloading 1-65\n",
      " !! Error encountered... Trying again in 5s...\n"
     ]
    },
    {
     "ename": "KeyboardInterrupt",
     "evalue": "",
     "output_type": "error",
     "traceback": [
      "\u001b[1;31m---------------------------------------------------------------------------\u001b[0m",
      "\u001b[1;31mKeyboardInterrupt\u001b[0m                         Traceback (most recent call last)",
      "\u001b[1;32m<ipython-input-18-4b05cc75c8c4>\u001b[0m in \u001b[0;36m<module>\u001b[1;34m()\u001b[0m\n\u001b[0;32m     31\u001b[0m                                 \u001b[0my_start\u001b[0m\u001b[1;33m=\u001b[0m\u001b[1;36m0\u001b[0m\u001b[1;33m,\u001b[0m              \u001b[0my_stop\u001b[0m\u001b[1;33m=\u001b[0m\u001b[0mbounds\u001b[0m\u001b[1;33m[\u001b[0m\u001b[1;36m1\u001b[0m\u001b[1;33m]\u001b[0m\u001b[1;33m,\u001b[0m\u001b[1;33m\u001b[0m\u001b[0m\n\u001b[0;32m     32\u001b[0m                                 \u001b[0mz_start\u001b[0m\u001b[1;33m=\u001b[0m\u001b[0mz_bounds\u001b[0m\u001b[1;33m[\u001b[0m\u001b[1;36m0\u001b[0m\u001b[1;33m]\u001b[0m\u001b[1;33m,\u001b[0m    \u001b[0mz_stop\u001b[0m\u001b[1;33m=\u001b[0m\u001b[0mz_bounds\u001b[0m\u001b[1;33m[\u001b[0m\u001b[1;36m1\u001b[0m\u001b[1;33m]\u001b[0m\u001b[1;33m,\u001b[0m\u001b[1;33m\u001b[0m\u001b[0m\n\u001b[1;32m---> 33\u001b[1;33m                                 location=DATA_LOCATION, channel='annotation', fmt='png')\n\u001b[0m\u001b[0;32m     34\u001b[0m \u001b[1;33m\u001b[0m\u001b[0m\n\u001b[0;32m     35\u001b[0m \u001b[1;31m# Let's store our failed filenames in case we want to check these errors later\u001b[0m\u001b[1;33m\u001b[0m\u001b[1;33m\u001b[0m\u001b[0m\n",
      "\u001b[1;32m/home/d/nolearn/local/lib/python2.7/site-packages/ocpy/access/download.pyc\u001b[0m in \u001b[0;36mget_data\u001b[1;34m(token, channel, x_start, x_stop, y_start, y_stop, z_start, z_stop, resolution, fmt, server, location, ask_before_writing, chunk_depth)\u001b[0m\n\u001b[0;32m    150\u001b[0m             \u001b[0mstop_at\u001b[0m \u001b[1;33m=\u001b[0m \u001b[0mmin\u001b[0m\u001b[1;33m(\u001b[0m\u001b[0mz_stop\u001b[0m\u001b[1;33m,\u001b[0m \u001b[0mcursor\u001b[0m \u001b[1;33m+\u001b[0m \u001b[0mz_cube_size\u001b[0m\u001b[1;33m)\u001b[0m\u001b[1;33m\u001b[0m\u001b[0m\n\u001b[0;32m    151\u001b[0m             result = _download_data(server, token, channel, fmt, resolution,\n\u001b[1;32m--> 152\u001b[1;33m                                     x_start, x_stop, y_start, y_stop, cursor, stop_at, \"hdf5\")\n\u001b[0m\u001b[0;32m    153\u001b[0m             \u001b[0mcursor\u001b[0m \u001b[1;33m=\u001b[0m \u001b[0mstop_at\u001b[0m\u001b[1;33m\u001b[0m\u001b[0m\n\u001b[0;32m    154\u001b[0m             \u001b[1;32mif\u001b[0m \u001b[0mresult\u001b[0m\u001b[1;33m[\u001b[0m\u001b[1;36m0\u001b[0m\u001b[1;33m]\u001b[0m \u001b[1;32mis\u001b[0m \u001b[0mFalse\u001b[0m\u001b[1;33m:\u001b[0m\u001b[1;33m\u001b[0m\u001b[0m\n",
      "\u001b[1;32m/home/d/nolearn/local/lib/python2.7/site-packages/ocpy/access/download.pyc\u001b[0m in \u001b[0;36m_download_data\u001b[1;34m(server, token, channel, fmt, resolution, x_start, x_stop, y_start, y_stop, z_start, z_stop, location)\u001b[0m\n\u001b[0;32m    201\u001b[0m         \u001b[1;31m# Give the server five seconds to catch its breath\u001b[0m\u001b[1;33m\u001b[0m\u001b[1;33m\u001b[0m\u001b[0m\n\u001b[0;32m    202\u001b[0m         \u001b[1;31m# TODO: ugh\u001b[0m\u001b[1;33m\u001b[0m\u001b[1;33m\u001b[0m\u001b[0m\n\u001b[1;32m--> 203\u001b[1;33m         \u001b[0mtime\u001b[0m\u001b[1;33m.\u001b[0m\u001b[0msleep\u001b[0m\u001b[1;33m(\u001b[0m\u001b[1;36m5\u001b[0m\u001b[1;33m)\u001b[0m\u001b[1;33m\u001b[0m\u001b[0m\n\u001b[0m\u001b[0;32m    204\u001b[0m         \u001b[0mreq2\u001b[0m \u001b[1;33m=\u001b[0m \u001b[0mrequests\u001b[0m\u001b[1;33m.\u001b[0m\u001b[0mget\u001b[0m\u001b[1;33m(\u001b[0m\u001b[0mrequest_url\u001b[0m\u001b[1;33m,\u001b[0m \u001b[0mstream\u001b[0m\u001b[1;33m=\u001b[0m\u001b[0mTrue\u001b[0m\u001b[1;33m)\u001b[0m\u001b[1;33m\u001b[0m\u001b[0m\n\u001b[0;32m    205\u001b[0m         \u001b[1;32mif\u001b[0m \u001b[0mreq2\u001b[0m\u001b[1;33m.\u001b[0m\u001b[0mstatus_code\u001b[0m \u001b[1;32mis\u001b[0m \u001b[1;32mnot\u001b[0m \u001b[1;36m200\u001b[0m\u001b[1;33m:\u001b[0m\u001b[1;33m\u001b[0m\u001b[0m\n",
      "\u001b[1;31mKeyboardInterrupt\u001b[0m: "
     ]
    }
   ],
   "source": [
    "\n",
    "# Pick a token whose dataset you wish to download.\n",
    "TOKEN = 'ac4'\n",
    "RESOLUTION = '7'\n",
    "DATA_LOCATION = \"downloads/\" + TOKEN\n",
    " \n",
    "# Find the bounds of the dataset using `get_info()`:\n",
    "project_information = ocpy.access.get_info(TOKEN)\n",
    "print project_information\n",
    "\n",
    "bounds = project_information['dataset']['imagesize'][RESOLUTION]\n",
    "z_bounds = [0,bounds[2]]\n",
    "\n",
    "# Before we download, let's store the starting directory so we can\n",
    "# traverse the filesystem without worrying about getting lost:\n",
    "import os\n",
    "starting_directory = os.getcwd()\n",
    "\n",
    "os.makedirs(DATA_LOCATION)\n",
    "\n",
    "# Now let's download the dataset.\n",
    "# The `get_data()` function returns a 2-tuple: (successes, failures).\n",
    "# NOTE: This is going to take a\n",
    "#                            ...REALLY\n",
    "#                                  ...LONG\n",
    "#                                      ...TIME\n",
    "#                                           so go take a nap.\n",
    "successes, failures = ocpy.access.get_data(\n",
    "                                token=TOKEN,            resolution=RESOLUTION,\n",
    "                                x_start=0,              x_stop=bounds[0],\n",
    "                                y_start=0,              y_stop=bounds[1],\n",
    "                                z_start=z_bounds[0],    z_stop=z_bounds[1],\n",
    "                                location=DATA_LOCATION, channel='annotation', fmt='png')\n",
    "\n",
    "# Let's store our failed filenames in case we want to check these errors later\n",
    "with open(DATA_LOCATION + '/errors.log', 'a') as f:\n",
    "    for fail in failures:\n",
    "        f.write(fail + \"\\n\")\n",
    " \n",
    "# Create a directory for exported PNG files:\n",
    "os.mkdir(DATA_LOCATION + \"/png\")\n",
    "os.chdir(DATA_LOCATION + \"/hdf5\")\n",
    " \n",
    "# We'll need a few more libraries for this, including h5py and ocpy's\n",
    "# Requests-handling and PNG-handling library:\n",
    "from ocpy.convert import png\n",
    "from ocpy.Request import *\n",
    "import glob\n",
    "import h5py\n",
    " \n",
    "# Now convert the HDF5 files to PNG slices (2D, one per layer):\n",
    "for filename in glob.glob(\"*.hdf5\"):\n",
    "    # First get the actual parameters from the HDF5 file.\n",
    "    req = Request(filename)\n",
    "    i = int(req.z_start)\n",
    " \n",
    "    print(\"Slicing \" + filename)\n",
    "    f = h5py.File(filename, \"r\")\n",
    "    # OCP stores data inside the 'cutout' h5 dataset\n",
    "    data_layers = f.get('CUTOUT')\n",
    " \n",
    "    out_files = []\n",
    "    for layer in data_layers:\n",
    "        # Filename is formatted like the request URL but `/` is `-`\n",
    "        png_file = filename + \".\" + str(i).zfill(6) + \".png\"\n",
    " \n",
    "        out_files.append(\n",
    "            png.export_png(\"../png/\" + png_file, layer))\n",
    "        i += 1\n",
    "    # if you want, you have access to the out_files array here.\n",
    " \n",
    "os.chdir(starting_directory)"
   ]
  },
  {
   "cell_type": "code",
   "execution_count": null,
   "metadata": {
    "collapsed": true
   },
   "outputs": [],
   "source": [
    "os.m"
   ]
  }
 ],
 "metadata": {
  "kernelspec": {
   "display_name": "Python 2",
   "language": "python",
   "name": "python2"
  },
  "language_info": {
   "codemirror_mode": {
    "name": "ipython",
    "version": 2
   },
   "file_extension": ".py",
   "mimetype": "text/x-python",
   "name": "python",
   "nbconvert_exporter": "python",
   "pygments_lexer": "ipython2",
   "version": "2.7.6"
  }
 },
 "nbformat": 4,
 "nbformat_minor": 0
}
