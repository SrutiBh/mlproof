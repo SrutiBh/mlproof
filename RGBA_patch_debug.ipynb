{
 "cells": [
  {
   "cell_type": "code",
   "execution_count": 1,
   "metadata": {
    "collapsed": false
   },
   "outputs": [
    {
     "name": "stderr",
     "output_type": "stream",
     "text": [
      "mlproof/tifffile.py:1995: UserWarning: failed to import _tifffile.decodepackbits\n",
      "  warnings.warn(\"failed to import %s\" % module_function)\n",
      "mlproof/tifffile.py:1995: UserWarning: failed to import _tifffile.decodelzw\n",
      "  warnings.warn(\"failed to import %s\" % module_function)\n",
      "mlproof/tifffile.py:1995: UserWarning: failed to import _tifffile.unpackints\n",
      "  warnings.warn(\"failed to import %s\" % module_function)\n"
     ]
    }
   ],
   "source": [
    "%load_ext autoreload\n",
    "%autoreload 2\n",
    "\n",
    "\n",
    "import mahotas as mh\n",
    "import numpy as np\n",
    "\n",
    "from matplotlib.pyplot import imshow\n",
    "import matplotlib.pyplot as plt\n",
    "%matplotlib inline\n",
    "\n",
    "import mlproof as mlp"
   ]
  },
  {
   "cell_type": "code",
   "execution_count": 2,
   "metadata": {
    "collapsed": true
   },
   "outputs": [],
   "source": [
    "training = np.load('/home/d/patches/cylinder1_rgba/test_border.npz', mmap_mode='r')"
   ]
  },
  {
   "cell_type": "code",
   "execution_count": 3,
   "metadata": {
    "collapsed": true
   },
   "outputs": [],
   "source": [
    "training_targets = np.load('/home/d/patches/cylinder1_rgba/test_border_targets.npz', mmap_mode='r')"
   ]
  },
  {
   "cell_type": "code",
   "execution_count": 4,
   "metadata": {
    "collapsed": false
   },
   "outputs": [
    {
     "name": "stderr",
     "output_type": "stream",
     "text": [
      "Using gpu device 0: GeForce GTX TITAN (CNMeM is disabled, CuDNN 4007)\n",
      "/home/d/nolearn/local/lib/python2.7/site-packages/theano/tensor/signal/downsample.py:6: UserWarning: downsample module has been moved to the theano.tensor.signal.pool module.\n",
      "  \"downsample module has been moved to the theano.tensor.signal.pool module.\")\n"
     ]
    }
   ],
   "source": [
    "import mlproof.nets as nets"
   ]
  },
  {
   "cell_type": "code",
   "execution_count": 9,
   "metadata": {
    "collapsed": false
   },
   "outputs": [
    {
     "name": "stdout",
     "output_type": "stream",
     "text": [
      "CNN configuration: \n",
      "    Our CNN with image, prob, merged_array, border_overlap as RGBA.\n",
      "    \n"
     ]
    }
   ],
   "source": [
    "cnn = nets.RGBANet()"
   ]
  },
  {
   "cell_type": "code",
   "execution_count": 10,
   "metadata": {
    "collapsed": false
   },
   "outputs": [
    {
     "name": "stdout",
     "output_type": "stream",
     "text": [
      "# Neural Network with 1558642 learnable parameters\n",
      "\n",
      "## Layer information\n",
      "\n",
      "  #  name      size\n",
      "---  --------  --------\n",
      "  0  input     4x75x75\n",
      "  1  conv1     64x63x63\n",
      "  2  pool1     64x31x31\n",
      "  3  conv2     48x19x19\n",
      "  4  pool2     48x9x9\n",
      "  5  dropout2  48x9x9\n",
      "  6  hidden3   256\n",
      "  7  dropout3  256\n",
      "  8  output    2\n",
      "\n",
      "  epoch    train loss    valid loss    train/val    valid acc  dur\n",
      "-------  ------------  ------------  -----------  -----------  ------\n",
      "      1       \u001b[36m0.44918\u001b[0m       \u001b[32m0.38793\u001b[0m      1.15788      0.83544  46.57s\n"
     ]
    },
    {
     "data": {
      "text/plain": [
       "NeuralNet(X_tensor_type=None,\n",
       "     batch_iterator_test=<mlproof.nets.helper.MyTestBatchIterator object at 0x7fb8af152990>,\n",
       "     batch_iterator_train=<mlproof.nets.helper.MyBatchIterator object at 0x7fb8af167c10>,\n",
       "     check_input=True, conv1_filter_size=(13, 13), conv1_num_filters=64,\n",
       "     conv2_filter_size=(13, 13), conv2_num_filters=48, custom_scores=None,\n",
       "     dropout2_p=0.2, dropout3_p=0.5,\n",
       "     hidden3_nonlinearity=<function rectify at 0x7fb9487d8cf8>,\n",
       "     hidden3_num_units=256, input_shape=(None, 4, 75, 75),\n",
       "     layers=[('input', <class 'lasagne.layers.input.InputLayer'>), ('conv1', <class 'lasagne.layers.conv.Conv2DLayer'>), ('pool1', <class 'lasagne.layers.pool.MaxPool2DLayer'>), ('conv2', <class 'lasagne.layers.conv.Conv2DLayer'>), ('pool2', <class 'lasagne.layers.pool.MaxPool2DLayer'>), ('dropout2', <cl...<class 'lasagne.layers.noise.DropoutLayer'>), ('output', <class 'lasagne.layers.dense.DenseLayer'>)],\n",
       "     loss=None, max_epochs=2000, more_params={},\n",
       "     objective=<function objective at 0x7fb9480b0de8>,\n",
       "     objective_loss_function=<function categorical_crossentropy at 0x7fb948399500>,\n",
       "     on_batch_finished=[],\n",
       "     on_epoch_finished=[<mlproof.nets.helper.AdjustVariable object at 0x7fb8af152710>, <mlproof.nets.helper.AdjustVariable object at 0x7fb8af152290>, <mlproof.nets.helper.EarlyStopping object at 0x7fb8af152850>, <nolearn.lasagne.handlers.PrintLog instance at 0x7fb8af108dd0>],\n",
       "     on_training_finished=[],\n",
       "     on_training_started=[<nolearn.lasagne.handlers.PrintLayerInfo instance at 0x7fb8af108e60>],\n",
       "     output_nonlinearity=<function softmax at 0x7fb9487d8c08>,\n",
       "     output_num_units=2, pool1_pool_size=(2, 2), pool2_pool_size=(2, 2),\n",
       "     regression=False,\n",
       "     train_split=<nolearn.lasagne.base.TrainSplit object at 0x7fb8af1529d0>,\n",
       "     update=<function nesterov_momentum at 0x7fb948399de8>,\n",
       "     update_learning_rate=<CudaNdarrayType(float32, scalar)>,\n",
       "     update_momentum=<CudaNdarrayType(float32, scalar)>,\n",
       "     use_label_encoder=False, verbose=True,\n",
       "     y_tensor_type=TensorType(int32, vector))"
      ]
     },
     "execution_count": 10,
     "metadata": {},
     "output_type": "execute_result"
    }
   ],
   "source": [
    "cnn.fit(training['rgba'], training_targets['rgba'].astype(np.uint8))"
   ]
  },
  {
   "cell_type": "code",
   "execution_count": null,
   "metadata": {
    "collapsed": true
   },
   "outputs": [],
   "source": []
  }
 ],
 "metadata": {
  "kernelspec": {
   "display_name": "Python 2",
   "language": "python",
   "name": "python2"
  },
  "language_info": {
   "codemirror_mode": {
    "name": "ipython",
    "version": 2
   },
   "file_extension": ".py",
   "mimetype": "text/x-python",
   "name": "python",
   "nbconvert_exporter": "python",
   "pygments_lexer": "ipython2",
   "version": "2.7.6"
  }
 },
 "nbformat": 4,
 "nbformat_minor": 0
}
